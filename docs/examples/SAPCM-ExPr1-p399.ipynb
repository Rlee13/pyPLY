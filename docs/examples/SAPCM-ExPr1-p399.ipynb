{
 "metadata": {
  "name": "SAPCM-ExPr1-p399"
 },
 "nbformat": 3,
 "nbformat_minor": 0,
 "worksheets": [
  {
   "cells": [
    {
     "cell_type": "heading",
     "level": 3,
     "metadata": {},
     "source": [
      "Example Problem 1 page 399 from Mark. E. Tuttle's, \"Structural Analysis of Polymeric Composite Materials\", first edition.\n"
     ]
    },
    {
     "cell_type": "code",
     "collapsed": false,
     "input": [
      "import pyPLY\n",
      "\n",
      "# see other examples for the parameters meaning\n",
      "\n",
      "GraphiteEpoxy = pyPLY.CompositeMaterial()\n",
      "GraphiteEpoxy.define(\"GraphiteEpoxy\", \"metric\", E11=170e9, E22=10e9, G12=13e9, niu12=0.3, thk=0.125e-3,\n",
      "             Sigma_ut0 = 1500e6, Sigma_uc0 = 1200e6, Sigma_ut90 = 50e6, Sigma_uc90 = 100e6, Tau_u = 75e6,\n",
      "             alpha_11 = -0.9e-6, alpha_22 = 27.0e-6, beta_11 = 150e-6, beta_22 = 4800e-6)\n",
      "\n",
      "layer1 = pyPLY.Lamina()\n",
      "layer2 = pyPLY.Lamina()\n",
      "layer3 = pyPLY.Lamina()\n",
      "layer4 = pyPLY.Lamina()\n",
      "layer5 = pyPLY.Lamina()\n",
      "layer6 = pyPLY.Lamina()\n",
      "\n",
      "layer1.define(\"Layer_1\", 1, 0)\n",
      "layer2.define(\"Layer_2\", 1, 30)\n",
      "layer3.define(\"Layer_3\", 1, 60)\n",
      "layer4.define(\"Layer_4\", 1, 60)\n",
      "layer5.define(\"Layer_5\", 1, 30)\n",
      "layer6.define(\"Layer_6\", 1, 0)\n",
      "\n",
      "layer1.update()\n",
      "layer2.update()\n",
      "layer3.update()\n",
      "layer4.update()\n",
      "layer5.update()\n",
      "layer6.update()\n",
      "\n",
      "laminate1 = pyPLY.Laminate()\n",
      "laminate1.add_Lamina(layer1)\n",
      "laminate1.add_Lamina(layer2)\n",
      "laminate1.add_Lamina(layer3)\n",
      "laminate1.add_Lamina(layer4)\n",
      "laminate1.add_Lamina(layer5)\n",
      "laminate1.add_Lamina(layer6)\n",
      "\n",
      "laminate1.update()\n",
      "\n",
      "load1 = pyPLY.Loading()\n",
      "criterion1 = pyPLY.PlyFailure()"
     ],
     "language": "python",
     "metadata": {},
     "outputs": [],
     "prompt_number": 2
    },
    {
     "cell_type": "heading",
     "level": 3,
     "metadata": {},
     "source": [
      "Results:"
     ]
    },
    {
     "cell_type": "heading",
     "level": 4,
     "metadata": {},
     "source": [
      "Apply a change in temperature of $\\Delta T=-155.0^\\circ C.$"
     ]
    },
    {
     "cell_type": "code",
     "collapsed": false,
     "input": [
      "load1.change_Load(0,0,0,0,0,0,-155.0,0)\n",
      "load1.apply_To(laminate1)"
     ],
     "language": "python",
     "metadata": {},
     "outputs": [],
     "prompt_number": 3
    },
    {
     "cell_type": "heading",
     "level": 4,
     "metadata": {},
     "source": [
      "and the results are..."
     ]
    },
    {
     "cell_type": "code",
     "collapsed": false,
     "input": [
      "print \"     plyNo\", \"sigma11\", \"      sigma22\", \"    tau12\"\n",
      "for i in range (0, 6):\n",
      "    stress = load1.list_ply_stresses_12[i*3 + 0]\n",
      "    print \"bottom  \", i+1, '{0:+.4}'.format(stress[0,0]), '{0:+.4e}'.format(stress[1,0]), '{0:+.4}'.format(stress[2,0])\n",
      "    stress = load1.list_ply_stresses_12[i*3 + 1]\n",
      "    print \"centroid\", i+1, '{0:+.4}'.format(stress[0,0]), '{0:+.4e}'.format(stress[1,0]), '{0:+.4}'.format(stress[2,0])\n",
      "    stress = load1.list_ply_stresses_12[i*3 + 2]\n",
      "    print \"top     \", i+1, '{0:+.4}'.format(stress[0,0]), '{0:+.4e}'.format(stress[1,0]), '{0:+.4}'.format(stress[2,0])\n"
     ],
     "language": "python",
     "metadata": {},
     "outputs": [
      {
       "output_type": "stream",
       "stream": "stdout",
       "text": [
        "     plyNo sigma11       sigma22     tau12\n",
        "bottom   1 -5.554e+07 +2.8356e+07 +2.283e+07\n",
        "centroid 1 -5.554e+07 +2.8356e+07 +2.283e+07\n",
        "top      1 -5.554e+07 +2.8356e+07 +2.283e+07\n",
        "bottom   2 +2.959e+07 +2.4788e+07 -1.863e-08\n",
        "centroid 2 +2.959e+07 +2.4788e+07 -1.863e-08\n",
        "top      2 +2.959e+07 +2.4788e+07 -1.863e-08\n",
        "bottom   3 -5.554e+07 +2.8356e+07 -2.283e+07\n",
        "centroid 3 -5.554e+07 +2.8356e+07 -2.283e+07\n",
        "top      3 -5.554e+07 +2.8356e+07 -2.283e+07\n",
        "bottom   4 -5.554e+07 +2.8356e+07 -2.283e+07\n",
        "centroid 4 -5.554e+07 +2.8356e+07 -2.283e+07\n",
        "top      4 -5.554e+07 +2.8356e+07 -2.283e+07\n",
        "bottom   5 +2.959e+07 +2.4788e+07 -1.863e-08\n",
        "centroid 5 +2.959e+07 +2.4788e+07 -1.863e-08\n",
        "top      5 +2.959e+07 +2.4788e+07 -1.863e-08\n",
        "bottom   6 -5.554e+07 +2.8356e+07 +2.283e+07\n",
        "centroid 6 -5.554e+07 +2.8356e+07 +2.283e+07\n",
        "top      6 -5.554e+07 +2.8356e+07 +2.283e+07\n"
       ]
      }
     ],
     "prompt_number": 4
    },
    {
     "cell_type": "code",
     "collapsed": false,
     "input": [
      "load1.change_Load(1,0,0,0,0,0,0,0)\n",
      "load1.apply_To(laminate1)"
     ],
     "language": "python",
     "metadata": {},
     "outputs": [],
     "prompt_number": 5
    },
    {
     "cell_type": "code",
     "collapsed": false,
     "input": [
      "print \"     plyNo\", \"sigma11\", \"      sigma22\", \"    tau12\"\n",
      "for i in range (0, 6):\n",
      "    stress = load1.list_ply_stresses_12[i*3 + 0]\n",
      "    print \"bottom  \", i+1, '{0:+.4}'.format(stress[0,0]), '{0:+.4e}'.format(stress[1,0]), '{0:+.4}'.format(stress[2,0])\n",
      "    stress = load1.list_ply_stresses_12[i*3 + 1]\n",
      "    print \"centroid\", i+1, '{0:+.4}'.format(stress[0,0]), '{0:+.4e}'.format(stress[1,0]), '{0:+.4}'.format(stress[2,0])\n",
      "    stress = load1.list_ply_stresses_12[i*3 + 2]\n",
      "    print \"top     \", i+1, '{0:+.4}'.format(stress[0,0]), '{0:+.4e}'.format(stress[1,0]), '{0:+.4}'.format(stress[2,0])\n",
      "    "
     ],
     "language": "python",
     "metadata": {},
     "outputs": [
      {
       "output_type": "stream",
       "stream": "stdout",
       "text": [
        "     plyNo sigma11       sigma22     tau12\n",
        "bottom   1 +2750.0 +5.1930e+01 -174.7\n",
        "centroid 1 +2750.0 +5.1930e+01 -174.7\n",
        "top      1 +2750.0 +5.1930e+01 -174.7\n",
        "bottom   2 +1112.0 +1.2059e+02 -264.6\n",
        "centroid 2 +1112.0 +1.2059e+02 -264.6\n",
        "top      2 +1112.0 +1.2059e+02 -264.6\n",
        "bottom   3 -209.8 +1.7598e+02 -89.85\n",
        "centroid 3 -209.8 +1.7598e+02 -89.85\n",
        "top      3 -209.8 +1.7598e+02 -89.85\n",
        "bottom   4 -209.8 +1.7598e+02 -89.85\n",
        "centroid 4 -209.8 +1.7598e+02 -89.85\n",
        "top      4 -209.8 +1.7598e+02 -89.85\n",
        "bottom   5 +1112.0 +1.2059e+02 -264.6\n",
        "centroid 5 +1112.0 +1.2059e+02 -264.6\n",
        "top      5 +1112.0 +1.2059e+02 -264.6\n",
        "bottom   6 +2750.0 +5.1930e+01 -174.7\n",
        "centroid 6 +2750.0 +5.1930e+01 -174.7\n",
        "top      6 +2750.0 +5.1930e+01 -174.7\n"
       ]
      }
     ],
     "prompt_number": 6
    },
    {
     "cell_type": "markdown",
     "metadata": {},
     "source": [
      "An additional force $Nx = 123 \\times 10^3 N/m$ is applied:"
     ]
    },
    {
     "cell_type": "code",
     "collapsed": false,
     "input": [
      "load1.change_Load(123.0e3,0,0,0,0,0,-155.0,0)\n",
      "load1.apply_To(laminate1)"
     ],
     "language": "python",
     "metadata": {},
     "outputs": [],
     "prompt_number": 7
    },
    {
     "cell_type": "heading",
     "level": 4,
     "metadata": {},
     "source": [
      "Apply Maximum Stress Criterion for each ply.\n",
      "<br>(lamina failed if any of these results/vector components are bigger than 1.0 or smaller than -1.0)"
     ]
    },
    {
     "cell_type": "markdown",
     "metadata": {},
     "source": [
      "Applying a criterion result in three vectors (lists in Python): ret_bottom, ret_centroid, ret_top each of them containing three values.\n",
      "I.e. ret_centroid is a list of 3 components: \n",
      "<ul>\n",
      "    <li>$\\sigma_{11} / \\sigma_{uc/t0}$</li>\n",
      "    <li>$\\sigma_{22} / \\sigma_{uc/t90}$</li>\n",
      "    <li>$\\tau_{12} / \\tau_{u}$</li>    \n",
      "</ul>\n",
      "where i.e. $\\sigma_{uc/t0}$ is the ultimate stress in 0 direction measured in compression or tension."
     ]
    },
    {
     "cell_type": "code",
     "collapsed": false,
     "input": [
      "criterion1.MaxStressCrit(load1, 0)\n",
      "print \"------------------------layer 1--------------------------\"\n",
      "print \"criterion1.ret_centroid = \", '{0:.4}'.format(criterion1.ret_centroid[0]), \\\n",
      "'{0:.4}'.format(criterion1.ret_centroid[1]),'{0:.4}'.format(criterion1.ret_centroid[2])\n",
      "\n",
      "criterion1.MaxStressCrit(load1, 1)\n",
      "print \"------------------------layer 2---------------------------\"\n",
      "print \"criterion1.ret_centroid = \", '{0:.4}'.format(criterion1.ret_centroid[0]), \\\n",
      "'{0:.4}'.format(criterion1.ret_centroid[1]),'{0:.4}'.format(criterion1.ret_centroid[2])\n",
      "\n",
      "criterion1.MaxStressCrit(load1, 2)\n",
      "print \"------------------------layer 3--------------------------\"\n",
      "print \"criterion1.ret_centroid = \", '{0:.4}'.format(criterion1.ret_centroid[0]), \\\n",
      "'{0:.4}'.format(criterion1.ret_centroid[1]),'{0:.4}'.format(criterion1.ret_centroid[2])\n",
      "criterion1.MaxStressCrit(load1, 3)\n",
      "print \"------------------------layer 4---------------------------\"\n",
      "print \"criterion1.ret_centroid = \", '{0:.4}'.format(criterion1.ret_centroid[0]), \\\n",
      "'{0:.4}'.format(criterion1.ret_centroid[1]),'{0:.4}'.format(criterion1.ret_centroid[2])\n",
      "\n",
      "criterion1.MaxStressCrit(load1, 4)\n",
      "print \"------------------------layer 5--------------------------\"\n",
      "print \"criterion1.ret_centroid = \", '{0:.4}'.format(criterion1.ret_centroid[0]), \\\n",
      "'{0:.4}'.format(criterion1.ret_centroid[1]),'{0:.4}'.format(criterion1.ret_centroid[2])\n",
      "\n",
      "criterion1.MaxStressCrit(load1, 5)\n",
      "print \"------------------------layer 6---------------------------\"\n",
      "print \"criterion1.ret_centroid = \", criterion1.ret_centroid\n",
      "print \"---------------------------------------------------------\""
     ],
     "language": "python",
     "metadata": {},
     "outputs": [
      {
       "output_type": "stream",
       "stream": "stdout",
       "text": [
        "------------------------layer 1--------------------------\n",
        "criterion1.ret_centroid =  0.1884 0.6949 0.01787\n",
        "------------------------layer 2---------------------------\n",
        "criterion1.ret_centroid =  0.1109 0.7924 0.4339\n",
        "------------------------layer 3--------------------------\n",
        "criterion1.ret_centroid =  -0.06779 1.0 0.4518\n",
        "------------------------layer 4---------------------------\n",
        "criterion1.ret_centroid =  -0.06779 1.0 0.4518\n",
        "------------------------layer 5--------------------------\n",
        "criterion1.ret_centroid =  0.1109 0.7924 0.4339\n",
        "------------------------layer 6---------------------------\n",
        "criterion1.ret_centroid =  [0.18843847230687527, 0.69487034081253762, 0.017871359343325663]\n",
        "---------------------------------------------------------\n"
       ]
      }
     ],
     "prompt_number": 8
    },
    {
     "cell_type": "heading",
     "level": 4,
     "metadata": {},
     "source": [
      "The same results put in a much nicer form:"
     ]
    },
    {
     "cell_type": "code",
     "collapsed": false,
     "input": [
      "from pyPLYTools import LXMatrix\n",
      "from IPython.display import Latex\n",
      "\n",
      "data = '$\\\\begin{array}{|c|c|c|c|} \\\\hline' + '\\n'\n",
      "data = data + 'PlyNo & \\\\sigma_{11} / \\\\sigma_{u0} & \\\\sigma_{22} / \\\\sigma_{u90} & \\\\tau_{12} / \\\\tau_{u} \\\\\\\\ \\\\hline \\n'\n",
      "\n",
      "for i in range(6):\n",
      "    criterion1.MaxStressCrit(load1, i)\n",
      "    data = data + ' ply~' + str(i) +  ' & ' + '{0:.4}'.format(criterion1.ret_centroid[0]) +  ' & ' +  \\\n",
      "    '{0:.4}'.format(criterion1.ret_centroid[1]) +  ' & ' +  '{0:.4}'.format(criterion1.ret_centroid[2]) + ' \\\\\\\\' + '\\n'\n",
      "data = data + '\\\\hline \\\\end{array}$'    \n",
      "\n",
      "Latex(data)"
     ],
     "language": "python",
     "metadata": {},
     "outputs": [
      {
       "latex": [
        "$\\begin{array}{|c|c|c|c|} \\hline\n",
        "PlyNo & \\sigma_{11} / \\sigma_{u0} & \\sigma_{22} / \\sigma_{u90} & \\tau_{12} / \\tau_{u} \\\\ \\hline \n",
        " ply~0 & 0.1884 & 0.6949 & 0.01787 \\\\\n",
        " ply~1 & 0.1109 & 0.7924 & 0.4339 \\\\\n",
        " ply~2 & -0.06779 & 1.0 & 0.4518 \\\\\n",
        " ply~3 & -0.06779 & 1.0 & 0.4518 \\\\\n",
        " ply~4 & 0.1109 & 0.7924 & 0.4339 \\\\\n",
        " ply~5 & 0.1884 & 0.6949 & 0.01787 \\\\\n",
        "\\hline \\end{array}$"
       ],
       "output_type": "pyout",
       "prompt_number": 9,
       "text": [
        "<IPython.core.display.Latex at 0x53b4290>"
       ]
      }
     ],
     "prompt_number": 9
    },
    {
     "cell_type": "raw",
     "metadata": {},
     "source": [
      "In these conditions layers 2 and 3 will fail."
     ]
    },
    {
     "cell_type": "code",
     "collapsed": false,
     "input": [],
     "language": "python",
     "metadata": {},
     "outputs": [],
     "prompt_number": 9
    }
   ],
   "metadata": {}
  }
 ]
}