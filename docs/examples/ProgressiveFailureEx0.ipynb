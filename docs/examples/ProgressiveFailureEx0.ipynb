{
 "metadata": {
  "name": "ProgressiveFailureEx0"
 },
 "nbformat": 3,
 "nbformat_minor": 0,
 "worksheets": [
  {
   "cells": [
    {
     "cell_type": "markdown",
     "metadata": {},
     "source": [
      "# Progressive Failure Example Calculation"
     ]
    },
    {
     "cell_type": "heading",
     "level": 4,
     "metadata": {},
     "source": [
      "From \"SE253B Progressive Failure Example Calculation\" by H.Kim UCSD SE253\n",
      "<br>http://csrl.ucsd.edu/courses/SE253B/files/lectures/04_ProgressiveFailureExampleCalculations.pdf"
     ]
    },
    {
     "cell_type": "code",
     "collapsed": false,
     "input": [
      "import pyPLY\n",
      "from pyPLYTools import LXMatrix\n",
      "from IPython.display import Latex\n",
      "\n",
      "CarbonEpoxy = pyPLY.CompositeMaterial()\n",
      "CarbonEpoxy.define(\"CarbonEpoxy\", \"psi\", E11=20e6, E22=1.5e6, G12=1e6, niu12=0.29, thk=0.005,\n",
      "             Sigma_ut0 = 310e3, Sigma_uc0 = 310e3, Sigma_ut90 = 6e3, Sigma_uc90 = 30e3, Tau_u = 15e3)\n",
      "\n",
      "layer1 = pyPLY.Lamina()\n",
      "layer2 = pyPLY.Lamina()\n",
      "layer3 = pyPLY.Lamina()\n",
      "layer4 = pyPLY.Lamina()\n",
      "layer5 = pyPLY.Lamina()\n",
      "layer6 = pyPLY.Lamina()\n",
      "layer7 = pyPLY.Lamina()\n",
      "layer8 = pyPLY.Lamina()\n",
      "\n",
      "layer1.define(\"Layer_1\", 1, 45)\n",
      "layer2.define(\"Layer_2\", 1, -45)\n",
      "layer3.define(\"Layer_3\", 1, 90)\n",
      "layer4.define(\"Layer_4\", 1, 0)\n",
      "layer5.define(\"Layer_5\", 1, 0)\n",
      "layer6.define(\"Layer_6\", 1, 90)\n",
      "layer7.define(\"Layer_7\", 1, -45)\n",
      "layer8.define(\"Layer_8\", 1, 45)\n",
      "\n",
      "layer1.update()\n",
      "layer2.update()\n",
      "layer3.update()\n",
      "layer4.update()\n",
      "layer5.update()\n",
      "layer6.update()\n",
      "layer7.update()\n",
      "layer8.update()\n",
      "\n",
      "laminate1 = pyPLY.Laminate()\n",
      "laminate1.add_Lamina(layer1)\n",
      "laminate1.add_Lamina(layer2)\n",
      "laminate1.add_Lamina(layer3)\n",
      "laminate1.add_Lamina(layer4)\n",
      "laminate1.add_Lamina(layer5)\n",
      "laminate1.add_Lamina(layer6)\n",
      "laminate1.add_Lamina(layer7)\n",
      "laminate1.add_Lamina(layer8)\n",
      "\n",
      "laminate1.update()"
     ],
     "language": "python",
     "metadata": {},
     "outputs": [],
     "prompt_number": 1
    },
    {
     "cell_type": "heading",
     "level": 4,
     "metadata": {},
     "source": [
      "The [A] matrix of the intact laminate is:"
     ]
    },
    {
     "cell_type": "code",
     "collapsed": false,
     "input": [
      "Latex(\"$A = \" + LXMatrix(laminate1.A, '.3e', ipython=True) + \" lb/in$\")"
     ],
     "language": "python",
     "metadata": {},
     "outputs": [
      {
       "latex": [
        "$A = \\left[\\begin{array}{ccc}\n",
        "\t3.489e+05 & 1.013e+05 & -1.819e-11\\\\\n",
        "\t1.013e+05 & 3.489e+05 & -3.638e-12\\\\\n",
        "\t-1.819e-11 & -3.638e-12 & 1.238e+05\n",
        "\t\\end{array}\\right] lb/in$"
       ],
       "output_type": "pyout",
       "prompt_number": 2,
       "text": [
        "<IPython.core.display.Latex at 0x53b1a50>"
       ]
      }
     ],
     "prompt_number": 2
    },
    {
     "cell_type": "heading",
     "level": 4,
     "metadata": {},
     "source": [
      "In step 1 a loading in x-direction is applyed: $N_x = 1917.0 lb/in$."
     ]
    },
    {
     "cell_type": "code",
     "collapsed": false,
     "input": [
      "load1 = pyPLY.Loading()\n",
      "criterion1 = pyPLY.PlyFailure()\n",
      "\n",
      "load1.define_Load(1917,0,0,0,0,0,0,0)\n",
      "load1.apply_To(laminate1)"
     ],
     "language": "python",
     "metadata": {},
     "outputs": [],
     "prompt_number": 3
    },
    {
     "cell_type": "heading",
     "level": 4,
     "metadata": {},
     "source": [
      "Ply stresses:"
     ]
    },
    {
     "cell_type": "raw",
     "metadata": {},
     "source": [
      "Note: only half of laminate is reported on."
     ]
    },
    {
     "cell_type": "code",
     "collapsed": false,
     "input": [
      "print \"     layerNo\", \"sigma11\", \"      sigma22\", \"    tau12\"\n",
      "for i in range (0, 4):\n",
      "    stress = load1.list_ply_stresses_12[i*3 + 0]\n",
      "    print \"bottom  \", i+1, '{0:+.4}'.format(stress[0,0]), '{0:+.4e}'.format(stress[1,0]), '{0:+.4}'.format(stress[2,0])\n",
      "    stress = load1.list_ply_stresses_12[i*3 + 1]\n",
      "    print \"centroid\", i+1, '{0:+.4}'.format(stress[0,0]), '{0:+.4e}'.format(stress[1,0]), '{0:+.4}'.format(stress[2,0])\n",
      "    stress = load1.list_ply_stresses_12[i*3 + 2]\n",
      "    print \"top     \", i+1, '{0:+.4}'.format(stress[0,0]), '{0:+.4e}'.format(stress[1,0]), '{0:+.4}'.format(stress[2,0])"
     ],
     "language": "python",
     "metadata": {},
     "outputs": [
      {
       "output_type": "stream",
       "stream": "stdout",
       "text": [
        "     layerNo sigma11       sigma22     tau12\n",
        "bottom   1 +4.378e+04 +4.1455e+03 -7742.0\n",
        "centroid 1 +4.378e+04 +4.1455e+03 -7742.0\n",
        "top      1 +4.378e+04 +4.1455e+03 -7742.0\n",
        "bottom   2 +4.378e+04 +4.1455e+03 +7742.0\n",
        "centroid 2 +4.378e+04 +4.1455e+03 +7742.0\n",
        "top      2 +4.378e+04 +4.1455e+03 +7742.0\n",
        "bottom   3 -3.244e+04 +8.2943e+03 -1.433e-12\n",
        "centroid 3 -3.244e+04 +8.2943e+03 -1.519e-12\n",
        "top      3 -3.244e+04 +8.2943e+03 -1.606e-12\n",
        "bottom   4 +1.2e+05 -3.2974e+00 +6.576e-13\n",
        "centroid 4 +1.2e+05 -3.2974e+00 +7.44e-13\n",
        "top      4 +1.2e+05 -3.2974e+00 +8.303e-13\n"
       ]
      }
     ],
     "prompt_number": 4
    },
    {
     "cell_type": "heading",
     "level": 4,
     "metadata": {},
     "source": [
      "Ply strains:"
     ]
    },
    {
     "cell_type": "code",
     "collapsed": false,
     "input": [
      "print \"     layerNo\", \"eps11\", \"      eps22\", \"    gamma12\"\n",
      "for i in range (0, 4):\n",
      "    strain = load1.list_ply_strains_12[i*3 + 0]\n",
      "    print \"bottom  \", i+1, '{0:+.4}'.format(strain[0,0]), '{0:+.4}'.format(strain[1,0]), '{0:+.4}'.format(strain[2,0])\n",
      "    strain = load1.list_ply_strains_12[i*3 + 1]\n",
      "    print \"centroid\", i+1, '{0:+.4}'.format(strain[0,0]), '{0:+.4}'.format(strain[1,0]), '{0:+.4}'.format(strain[2,0])\n",
      "    strain = load1.list_ply_strains_12[i*3 + 2]\n",
      "    print \"top     \", i+1, '{0:+.4}'.format(strain[0,0]), '{0:+.4}'.format(strain[1,0]), '{0:+.4}'.format(strain[2,0])\n",
      "    "
     ],
     "language": "python",
     "metadata": {},
     "outputs": [
      {
       "output_type": "stream",
       "stream": "stdout",
       "text": [
        "     layerNo eps11       eps22     gamma12\n",
        "bottom   1 +0.002129 +0.002129 -0.007742\n",
        "centroid 1 +0.002129 +0.002129 -0.007742\n",
        "top      1 +0.002129 +0.002129 -0.007742\n",
        "bottom   2 +0.002129 +0.002129 +0.007742\n",
        "centroid 2 +0.002129 +0.002129 +0.007742\n",
        "top      2 +0.002129 +0.002129 +0.007742\n",
        "bottom   3 -0.001742 +0.006 -1.433e-18\n",
        "centroid 3 -0.001742 +0.006 -1.519e-18\n",
        "top      3 -0.001742 +0.006 -1.606e-18\n",
        "bottom   4 +0.006 -0.001742 +6.576e-19\n",
        "centroid 4 +0.006 -0.001742 +7.44e-19\n",
        "top      4 +0.006 -0.001742 +8.303e-19\n"
       ]
      }
     ],
     "prompt_number": 5
    },
    {
     "cell_type": "heading",
     "level": 4,
     "metadata": {},
     "source": [
      "We will use Maximum Strain Failure Criterion to determine if any ply failed."
     ]
    },
    {
     "cell_type": "code",
     "collapsed": false,
     "input": [
      "criterion1.MaxStrainCrit(load1, 0)\n",
      "print \"------------------------layer 1--------------------------\"\n",
      "print \"criterion1.ret_centroid = \", criterion1.ret_centroid\n",
      "criterion1.MaxStrainCrit(load1, 1)\n",
      "print \"------------------------layer 2---------------------------\"\n",
      "print \"criterion1.ret_centroid = \", criterion1.ret_centroid\n",
      "criterion1.MaxStrainCrit(load1, 2)\n",
      "print \"------------------------layer 3--------------------------\"\n",
      "print \"criterion1.ret_centroid = \", criterion1.ret_centroid\n",
      "criterion1.MaxStrainCrit(load1, 3)\n",
      "print \"------------------------layer 4---------------------------\"\n",
      "print \"criterion1.ret_centroid = \", criterion1.ret_centroid\n",
      "print \"---------------------------------------------------------\""
     ],
     "language": "python",
     "metadata": {},
     "outputs": [
      {
       "output_type": "stream",
       "stream": "stdout",
       "text": [
        "------------------------layer 1--------------------------\n",
        "criterion1.ret_centroid =  [0.1373461377204494, 0.53221628366674079, 0.51613529205922271]\n",
        "------------------------layer 2---------------------------\n",
        "criterion1.ret_centroid =  [0.1373461377204494, 0.5322162836667409, 0.51613529205922271]\n",
        "------------------------layer 3--------------------------\n",
        "criterion1.ret_centroid =  [-0.11239674553401326, 1.4999699562777835, 1.0128838793372402e-16]\n",
        "------------------------layer 4---------------------------\n",
        "criterion1.ret_centroid =  [0.38708902097491188, -0.087107477788860257, 4.9597075459406951e-17]\n",
        "---------------------------------------------------------\n"
       ]
      }
     ],
     "prompt_number": 6
    },
    {
     "cell_type": "heading",
     "level": 4,
     "metadata": {},
     "source": [
      "Layer 3 failed (the second component is larger than 1.0). The 6th layer also failed but results not shown.<br> \n",
      "In step 2 we degrade the failed layers by setting $E_2 = G_{12} = 0.1$<br>\n",
      "Define a new material with $E_2 = G_{12} = 0.1$ and update the laminate."
     ]
    },
    {
     "cell_type": "code",
     "collapsed": false,
     "input": [
      "CarbonEpoxyFailed = pyPLY.CompositeMaterial()\n",
      "CarbonEpoxyFailed.define(\"CarbonEpoxyFailed\", \"psi\", E11=20e6, E22=0.01, G12=0.01, niu12=0.29, thk=0.005,\n",
      "             Sigma_ut0 = 310e3, Sigma_uc0 = 310e3, Sigma_ut90 = 6e3, Sigma_uc90 = 30e3, Tau_u = 15e3)\n",
      "             \n",
      "layer3.change_Material_No_Lamina(2)\n",
      "layer6.change_Material_No_Lamina(2)\n",
      "layer3.update()\n",
      "layer6.update()\n",
      "\n",
      "laminate1.replace_Lamina(2, layer3)\n",
      "laminate1.replace_Lamina(5, layer6)\n",
      "laminate1.update()"
     ],
     "language": "python",
     "metadata": {},
     "outputs": [],
     "prompt_number": 7
    },
    {
     "cell_type": "heading",
     "level": 4,
     "metadata": {},
     "source": [
      "The new [A] matrix of the laminate is:"
     ]
    },
    {
     "cell_type": "code",
     "collapsed": false,
     "input": [
      "Latex(\"$A_{degraded} = \" + LXMatrix(laminate1.A, '.3e', ipython=True) + \" lb/in$\")"
     ],
     "language": "python",
     "metadata": {},
     "outputs": [
      {
       "latex": [
        "$A_{degraded} = \\left[\\begin{array}{ccc}\n",
        "\t3.338e+05 & 9.694e+04 & -1.819e-11\\\\\n",
        "\t9.694e+04 & 3.477e+05 & -3.638e-12\\\\\n",
        "\t-1.819e-11 & -3.638e-12 & 1.138e+05\n",
        "\t\\end{array}\\right] lb/in$"
       ],
       "output_type": "pyout",
       "prompt_number": 8,
       "text": [
        "<IPython.core.display.Latex at 0x53b1d10>"
       ]
      }
     ],
     "prompt_number": 8
    },
    {
     "cell_type": "heading",
     "level": 4,
     "metadata": {},
     "source": [
      "Check if this laminate can withstand the above load:"
     ]
    },
    {
     "cell_type": "markdown",
     "metadata": {},
     "source": [
      "Note: again only half of laminate is reported on."
     ]
    },
    {
     "cell_type": "heading",
     "level": 4,
     "metadata": {},
     "source": [
      "Ply stresses:"
     ]
    },
    {
     "cell_type": "code",
     "collapsed": false,
     "input": [
      "print \"     layerNo\", \"sigma11\", \"      sigma22\", \"    tau12\"\n",
      "for i in range (0, 4):\n",
      "    stress = load1.list_ply_stresses_12[i*3 + 0]\n",
      "    print \"bottom  \", i+1, '{0:+.4}'.format(stress[0,0]), '{0:+.4e}'.format(stress[1,0]), '{0:+.4}'.format(stress[2,0])\n",
      "    stress = load1.list_ply_stresses_12[i*3 + 1]\n",
      "    print \"centroid\", i+1, '{0:+.4}'.format(stress[0,0]), '{0:+.4e}'.format(stress[1,0]), '{0:+.4}'.format(stress[2,0])\n",
      "    stress = load1.list_ply_stresses_12[i*3 + 2]\n",
      "    print \"top     \", i+1, '{0:+.4}'.format(stress[0,0]), '{0:+.4e}'.format(stress[1,0]), '{0:+.4}'.format(stress[2,0])"
     ],
     "language": "python",
     "metadata": {},
     "outputs": [
      {
       "output_type": "stream",
       "stream": "stdout",
       "text": [
        "     layerNo sigma11       sigma22     tau12\n",
        "bottom   1 +4.378e+04 +4.1455e+03 -7742.0\n",
        "centroid 1 +4.378e+04 +4.1455e+03 -7742.0\n",
        "top      1 +4.378e+04 +4.1455e+03 -7742.0\n",
        "bottom   2 +4.378e+04 +4.1455e+03 +7742.0\n",
        "centroid 2 +4.378e+04 +4.1455e+03 +7742.0\n",
        "top      2 +4.378e+04 +4.1455e+03 +7742.0\n",
        "bottom   3 -3.244e+04 +8.2943e+03 -1.433e-12\n",
        "centroid 3 -3.244e+04 +8.2943e+03 -1.519e-12\n",
        "top      3 -3.244e+04 +8.2943e+03 -1.606e-12\n",
        "bottom   4 +1.2e+05 -3.2974e+00 +6.576e-13\n",
        "centroid 4 +1.2e+05 -3.2974e+00 +7.44e-13\n",
        "top      4 +1.2e+05 -3.2974e+00 +8.303e-13\n"
       ]
      }
     ],
     "prompt_number": 9
    },
    {
     "cell_type": "heading",
     "level": 4,
     "metadata": {},
     "source": [
      "Ply strains:"
     ]
    },
    {
     "cell_type": "code",
     "collapsed": false,
     "input": [
      "print \"     layerNo\", \"eps11\", \"      eps22\", \"    gamma12\"\n",
      "for i in range (0, 4):\n",
      "    strain = load1.list_ply_strains_12[i*3 + 0]\n",
      "    print \"bottom  \", i+1, '{0:+.4}'.format(strain[0,0]), '{0:+.4}'.format(strain[1,0]), '{0:+.4}'.format(strain[2,0])\n",
      "    strain = load1.list_ply_strains_12[i*3 + 1]\n",
      "    print \"centroid\", i+1, '{0:+.4}'.format(strain[0,0]), '{0:+.4}'.format(strain[1,0]), '{0:+.4}'.format(strain[2,0])\n",
      "    strain = load1.list_ply_strains_12[i*3 + 2]\n",
      "    print \"top     \", i+1, '{0:+.4}'.format(strain[0,0]), '{0:+.4}'.format(strain[1,0]), '{0:+.4}'.format(strain[2,0])\n",
      "    print"
     ],
     "language": "python",
     "metadata": {},
     "outputs": [
      {
       "output_type": "stream",
       "stream": "stdout",
       "text": [
        "     layerNo eps11       eps22     gamma12\n",
        "bottom   1 +0.002129 +0.002129 -0.007742\n",
        "centroid 1 +0.002129 +0.002129 -0.007742\n",
        "top      1 +0.002129 +0.002129 -0.007742\n",
        "\n",
        "bottom   2 +0.002129 +0.002129 +0.007742\n",
        "centroid 2 +0.002129 +0.002129 +0.007742\n",
        "top      2 +0.002129 +0.002129 +0.007742\n",
        "\n",
        "bottom   3 -0.001742 +0.006 -1.433e-18\n",
        "centroid 3 -0.001742 +0.006 -1.519e-18\n",
        "top      3 -0.001742 +0.006 -1.606e-18\n",
        "\n",
        "bottom   4 +0.006 -0.001742 +6.576e-19\n",
        "centroid 4 +0.006 -0.001742 +7.44e-19\n",
        "top      4 +0.006 -0.001742 +8.303e-19\n",
        "\n"
       ]
      }
     ],
     "prompt_number": 10
    },
    {
     "cell_type": "heading",
     "level": 4,
     "metadata": {},
     "source": [
      "Check using Maximum Strain Criterion:"
     ]
    },
    {
     "cell_type": "code",
     "collapsed": false,
     "input": [
      "criterion1.MaxStrainCrit(load1, 0)\n",
      "print \"------------------------layer 1--------------------------\"\n",
      "print \"criterion1.ret_centroid = \", criterion1.ret_centroid\n",
      "criterion1.MaxStrainCrit(load1, 1)\n",
      "print \"------------------------layer 2---------------------------\"\n",
      "print \"criterion1.ret_centroid = \", criterion1.ret_centroid\n",
      "criterion1.MaxStrainCrit(load1, 2)\n",
      "print \"------------------------layer 3--------------------------\"\n",
      "print \"criterion1.ret_centroid = \", criterion1.ret_centroid\n",
      "criterion1.MaxStrainCrit(load1, 3)\n",
      "print \"------------------------layer 4---------------------------\"\n",
      "print \"criterion1.ret_centroid = \", criterion1.ret_centroid\n",
      "print \"---------------------------------------------------------\""
     ],
     "language": "python",
     "metadata": {},
     "outputs": [
      {
       "output_type": "stream",
       "stream": "stdout",
       "text": [
        "------------------------layer 1--------------------------\n",
        "criterion1.ret_centroid =  [0.1373461377204494, 0.53221628366674079, 0.51613529205922271]\n",
        "------------------------layer 2---------------------------\n",
        "criterion1.ret_centroid =  [0.1373461377204494, 0.5322162836667409, 0.51613529205922271]\n",
        "------------------------layer 3--------------------------\n",
        "criterion1.ret_centroid =  [-0.11239674553401326, 9.9997997085185566e-09, 1.0128838793372401e-24]\n",
        "------------------------layer 4---------------------------\n",
        "criterion1.ret_centroid =  [0.38708902097491188, -0.087107477788860257, 4.9597075459406951e-17]\n",
        "---------------------------------------------------------\n"
       ]
      }
     ],
     "prompt_number": 11
    },
    {
     "cell_type": "heading",
     "level": 4,
     "metadata": {},
     "source": [
      "No layer failed. We can increase the load.\n",
      "<br>In step 3 we can increase the load at $N_x = 3598.5 lb/in$."
     ]
    },
    {
     "cell_type": "code",
     "collapsed": false,
     "input": [
      "load1.change_Load(3598.5,0,0,0,0,0,0,0)\n",
      "load1.apply_To(laminate1)"
     ],
     "language": "python",
     "metadata": {},
     "outputs": [],
     "prompt_number": 12
    },
    {
     "cell_type": "raw",
     "metadata": {},
     "source": [
      "Note: only half of laminate is reported on"
     ]
    },
    {
     "cell_type": "heading",
     "level": 4,
     "metadata": {},
     "source": [
      "Layer stresses:"
     ]
    },
    {
     "cell_type": "code",
     "collapsed": false,
     "input": [
      "print \"     layerNo\", \"sigma11\", \"      sigma22\", \"    tau12\"\n",
      "for i in range (0, 4):\n",
      "    stress = load1.list_ply_stresses_12[i*3 + 0]\n",
      "    print \"bottom  \", i+1, '{0:+.4}'.format(stress[0,0]), '{0:+.4e}'.format(stress[1,0]), '{0:+.4}'.format(stress[2,0])\n",
      "    stress = load1.list_ply_stresses_12[i*3 + 1]\n",
      "    print \"centroid\", i+1, '{0:+.4}'.format(stress[0,0]), '{0:+.4e}'.format(stress[1,0]), '{0:+.4}'.format(stress[2,0])\n",
      "    stress = load1.list_ply_stresses_12[i*3 + 2]\n",
      "    print \"top     \", i+1, '{0:+.4}'.format(stress[0,0]), '{0:+.4e}'.format(stress[1,0]), '{0:+.4}'.format(stress[2,0])\n"
     ],
     "language": "python",
     "metadata": {},
     "outputs": [
      {
       "output_type": "stream",
       "stream": "stdout",
       "text": [
        "     layerNo sigma11       sigma22     tau12\n",
        "bottom   1 +8.698e+04 +8.2357e+03 -1.5e+04\n",
        "centroid 1 +8.698e+04 +8.2357e+03 -1.5e+04\n",
        "top      1 +8.698e+04 +8.2357e+03 -1.5e+04\n",
        "bottom   2 +8.698e+04 +8.2357e+03 +1.5e+04\n",
        "centroid 2 +8.698e+04 +8.2357e+03 +1.5e+04\n",
        "top      2 +8.698e+04 +8.2357e+03 +1.5e+04\n",
        "bottom   3 -6.541e+04 +1.0781e-04 -2.9e-20\n",
        "centroid 3 -6.541e+04 +1.0781e-04 -3.077e-20\n",
        "top      3 -6.541e+04 +1.0781e-04 -3.254e-20\n",
        "bottom   4 +2.346e+05 +1.9772e+02 +1.417e-12\n",
        "centroid 4 +2.346e+05 +1.9772e+02 +1.593e-12\n",
        "top      4 +2.346e+05 +1.9772e+02 +1.77e-12\n"
       ]
      }
     ],
     "prompt_number": 13
    },
    {
     "cell_type": "heading",
     "level": 4,
     "metadata": {},
     "source": [
      "Layer strains:"
     ]
    },
    {
     "cell_type": "code",
     "collapsed": false,
     "input": [
      "print \"     layerNo\", \"eps11\", \"      eps22\", \"    gamma12\"\n",
      "for i in range (0, 4):\n",
      "    strain = load1.list_ply_strains_12[i*3 + 0]\n",
      "    print \"bottom  \", i+1, '{0:+.4}'.format(strain[0,0]), '{0:+.4}'.format(strain[1,0]), '{0:+.4}'.format(strain[2,0])\n",
      "    strain = load1.list_ply_strains_12[i*3 + 1]\n",
      "    print \"centroid\", i+1, '{0:+.4}'.format(strain[0,0]), '{0:+.4}'.format(strain[1,0]), '{0:+.4}'.format(strain[2,0])\n",
      "    strain = load1.list_ply_strains_12[i*3 + 2]\n",
      "    print \"top     \", i+1, '{0:+.4}'.format(strain[0,0]), '{0:+.4}'.format(strain[1,0]), '{0:+.4}'.format(strain[2,0])"
     ],
     "language": "python",
     "metadata": {},
     "outputs": [
      {
       "output_type": "stream",
       "stream": "stdout",
       "text": [
        "     layerNo eps11       eps22     gamma12\n",
        "bottom   1 +0.004229 +0.004229 -0.015\n",
        "centroid 1 +0.004229 +0.004229 -0.015\n",
        "top      1 +0.004229 +0.004229 -0.015\n",
        "bottom   2 +0.004229 +0.004229 +0.015\n",
        "centroid 2 +0.004229 +0.004229 +0.015\n",
        "top      2 +0.004229 +0.004229 +0.015\n",
        "bottom   3 -0.00327 +0.01173 -2.9e-18\n",
        "centroid 3 -0.00327 +0.01173 -3.077e-18\n",
        "top      3 -0.00327 +0.01173 -3.254e-18\n",
        "bottom   4 +0.01173 -0.00327 +1.417e-18\n",
        "centroid 4 +0.01173 -0.00327 +1.593e-18\n",
        "top      4 +0.01173 -0.00327 +1.77e-18\n"
       ]
      }
     ],
     "prompt_number": 14
    },
    {
     "cell_type": "heading",
     "level": 4,
     "metadata": {},
     "source": [
      "Check again against Maximum Strain Criterion."
     ]
    },
    {
     "cell_type": "code",
     "collapsed": false,
     "input": [
      "criterion1.MaxStrainCrit(load1, 0)\n",
      "print \"------------------------layer 1--------------------------\"\n",
      "print \"criterion1.ret_centroid = \", criterion1.ret_centroid\n",
      "criterion1.MaxStrainCrit(load1, 1)\n",
      "print \"------------------------layer 2---------------------------\"\n",
      "print \"criterion1.ret_centroid = \", criterion1.ret_centroid\n",
      "criterion1.MaxStrainCrit(load1, 2)\n",
      "print \"------------------------layer 3--------------------------\"\n",
      "print \"criterion1.ret_centroid = \", criterion1.ret_centroid\n",
      "criterion1.MaxStrainCrit(load1, 3)\n",
      "print \"------------------------layer 4---------------------------\"\n",
      "print \"criterion1.ret_centroid = \", criterion1.ret_centroid\n",
      "print \"---------------------------------------------------------\""
     ],
     "language": "python",
     "metadata": {},
     "outputs": [
      {
       "output_type": "stream",
       "stream": "stdout",
       "text": [
        "------------------------layer 1--------------------------\n",
        "criterion1.ret_centroid =  [0.27286032592909371, 1.0573337629752368, 0.99997328844619227]\n",
        "------------------------layer 2---------------------------\n",
        "criterion1.ret_centroid =  [0.27286032592909365, 1.0573337629752371, 0.99997328844619215]\n",
        "------------------------layer 3--------------------------\n",
        "criterion1.ret_centroid =  [-0.21099771686745103, 1.9548557858745652e-08, 2.051378623471961e-24]\n",
        "------------------------layer 4---------------------------\n",
        "criterion1.ret_centroid =  [0.75671836872563814, -0.16352323057227452, 1.0623307326708243e-16]\n",
        "---------------------------------------------------------\n"
       ]
      }
     ],
     "prompt_number": 15
    },
    {
     "cell_type": "heading",
     "level": 4,
     "metadata": {},
     "source": [
      "Layer 1,2 failed. \n",
      "<br>In step 4 we degrade layers by setting $E_2 = G_{12} = 0.1$"
     ]
    },
    {
     "cell_type": "code",
     "collapsed": false,
     "input": [
      "layer1.change_Material_No_Lamina(2)\n",
      "layer2.change_Material_No_Lamina(2)\n",
      "layer7.change_Material_No_Lamina(2)\n",
      "layer8.change_Material_No_Lamina(2)\n",
      "layer1.update()\n",
      "layer2.update()\n",
      "layer7.update()\n",
      "layer8.update()\n",
      "\n",
      "laminate1.replace_Lamina(0, layer1)\n",
      "laminate1.replace_Lamina(1, layer2)\n",
      "laminate1.replace_Lamina(6, layer7)\n",
      "laminate1.replace_Lamina(7, layer8)\n",
      "laminate1.update()"
     ],
     "language": "python",
     "metadata": {},
     "outputs": [],
     "prompt_number": 16
    },
    {
     "cell_type": "heading",
     "level": 4,
     "metadata": {},
     "source": [
      "The new [A] matrix of the laminate is:"
     ]
    },
    {
     "cell_type": "code",
     "collapsed": false,
     "input": [
      "Latex(\"$A_{degraded} = \" + LXMatrix(laminate1.A, '.3e', ipython=True) + \" lb/in$\")"
     ],
     "language": "python",
     "metadata": {},
     "outputs": [
      {
       "latex": [
        "$A_{degraded} = \\left[\\begin{array}{ccc}\n",
        "\t3.013e+05 & 1.044e+05 & -1.819e-11\\\\\n",
        "\t1.044e+05 & 3.151e+05 & -7.276e-12\\\\\n",
        "\t-1.455e-11 & -7.276e-12 & 1.100e+05\n",
        "\t\\end{array}\\right] lb/in$"
       ],
       "output_type": "pyout",
       "prompt_number": 17,
       "text": [
        "<IPython.core.display.Latex at 0x53b1510>"
       ]
      }
     ],
     "prompt_number": 17
    },
    {
     "cell_type": "code",
     "collapsed": false,
     "input": [
      "# only half of laminate is reported on\n",
      "print \"     layerNo\", \"sigma11\", \"      sigma22\", \"    tau12\"\n",
      "for i in range (0, 4):\n",
      "    stress = load1.list_ply_stresses_12[i*3 + 0]\n",
      "    print \"bottom  \", i+1, '{0:+.4}'.format(stress[0,0]), '{0:+.4e}'.format(stress[1,0]), '{0:+.4}'.format(stress[2,0])\n",
      "    stress = load1.list_ply_stresses_12[i*3 + 1]\n",
      "    print \"centroid\", i+1, '{0:+.4}'.format(stress[0,0]), '{0:+.4e}'.format(stress[1,0]), '{0:+.4}'.format(stress[2,0])\n",
      "    stress = load1.list_ply_stresses_12[i*3 + 2]\n",
      "    print \"top     \", i+1, '{0:+.4}'.format(stress[0,0]), '{0:+.4e}'.format(stress[1,0]), '{0:+.4}'.format(stress[2,0])\n",
      "\n",
      "    "
     ],
     "language": "python",
     "metadata": {},
     "outputs": [
      {
       "output_type": "stream",
       "stream": "stdout",
       "text": [
        "     layerNo sigma11       sigma22     tau12\n",
        "bottom   1 +8.698e+04 +8.2357e+03 -1.5e+04\n",
        "centroid 1 +8.698e+04 +8.2357e+03 -1.5e+04\n",
        "top      1 +8.698e+04 +8.2357e+03 -1.5e+04\n",
        "bottom   2 +8.698e+04 +8.2357e+03 +1.5e+04\n",
        "centroid 2 +8.698e+04 +8.2357e+03 +1.5e+04\n",
        "top      2 +8.698e+04 +8.2357e+03 +1.5e+04\n",
        "bottom   3 -6.541e+04 +1.0781e-04 -2.9e-20\n",
        "centroid 3 -6.541e+04 +1.0781e-04 -3.077e-20\n",
        "top      3 -6.541e+04 +1.0781e-04 -3.254e-20\n",
        "bottom   4 +2.346e+05 +1.9772e+02 +1.417e-12\n",
        "centroid 4 +2.346e+05 +1.9772e+02 +1.593e-12\n",
        "top      4 +2.346e+05 +1.9772e+02 +1.77e-12\n"
       ]
      }
     ],
     "prompt_number": 18
    },
    {
     "cell_type": "code",
     "collapsed": false,
     "input": [
      "print \"     layerNo\", \"eps11\", \"      eps22\", \"    gamma12\"\n",
      "for i in range (0, 4):\n",
      "    strain = load1.list_ply_strains_12[i*3 + 0]\n",
      "    print \"bottom  \", i+1, '{0:+.4}'.format(strain[0,0]), '{0:+.4}'.format(strain[1,0]), '{0:+.4}'.format(strain[2,0])\n",
      "    strain = load1.list_ply_strains_12[i*3 + 1]\n",
      "    print \"centroid\", i+1, '{0:+.4}'.format(strain[0,0]), '{0:+.4}'.format(strain[1,0]), '{0:+.4}'.format(strain[2,0])\n",
      "    strain = load1.list_ply_strains_12[i*3 + 2]\n",
      "    print \"top     \", i+1, '{0:+.4}'.format(strain[0,0]), '{0:+.4}'.format(strain[1,0]), '{0:+.4}'.format(strain[2,0])"
     ],
     "language": "python",
     "metadata": {},
     "outputs": [
      {
       "output_type": "stream",
       "stream": "stdout",
       "text": [
        "     layerNo eps11       eps22     gamma12\n",
        "bottom   1 +0.004229 +0.004229 -0.015\n",
        "centroid 1 +0.004229 +0.004229 -0.015\n",
        "top      1 +0.004229 +0.004229 -0.015\n",
        "bottom   2 +0.004229 +0.004229 +0.015\n",
        "centroid 2 +0.004229 +0.004229 +0.015\n",
        "top      2 +0.004229 +0.004229 +0.015\n",
        "bottom   3 -0.00327 +0.01173 -2.9e-18\n",
        "centroid 3 -0.00327 +0.01173 -3.077e-18\n",
        "top      3 -0.00327 +0.01173 -3.254e-18\n",
        "bottom   4 +0.01173 -0.00327 +1.417e-18\n",
        "centroid 4 +0.01173 -0.00327 +1.593e-18\n",
        "top      4 +0.01173 -0.00327 +1.77e-18\n"
       ]
      }
     ],
     "prompt_number": 19
    },
    {
     "cell_type": "code",
     "collapsed": false,
     "input": [
      "criterion1.MaxStrainCrit(load1, 0)\n",
      "print \"------------------------layer 1--------------------------\"\n",
      "print \"criterion1.ret_centroid = \", criterion1.ret_centroid\n",
      "criterion1.MaxStrainCrit(load1, 1)\n",
      "print \"------------------------layer 2---------------------------\"\n",
      "print \"criterion1.ret_centroid = \", criterion1.ret_centroid\n",
      "criterion1.MaxStrainCrit(load1, 2)\n",
      "print \"------------------------layer 3--------------------------\"\n",
      "print \"criterion1.ret_centroid = \", criterion1.ret_centroid\n",
      "criterion1.MaxStrainCrit(load1, 3)\n",
      "print \"------------------------layer 4---------------------------\"\n",
      "print \"criterion1.ret_centroid = \", criterion1.ret_centroid\n",
      "print \"---------------------------------------------------------\""
     ],
     "language": "python",
     "metadata": {},
     "outputs": [
      {
       "output_type": "stream",
       "stream": "stdout",
       "text": [
        "------------------------layer 1--------------------------\n",
        "criterion1.ret_centroid =  [0.27286032592909371, 7.0488917531682467e-09, 9.9997328844619228e-09]\n",
        "------------------------layer 2---------------------------\n",
        "criterion1.ret_centroid =  [0.27286032592909365, 7.0488917531682475e-09, 9.9997328844619212e-09]\n",
        "------------------------layer 3--------------------------\n",
        "criterion1.ret_centroid =  [-0.21099771686745103, 1.9548557858745652e-08, 2.051378623471961e-24]\n",
        "------------------------layer 4---------------------------\n",
        "criterion1.ret_centroid =  [0.75671836872563814, -0.16352323057227452, 1.0623307326708243e-16]\n",
        "---------------------------------------------------------\n"
       ]
      }
     ],
     "prompt_number": 20
    },
    {
     "cell_type": "heading",
     "level": 4,
     "metadata": {},
     "source": [
      "No layer failed. \n",
      "<br>We can increase the load.\n",
      "<br>Step 5."
     ]
    },
    {
     "cell_type": "code",
     "collapsed": false,
     "input": [
      "load1.change_Load(4133.7,0,0,0,0,0,0,0)\n",
      "load1.apply_To(laminate1)"
     ],
     "language": "python",
     "metadata": {},
     "outputs": [],
     "prompt_number": 21
    },
    {
     "cell_type": "code",
     "collapsed": false,
     "input": [
      "# only half of laminate is reported on\n",
      "print \"     layerNo\", \"sigma11\", \"      sigma22\", \"    tau12\"\n",
      "for i in range (0, 4):\n",
      "    stress = load1.list_ply_stresses_12[i*3 + 0]\n",
      "    print \"bottom  \", i+1, '{0:+.4}'.format(stress[0,0]), '{0:+.4e}'.format(stress[1,0]), '{0:+.4}'.format(stress[2,0])\n",
      "    stress = load1.list_ply_stresses_12[i*3 + 1]\n",
      "    print \"centroid\", i+1, '{0:+.4}'.format(stress[0,0]), '{0:+.4e}'.format(stress[1,0]), '{0:+.4}'.format(stress[2,0])\n",
      "    stress = load1.list_ply_stresses_12[i*3 + 2]\n",
      "    print \"top     \", i+1, '{0:+.4}'.format(stress[0,0]), '{0:+.4e}'.format(stress[1,0]), '{0:+.4}'.format(stress[2,0])"
     ],
     "language": "python",
     "metadata": {},
     "outputs": [
      {
       "output_type": "stream",
       "stream": "stdout",
       "text": [
        "     layerNo sigma11       sigma22     tau12\n",
        "bottom   1 +1.037e+05 +6.6857e-05 -0.0002063\n",
        "centroid 1 +1.037e+05 +6.6857e-05 -0.0002063\n",
        "top      1 +1.037e+05 +6.6857e-05 -0.0002063\n",
        "bottom   2 +1.037e+05 +6.6857e-05 +0.0002063\n",
        "centroid 2 +1.037e+05 +6.6857e-05 +0.0002063\n",
        "top      2 +1.037e+05 +6.6857e-05 +0.0002063\n",
        "bottom   3 -1.027e+05 +1.4011e-04 -3.407e-20\n",
        "centroid 3 -1.027e+05 +1.4011e-04 -3.615e-20\n",
        "top      3 -1.027e+05 +1.4011e-04 -3.822e-20\n",
        "bottom   4 +3.097e+05 -9.6531e+02 +1.295e-12\n",
        "centroid 4 +3.097e+05 -9.6531e+02 +1.503e-12\n",
        "top      4 +3.097e+05 -9.6531e+02 +1.711e-12\n"
       ]
      }
     ],
     "prompt_number": 22
    },
    {
     "cell_type": "code",
     "collapsed": false,
     "input": [
      "print \"     layerNo\", \"eps11\", \"      eps22\", \"    gamma12\"\n",
      "for i in range (0, 4):\n",
      "    strain = load1.list_ply_strains_12[i*3 + 0]\n",
      "    print \"bottom  \", i+1, '{0:+.4}'.format(strain[0,0]), '{0:+.4}'.format(strain[1,0]), '{0:+.4}'.format(strain[2,0])\n",
      "    strain = load1.list_ply_strains_12[i*3 + 1]\n",
      "    print \"centroid\", i+1, '{0:+.4}'.format(strain[0,0]), '{0:+.4}'.format(strain[1,0]), '{0:+.4}'.format(strain[2,0])\n",
      "    strain = load1.list_ply_strains_12[i*3 + 2]\n",
      "    print \"top     \", i+1, '{0:+.4}'.format(strain[0,0]), '{0:+.4}'.format(strain[1,0]), '{0:+.4}'.format(strain[2,0])\n"
     ],
     "language": "python",
     "metadata": {},
     "outputs": [
      {
       "output_type": "stream",
       "stream": "stdout",
       "text": [
        "     layerNo eps11       eps22     gamma12\n",
        "bottom   1 +0.005183 +0.005183 -0.02063\n",
        "centroid 1 +0.005183 +0.005183 -0.02063\n",
        "top      1 +0.005183 +0.005183 -0.02063\n",
        "bottom   2 +0.005183 +0.005183 +0.02063\n",
        "centroid 2 +0.005183 +0.005183 +0.02063\n",
        "top      2 +0.005183 +0.005183 +0.02063\n",
        "bottom   3 -0.005134 +0.0155 -3.407e-18\n",
        "centroid 3 -0.005134 +0.0155 -3.615e-18\n",
        "top      3 -0.005134 +0.0155 -3.822e-18\n",
        "bottom   4 +0.0155 -0.005134 +1.295e-18\n",
        "centroid 4 +0.0155 -0.005134 +1.503e-18\n",
        "top      4 +0.0155 -0.005134 +1.711e-18\n"
       ]
      }
     ],
     "prompt_number": 23
    },
    {
     "cell_type": "code",
     "collapsed": false,
     "input": [
      "criterion1.MaxStrainCrit(load1, 0)\n",
      "print \"------------------------layer 1--------------------------\"\n",
      "print \"criterion1.ret_centroid = \", criterion1.ret_centroid\n",
      "criterion1.MaxStrainCrit(load1, 1)\n",
      "print \"------------------------layer 2---------------------------\"\n",
      "print \"criterion1.ret_centroid = \", criterion1.ret_centroid\n",
      "criterion1.MaxStrainCrit(load1, 2)\n",
      "print \"------------------------layer 3--------------------------\"\n",
      "print \"criterion1.ret_centroid = \", criterion1.ret_centroid\n",
      "criterion1.MaxStrainCrit(load1, 3)\n",
      "print \"------------------------layer 4---------------------------\"\n",
      "print \"criterion1.ret_centroid = \", criterion1.ret_centroid\n",
      "print \"---------------------------------------------------------\""
     ],
     "language": "python",
     "metadata": {},
     "outputs": [
      {
       "output_type": "stream",
       "stream": "stdout",
       "text": [
        "------------------------layer 1--------------------------\n",
        "criterion1.ret_centroid =  [0.3343671373201747, 8.6378177141045056e-09, 1.3756154285774507e-08]\n",
        "------------------------layer 2---------------------------\n",
        "criterion1.ret_centroid =  [0.3343671373201747, 8.6378177141045072e-09, 1.3756154285774507e-08]\n",
        "------------------------layer 3--------------------------\n",
        "criterion1.ret_centroid =  [-0.33125323134633383, 2.5833010571322641e-08, 2.4096863360838467e-24]\n",
        "------------------------layer 4---------------------------\n",
        "criterion1.ret_centroid =  [0.99998750598668285, -0.25672125429340864, 1.0020609336375681e-16]\n",
        "---------------------------------------------------------\n"
       ]
      }
     ],
     "prompt_number": 24
    },
    {
     "cell_type": "heading",
     "level": 4,
     "metadata": {},
     "source": [
      "The laminate failed completely."
     ]
    }
   ],
   "metadata": {}
  }
 ]
}