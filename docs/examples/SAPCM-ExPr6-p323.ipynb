{
 "metadata": {
  "name": "SAPCM-ExPr6-p323"
 },
 "nbformat": 3,
 "nbformat_minor": 0,
 "worksheets": [
  {
   "cells": [
    {
     "cell_type": "heading",
     "level": 3,
     "metadata": {},
     "source": [
      "Example Problem 6 page 323 from Mark. E. Tuttle's \"Structural Analysis of Polymeric Composite Materials\", first edition.\n"
     ]
    },
    {
     "cell_type": "code",
     "collapsed": false,
     "input": [
      "import pyPLY\n",
      "\n",
      "GraphiteEpoxy = pyPLY.CompositeMaterial()\n",
      "GraphiteEpoxy.define(\"GraphiteEpoxy\", \"metric\", E11=170e9, E22=10e9, G12=13e9, niu12=0.3, thk=0.125e-3,\n",
      "             Sigma_ut0 = 1500e6, Sigma_uc0 = 1200e6, Sigma_ut90 = 50e6, Sigma_uc90 = 100e6, Tau_u = 75e6,\n",
      "             alpha_11 = -0.9e-6, alpha_22 = 27.0e-6, beta_11 = 150e-6, beta_22 = 4800)\n",
      "\n",
      "layer1 = pyPLY.Lamina()\n",
      "layer2 = pyPLY.Lamina()\n",
      "layer3 = pyPLY.Lamina()\n",
      "\n",
      "layer1.define(\"Layer_1\", 1, 30)\n",
      "layer2.define(\"Layer_2\", 1, 0)\n",
      "layer3.define(\"Layer_3\", 1, 90)\n",
      "\n",
      "layer1.update()\n",
      "layer2.update()\n",
      "layer3.update()\n",
      "\n",
      "laminate1 = pyPLY.Laminate()\n",
      "laminate1.add_Lamina(layer1)\n",
      "laminate1.add_Lamina(layer2)\n",
      "laminate1.add_Lamina(layer3)\n",
      "\n",
      "laminate1.update()"
     ],
     "language": "python",
     "metadata": {},
     "outputs": [
      {
       "output_type": "stream",
       "stream": "stdout",
       "text": [
        "\n"
       ]
      }
     ],
     "prompt_number": 2
    },
    {
     "cell_type": "heading",
     "level": 4,
     "metadata": {},
     "source": [
      "Apply a change in temperature of $\\Delta T=-155.0^\\circ C.$"
     ]
    },
    {
     "cell_type": "code",
     "collapsed": false,
     "input": [
      "load1 = pyPLY.Loading()\n",
      "load1.define_Load(0,0,0,0,0,0,-155,0)\n",
      "load1.apply_To(laminate1)"
     ],
     "language": "python",
     "metadata": {},
     "outputs": [],
     "prompt_number": 3
    },
    {
     "cell_type": "heading",
     "level": 3,
     "metadata": {},
     "source": [
      "Results:"
     ]
    },
    {
     "cell_type": "heading",
     "level": 4,
     "metadata": {},
     "source": [
      "Thermal stresses and moments:"
     ]
    },
    {
     "cell_type": "code",
     "collapsed": false,
     "input": [
      "print \"load1=\\n\", load1.thermal_load\n"
     ],
     "language": "python",
     "metadata": {},
     "outputs": [
      {
       "output_type": "stream",
       "stream": "stdout",
       "text": [
        "load1=\n",
        "[[ -4.05388361e+03]\n",
        " [ -7.35834658e+03]\n",
        " [  2.86174887e+03]\n",
        " [ -6.19586806e-01]\n",
        " [  6.19586806e-01]\n",
        " [ -3.57718609e-01]]\n"
       ]
      }
     ],
     "prompt_number": 9
    },
    {
     "cell_type": "heading",
     "level": 4,
     "metadata": {},
     "source": [
      "Midplane strains and curvatures:"
     ]
    },
    {
     "cell_type": "code",
     "collapsed": false,
     "input": [
      "print \"epsilon_K=\\n\", load1.epsilon_K"
     ],
     "language": "python",
     "metadata": {},
     "outputs": [
      {
       "output_type": "stream",
       "stream": "stdout",
       "text": [
        "epsilon_K=\n",
        "[[ -2.84793406e-04]\n",
        " [ -1.42446749e-03]\n",
        " [  9.08348871e-04]\n",
        " [ -2.15948353e+00]\n",
        " [  1.08932045e+01]\n",
        " [ -9.44080281e+00]]\n"
       ]
      }
     ],
     "prompt_number": 10
    },
    {
     "cell_type": "heading",
     "level": 4,
     "metadata": {},
     "source": [
      "Ply strains relative to the x-y coordinate system:"
     ]
    },
    {
     "cell_type": "code",
     "collapsed": false,
     "input": [
      "print \"     plyNo\", \"epsx\", \" epsy\", \" gammaxy\"\n",
      "for i in range (0, 3):\n",
      "    strain = load1.list_ply_strains_xy[i*3 + 0]\n",
      "    print \"bottom  \", i+1, '{0:+.4}'.format(strain[0,0]*1e6), '{0:+.4}'.format(strain[1,0]*1e6), '{0:+.4}'.format(strain[2,0]*1e6)\n",
      "    strain = load1.list_ply_strains_xy[i*3 + 1]\n",
      "    print \"centroid\", i+1, '{0:+.4}'.format(strain[0,0]*1e6), '{0:+.4}'.format(strain[1,0]*1e6), '{0:+.4}'.format(strain[2,0]*1e6)\n",
      "    strain = load1.list_ply_strains_xy[i*3 + 2]\n",
      "    print \"top     \", i+1, '{0:+.4}'.format(strain[0,0]*1e6), '{0:+.4}'.format(strain[1,0]*1e6), '{0:+.4}'.format(strain[2,0]*1e6)"
     ],
     "language": "python",
     "metadata": {},
     "outputs": [
      {
       "output_type": "stream",
       "stream": "stdout",
       "text": [
        "     plyNo epsx  epsy  gammaxy\n",
        "bottom   1 +120.1 -3467.0 +2678.0\n",
        "centroid 1 -14.86 -2786.0 +2088.0\n",
        "top      1 -149.8 -2105.0 +1498.0\n",
        "\n",
        "bottom   2 -149.8 -2105.0 +1498.0\n",
        "centroid 2 -284.8 -1424.0 +908.3\n",
        "top      2 -419.8 -743.6 +318.3\n",
        "\n",
        "bottom   3 -419.8 -743.6 +318.3\n",
        "centroid 3 -554.7 -62.82 -271.8\n",
        "top      3 -689.7 +618.0 -861.8\n",
        "\n"
       ]
      }
     ],
     "prompt_number": 11
    },
    {
     "cell_type": "heading",
     "level": 4,
     "metadata": {},
     "source": [
      "Ply stresses relative to the x-y coordinate system:"
     ]
    },
    {
     "cell_type": "code",
     "collapsed": false,
     "input": [
      "print \"     plyNo\", \"sigmax\", \"    sigmay\", \"    tauxy\"\n",
      "for i in range (0, 3):\n",
      "    stress = load1.list_ply_stresses_xy[i*3 + 0]\n",
      "    print \"bottom  \", i+1, '{0:+.4}'.format(stress[0,0]*1e-6), '{0:+.4}'.format(stress[1,0]*1e-6), '{0:+.4}'.format(stress[2,0]*1e-6)\n",
      "    stress = load1.list_ply_stresses_xy[i*3 + 1]\n",
      "    print \"centroid\", i+1, '{0:+.4}'.format(stress[0,0]*1e-6), '{0:+.4}'.format(stress[1,0]*1e-6), '{0:+.4}'.format(stress[2,0]*1e-6)\n",
      "    stress = load1.list_ply_stresses_xy[i*3 + 2]\n",
      "    print \"top     \", i+1, '{0:+.4}'.format(stress[0,0]*1e-6), '{0:+.4}'.format(stress[1,0]*1e-6), '{0:+.4}'.format(stress[2,0]*1e-6)"
     ],
     "language": "python",
     "metadata": {},
     "outputs": [
      {
       "output_type": "stream",
       "stream": "stdout",
       "text": [
        "     plyNo sigmax     sigmay     tauxy\n",
        "bottom   1 +53.49 -5.16 +4.841\n",
        "centroid 1 +28.3 -2.844 -8.276\n",
        "top      1 +3.119 -0.5288 -21.39\n",
        "bottom   2 -43.17 +20.04 +19.48\n",
        "centroid 2 -64.19 +26.47 +11.81\n",
        "top      2 -85.2 +32.91 +4.138\n",
        "bottom   3 +35.19 -139.6 +4.138\n",
        "centroid 3 +35.89 -23.63 -3.533\n",
        "top      3 +36.58 +92.32 -11.2\n"
       ]
      }
     ],
     "prompt_number": 13
    },
    {
     "cell_type": "code",
     "collapsed": false,
     "input": [],
     "language": "python",
     "metadata": {},
     "outputs": []
    }
   ],
   "metadata": {}
  }
 ]
}