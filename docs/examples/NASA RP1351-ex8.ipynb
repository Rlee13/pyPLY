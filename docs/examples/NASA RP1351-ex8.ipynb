{
 "metadata": {
  "name": "NASA RP1351-ex8"
 },
 "nbformat": 3,
 "nbformat_minor": 0,
 "worksheets": [
  {
   "cells": [
    {
     "cell_type": "heading",
     "level": 2,
     "metadata": {},
     "source": [
      "# Example 8 from \"Basic Mechanics of Laminated Composite Plates\"\n",
      "# A.T. Nettles\n",
      "# NASA Reference Publication 1351\n",
      "# in the original article some values for eps1, eps2, gamma12 are wrong"
     ]
    },
    {
     "cell_type": "code",
     "collapsed": false,
     "input": [
      "import pyPLY\n",
      "\n",
      "AS4_3501_6 = pyPLY.CompositeMaterial()\n",
      "AS4_3501_6.define(\"AS4_3501_6\", \"imperial\", E11=20010000.0, E22=1301000.0, G12=1001000.0, niu12=0.3, thk=0.005,\n",
      "             Sigma_ut0 = 616.0, Sigma_uc0 = 355.0, Sigma_ut90 = 42.0, Sigma_uc90 = 105.0, Tau_u = 50.0,\n",
      "             alpha_11 = -0.04e-6, alpha_22 = 18.0e-6, beta_11 = 0.01, beta_22 = 0.35)\n",
      "\n",
      "layer1 = pyPLY.Lamina()\n",
      "layer2 = pyPLY.Lamina()\n",
      "\n",
      "layer1.define(\"Layer_1\", 1, 0)\n",
      "layer2.define(\"Layer_2\", 1, 45)\n",
      "\n",
      "layer1.update()\n",
      "layer2.update()\n",
      "\n",
      "laminate1 = pyPLY.Laminate()\n",
      "laminate1.add_Lamina(layer1)\n",
      "laminate1.add_Lamina(layer2)\n",
      "\n",
      "laminate1.update()\n",
      "\n",
      "load1 = pyPLY.Loading()\n",
      "load1.define_Load(0,0,0,2.5,0,0,0,0)\n",
      "load1.apply_To(laminate1)\n",
      "\n",
      "from numpy import set_printoptions\n",
      "set_printoptions(suppress=True)\n",
      "print \"A=\", laminate1.A"
     ],
     "language": "python",
     "metadata": {},
     "outputs": [
      {
       "output_type": "stream",
       "stream": "stdout",
       "text": [
        "A= [[ 133420.93537597   24735.02596905   23523.9018575 ]\n",
        " [  24735.02596905   39325.32794599   23523.9018575 ]\n",
        " [  23523.9018575    23523.9018575    30819.05284596]]\n"
       ]
      }
     ],
     "prompt_number": 1
    },
    {
     "cell_type": "code",
     "collapsed": false,
     "input": [
      "print \"B=\", laminate1.B"
     ],
     "language": "python",
     "metadata": {},
     "outputs": [
      {
       "output_type": "stream",
       "stream": "stdout",
       "text": [
        "B= [[-169.6421414    52.02263211   58.80975464]\n",
        " [  52.02263211   65.59687717   58.80975464]\n",
        " [  58.80975464   58.80975464   52.02263211]]\n"
       ]
      }
     ],
     "prompt_number": 2
    },
    {
     "cell_type": "code",
     "collapsed": false,
     "input": [
      "print \"D=\", laminate1.D"
     ],
     "language": "python",
     "metadata": {},
     "outputs": [
      {
       "output_type": "stream",
       "stream": "stdout",
       "text": [
        "D= [[ 1.11184113  0.20612522  0.19603252]\n",
        " [ 0.20612522  0.32771107  0.19603252]\n",
        " [ 0.19603252  0.19603252  0.25682544]]\n"
       ]
      }
     ],
     "prompt_number": 3
    },
    {
     "cell_type": "code",
     "collapsed": false,
     "input": [
      "print \"load1.epsilon_K=\", load1.epsilon_K"
     ],
     "language": "python",
     "metadata": {},
     "outputs": [
      {
       "output_type": "stream",
       "stream": "stdout",
       "text": [
        "load1.epsilon_K= [[ 0.01018287]\n",
        " [-0.0009646 ]\n",
        " [-0.00921827]\n",
        " [ 5.11321711]\n",
        " [-0.92911675]\n",
        " [-3.4372968 ]]\n"
       ]
      }
     ],
     "prompt_number": 4
    },
    {
     "cell_type": "code",
     "collapsed": false,
     "input": [
      "print \"     layerNo\", \"epsx\", \" epsy\", \" gammaxy\"\n",
      "for i in range (0, 2):\n",
      "    strain = load1.list_ply_strains_xy[i*3 + 0]\n",
      "    print \"bottom  \", i+1, '{0:+.4}'.format(strain[0,0]), '{0:+.4}'.format(strain[1,0]), '{0:+.4}'.format(strain[2,0])\n",
      "    strain = load1.list_ply_strains_xy[i*3 + 1]\n",
      "    print \"centroid\", i+1, '{0:+.4}'.format(strain[0,0]), '{0:+.4}'.format(strain[1,0]), '{0:+.4}'.format(strain[2,0])\n",
      "    strain = load1.list_ply_strains_xy[i*3 + 2]\n",
      "    print \"top     \", i+1, '{0:+.4}'.format(strain[0,0]), '{0:+.4}'.format(strain[1,0]), '{0:+.4}'.format(strain[2,0])"
     ],
     "language": "python",
     "metadata": {},
     "outputs": [
      {
       "output_type": "stream",
       "stream": "stdout",
       "text": [
        "     layerNo epsx  epsy  gammaxy\n",
        "bottom   1 -0.01538 +0.003681 +0.007968\n",
        "centroid 1 -0.0026 +0.001358 -0.000625\n",
        "top      1 +0.01018 -0.0009646 -0.009218\n",
        "bottom   2 +0.01018 -0.0009646 -0.009218\n",
        "centroid 2 +0.02297 -0.003287 -0.01781\n",
        "top      2 +0.03575 -0.00561 -0.0264\n"
       ]
      }
     ],
     "prompt_number": 5
    },
    {
     "cell_type": "code",
     "collapsed": false,
     "input": [
      "print \"     layerNo\", \"sigmax\", \"    sigmay\", \"    sigmaxy\"\n",
      "for i in range (0, 2):\n",
      "    stress = load1.list_ply_stresses_xy[i*3 + 0]\n",
      "    print \"bottom  \", i+1, '{0:+.4}'.format(stress[0,0]), '{0:+.4}'.format(stress[1,0]), '{0:+.4}'.format(stress[2,0])\n",
      "    stress = load1.list_ply_stresses_xy[i*3 + 1]\n",
      "    print \"centroid\", i+1, '{0:+.4}'.format(stress[0,0]), '{0:+.4}'.format(stress[1,0]), '{0:+.4}'.format(stress[2,0])\n",
      "    stress = load1.list_ply_stresses_xy[i*3 + 2]\n",
      "    print \"top     \", i+1, '{0:+.4}'.format(stress[0,0]), '{0:+.4}'.format(stress[1,0]), '{0:+.4}'.format(stress[2,0])"
     ],
     "language": "python",
     "metadata": {},
     "outputs": [
      {
       "output_type": "stream",
       "stream": "stdout",
       "text": [
        "     layerNo sigmax     sigmay     sigmaxy\n",
        "bottom   1 -3.082e+05 -1222.0 +7976.0\n",
        "centroid 1 -5.18e+04 +756.6 -625.7\n",
        "top      1 +2.046e+05 +2735.0 -9227.0\n",
        "bottom   2 +1.9e+04 -3317.0 -4222.0\n",
        "centroid 2 +5.18e+04 -756.6 +625.7\n",
        "top      2 +8.461e+04 +1804.0 +5474.0\n"
       ]
      }
     ],
     "prompt_number": 6
    },
    {
     "cell_type": "code",
     "collapsed": false,
     "input": [
      "print \"     layerNo\", \"eps11\", \"      eps22\", \"    gamma12\"\n",
      "for i in range (0, 2):\n",
      "    strain = load1.list_ply_strains_12[i*3 + 0]\n",
      "    print \"bottom  \", i+1, '{0:+.4}'.format(strain[0,0]), '{0:+.4}'.format(strain[1,0]), '{0:+.4}'.format(strain[2,0])\n",
      "    strain = load1.list_ply_strains_12[i*3 + 1]\n",
      "    print \"centroid\", i+1, '{0:+.4}'.format(strain[0,0]), '{0:+.4}'.format(strain[1,0]), '{0:+.4}'.format(strain[2,0])\n",
      "    strain = load1.list_ply_strains_12[i*3 + 2]\n",
      "    print \"top     \", i+1, '{0:+.4}'.format(strain[0,0]), '{0:+.4}'.format(strain[1,0]), '{0:+.4}'.format(strain[2,0])"
     ],
     "language": "python",
     "metadata": {},
     "outputs": [
      {
       "output_type": "stream",
       "stream": "stdout",
       "text": [
        "     layerNo eps11       eps22     gamma12\n",
        "bottom   1 -0.01538 +0.003681 +0.007968\n",
        "centroid 1 -0.0026 +0.001358 -0.000625\n",
        "top      1 +0.01018 -0.0009646 -0.009218\n",
        "bottom   2 +2.006e-18 +0.009218 -0.01115\n",
        "centroid 2 +0.0009335 +0.01875 -0.02625\n",
        "top      2 +0.001867 +0.02827 -0.04136\n"
       ]
      }
     ],
     "prompt_number": 7
    },
    {
     "cell_type": "code",
     "collapsed": false,
     "input": [
      "print \"     layerNo\", \"sigma11\", \"      sigma22\", \"    tau12\"\n",
      "for i in range (0, 2):\n",
      "    stress = load1.list_ply_stresses_12[i*3 + 0]\n",
      "    print \"bottom  \", i+1, '{0:+.4}'.format(stress[0,0]), '{0:+.4e}'.format(stress[1,0]), '{0:+.4}'.format(stress[2,0])\n",
      "    stress = load1.list_ply_stresses_12[i*3 + 1]\n",
      "    print \"centroid\", i+1, '{0:+.4}'.format(stress[0,0]), '{0:+.4e}'.format(stress[1,0]), '{0:+.4}'.format(stress[2,0])\n",
      "    stress = load1.list_ply_stresses_12[i*3 + 2]\n",
      "    print \"top     \", i+1, '{0:+.4}'.format(stress[0,0]), '{0:+.4e}'.format(stress[1,0]), '{0:+.4}'.format(stress[2,0])\n",
      "    print"
     ],
     "language": "python",
     "metadata": {},
     "outputs": [
      {
       "output_type": "stream",
       "stream": "stdout",
       "text": [
        "     layerNo sigma11       sigma22     tau12\n",
        "bottom   1 -3.082e+05 -1.2223e+03 +7976.0\n",
        "centroid 1 -5.18e+04 +7.5659e+02 -625.7\n",
        "top      1 +2.046e+05 +2.7354e+03 -9227.0\n",
        "\n",
        "bottom   2 +3619.0 +1.2064e+04 -1.116e+04\n",
        "centroid 2 +2.615e+04 +2.4897e+04 -2.628e+04\n",
        "top      2 +4.868e+04 +3.7731e+04 -4.14e+04\n",
        "\n"
       ]
      }
     ],
     "prompt_number": 8
    }
   ],
   "metadata": {}
  }
 ]
}