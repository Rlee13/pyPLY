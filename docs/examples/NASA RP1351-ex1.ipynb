{
 "metadata": {
  "name": "NASA RP1351-ex1"
 },
 "nbformat": 3,
 "nbformat_minor": 0,
 "worksheets": [
  {
   "cells": [
    {
     "cell_type": "heading",
     "level": 2,
     "metadata": {},
     "source": [
      "Example 1 page 31 from \"Basic Mechanics of Laminated Composite Plates\"\n",
      "A.T. Nettles\n",
      "NASA Reference Publication 1351 "
     ]
    },
    {
     "cell_type": "heading",
     "level": 4,
     "metadata": {},
     "source": [
      "# Start by importing the pyPLY module."
     ]
    },
    {
     "cell_type": "code",
     "collapsed": false,
     "input": [
      "import pyPLY"
     ],
     "language": "python",
     "metadata": {},
     "outputs": [],
     "prompt_number": 1
    },
    {
     "cell_type": "heading",
     "level": 4,
     "metadata": {},
     "source": [
      "# Define the ply material.<br>\n",
      "# First by instantiating an object of \"pyPLY.CompositeMaterial\" class.<br>\n",
      "# Define the parameters:<br>\n",
      "\"name string\" - it can be any string, not necessarily unique (used for printing purposes only).<br>\n",
      "\"units\" - the units used need to be consistent, the string is informative only. In our case Young's Modulus is measured in lb/sqin and the thickness in in.<br>\n",
      "\"E11\" - Young's Modulus in 1,1 direction (measured along fibres).<br>\n",
      "\"E22\" - Young's Modulus in 2,2 direction (measured perpendicular on fibres).<br>\n",
      "\"G12\" - Shear Modulus in 1,1 direction.<br>\n",
      "\"niu12\" - Poisson ratio in 1,1 direction.<br>\n",
      "\"thk\" - ply thickness.<br>\n",
      "This set is the minimal set of parameters required for calculations. Extended characteristics (like strength) can be added - see separate examples.<br>"
     ]
    },
    {
     "cell_type": "code",
     "collapsed": false,
     "input": [
      "AS4_3501_6 = pyPLY.CompositeMaterial()\n",
      "AS4_3501_6.define(\"AS4_3501_6\", \"imperial\", E11=20010000.0, E22=1301000.0, G12=1001000.0, niu12=0.3, thk=0.005)"
     ],
     "language": "python",
     "metadata": {},
     "outputs": [],
     "prompt_number": 2
    },
    {
     "cell_type": "heading",
     "level": 4,
     "metadata": {},
     "source": [
      "# Define four layers."
     ]
    },
    {
     "cell_type": "code",
     "collapsed": false,
     "input": [
      "layer1 = pyPLY.Lamina()\n",
      "layer2 = pyPLY.Lamina()\n",
      "layer3 = pyPLY.Lamina()\n",
      "layer4 = pyPLY.Lamina()"
     ],
     "language": "python",
     "metadata": {},
     "outputs": [],
     "prompt_number": 3
    },
    {
     "cell_type": "heading",
     "level": 4,
     "metadata": {},
     "source": [
      "# Define the properties of each layer.<br>\n",
      "# The parameters are \"layer's name\", \"material number\", \"ply angle\". <br>\n",
      "# \"layer's name\" can be any string (it doesn't need to be unique - in this version of pyPLY at least).<br>\n",
      "# \"material number\" can be the i-th material defined here or its variable name.<br>\n",
      "# \"ply angle\" is in degrees.<br>"
     ]
    },
    {
     "cell_type": "code",
     "collapsed": false,
     "input": [
      "layer1.define(\"Layer_1\", 1, 0)\n",
      "layer2.define(\"Layer_2\", AS4_3501_6, -45)\n",
      "layer3.define(\"Layer_3\", AS4_3501_6, 45)\n",
      "layer4.define(\"Layer_4\", 1, 0)"
     ],
     "language": "python",
     "metadata": {},
     "outputs": [],
     "prompt_number": 4
    },
    {
     "cell_type": "heading",
     "level": 4,
     "metadata": {},
     "source": [
      "# Update the properties. Required after each change of properties."
     ]
    },
    {
     "cell_type": "code",
     "collapsed": false,
     "input": [
      "layer1.update()\n",
      "layer2.update()\n",
      "layer3.update()\n",
      "layer4.update()"
     ],
     "language": "python",
     "metadata": {},
     "outputs": [],
     "prompt_number": 5
    },
    {
     "cell_type": "heading",
     "level": 4,
     "metadata": {},
     "source": [
      "#  Add each defined layer to the laminate stack"
     ]
    },
    {
     "cell_type": "code",
     "collapsed": false,
     "input": [
      "laminate1 = pyPLY.Laminate()\n",
      "laminate1.add_Lamina(layer1)\n",
      "laminate1.add_Lamina(layer2)\n",
      "laminate1.add_Lamina(layer3)\n",
      "laminate1.add_Lamina(layer4)"
     ],
     "language": "python",
     "metadata": {},
     "outputs": [],
     "prompt_number": 6
    },
    {
     "cell_type": "heading",
     "level": 4,
     "metadata": {},
     "source": [
      "# Update the properties. Required after each change of properties."
     ]
    },
    {
     "cell_type": "code",
     "collapsed": false,
     "input": [
      "laminate1.update()"
     ],
     "language": "python",
     "metadata": {},
     "outputs": [],
     "prompt_number": 7
    },
    {
     "cell_type": "heading",
     "level": 4,
     "metadata": {},
     "source": [
      "[QU] is an array of laminate's Q-bar matrices (in the defined order).<br>\n",
      "# Print the results in Python console ..."
     ]
    },
    {
     "cell_type": "code",
     "collapsed": false,
     "input": [
      "print \"For the 0degree plies:\"\n",
      "print \"---------------------------\"\n",
      "print \"Qbar11 = \", '{0:10.0f}'.format(laminate1.QU[0][0,0])\n",
      "print \"Qbar12 = \", '{0:10.0f}'.format(laminate1.QU[0][0,1])\n",
      "print \"Qbar22 = \", '{0:10.0f}'.format(laminate1.QU[0][1,1])\n",
      "print \"Qbar16 = \", '{0:10.0f}'.format(laminate1.QU[0][1,2])\n",
      "print \"Qbar26 = \", '{0:10.0f}'.format(laminate1.QU[0][2,1])\n",
      "print \"Qbar66 = \", '{0:10.0f}'.format(laminate1.QU[0][2,2])\n",
      "print \"---------------------------\"\n",
      "print \"For the +/-45degree plies:\"\n",
      "print \"---------------------------\"\n",
      "print \"Qbar11 = \", '{0:10.0f}'.format(laminate1.QU[1][0,0])\n",
      "print \"Qbar12 = \", '{0:10.0f}'.format(laminate1.QU[1][0,1])\n",
      "print \"Qbar22 = \", '{0:10.0f}'.format(laminate1.QU[1][1,1])\n",
      "print \"Qbar16 = \", '{0:10.0f}'.format(laminate1.QU[1][1,2])\n",
      "print \"Qbar26 = \", '{0:10.0f}'.format(laminate1.QU[1][2,1])\n",
      "print \"Qbar66 = \", '{0:10.0f}'.format(laminate1.QU[1][2,2])\n",
      "print \"---------------------------\"\n",
      "print \"Young Modulus:\"\n",
      "print \"---------------------------\"\n",
      "print \"A11 = \", '{0:10.0f}'.format(laminate1.A[0,0])\n",
      "print \"A12 = \", '{0:10.0f}'.format(laminate1.A[0,1])\n",
      "print \"A22 = \", '{0:10.0f}'.format(laminate1.A[1,1])\n",
      "print \"A16 = \", '{0:10.0f}'.format(laminate1.A[1,2])\n",
      "print \"A26 = \", '{0:10.0f}'.format(laminate1.A[2,1])\n",
      "print \"A66 = \", '{0:10.0f}'.format(laminate1.A[2,2])\n",
      "print \"---------------------------\"\n",
      "print \"Young Modulus:\"\n",
      "print \"---------------------------\"\n",
      "print \"Ex = \", '{0:10.0f}'.format(laminate1.Ex)"
     ],
     "language": "python",
     "metadata": {},
     "outputs": [
      {
       "output_type": "stream",
       "stream": "stdout",
       "text": [
        "For the 0degree plies:\n",
        "---------------------------\n",
        "Qbar11 =    20127779\n",
        "Qbar12 =      392597\n",
        "Qbar22 =     1308658\n",
        "Qbar16 =           0\n",
        "Qbar26 =           0\n",
        "Qbar66 =     1001000\n",
        "---------------------------\n",
        "For the +/-45degree plies:\n",
        "---------------------------\n",
        "Qbar11 =     6556408\n",
        "Qbar12 =     4554408\n",
        "Qbar22 =     6556408\n",
        "Qbar16 =    -4704780\n",
        "Qbar26 =    -4704780\n",
        "Qbar66 =     5162811\n",
        "---------------------------\n",
        "Young Modulus:\n",
        "---------------------------\n",
        "A11 =      266842\n",
        "A12 =       49470\n",
        "A22 =       78651\n",
        "A16 =          -0\n",
        "A26 =          -0\n",
        "A66 =       61638\n",
        "---------------------------\n",
        "Young Modulus:\n",
        "---------------------------\n",
        "Ex =    11672709\n"
       ]
      }
     ],
     "prompt_number": 8
    },
    {
     "cell_type": "heading",
     "level": 4,
     "metadata": {},
     "source": [
      "# ... or print the same results in LATEX style. For this one needs to import LXMatrix function from pyPLYTools.py module."
     ]
    },
    {
     "cell_type": "code",
     "collapsed": false,
     "input": [
      "from pyPLYTools import LXMatrix\n",
      "from IPython.display import Latex\n",
      "\n",
      "Latex(\"$Q_{0,90} = \" + LXMatrix(laminate1.QU[0], '.3e', ipython=True) + \"$\")"
     ],
     "language": "python",
     "metadata": {},
     "outputs": [
      {
       "latex": [
        "$Q_{0,90} = \\left[\\begin{array}{ccc}\n",
        "\t2.013e+07 & 3.926e+05 & 0.000e+00\\\\\n",
        "\t3.926e+05 & 1.309e+06 & 0.000e+00\\\\\n",
        "\t0.000e+00 & 0.000e+00 & 1.001e+06\n",
        "\t\\end{array}\\right]$"
       ],
       "output_type": "pyout",
       "prompt_number": 9,
       "text": [
        "<IPython.core.display.Latex at 0x53cb5b0>"
       ]
      }
     ],
     "prompt_number": 9
    },
    {
     "cell_type": "code",
     "collapsed": false,
     "input": [
      "Latex(\"$Q_{+/-45} = \" + LXMatrix(laminate1.QU[1], '.3e', ipython=True) + \"$\")"
     ],
     "language": "python",
     "metadata": {},
     "outputs": [
      {
       "latex": [
        "$Q_{+/-45} = \\left[\\begin{array}{ccc}\n",
        "\t6.556e+06 & 4.554e+06 & -4.705e+06\\\\\n",
        "\t4.554e+06 & 6.556e+06 & -4.705e+06\\\\\n",
        "\t-4.705e+06 & -4.705e+06 & 5.163e+06\n",
        "\t\\end{array}\\right]$"
       ],
       "output_type": "pyout",
       "prompt_number": 10,
       "text": [
        "<IPython.core.display.Latex at 0x53bbc70>"
       ]
      }
     ],
     "prompt_number": 10
    },
    {
     "cell_type": "code",
     "collapsed": false,
     "input": [
      "Latex(\"$A = \" + LXMatrix(laminate1.A, '.3e', ipython=True) + \"$\")"
     ],
     "language": "python",
     "metadata": {},
     "outputs": [
      {
       "latex": [
        "$A = \\left[\\begin{array}{ccc}\n",
        "\t2.668e+05 & 4.947e+04 & -3.638e-12\\\\\n",
        "\t4.947e+04 & 7.865e+04 & -3.638e-12\\\\\n",
        "\t-3.638e-12 & -3.638e-12 & 6.164e+04\n",
        "\t\\end{array}\\right]$"
       ],
       "output_type": "pyout",
       "prompt_number": 11,
       "text": [
        "<IPython.core.display.Latex at 0x53bba50>"
       ]
      }
     ],
     "prompt_number": 11
    },
    {
     "cell_type": "code",
     "collapsed": false,
     "input": [
      "Latex(\"$E_x = \" + '{0:10.0f}'.format(laminate1.Ex) + \"$\")"
     ],
     "language": "python",
     "metadata": {},
     "outputs": [
      {
       "latex": [
        "$E_x =   11672709$"
       ],
       "output_type": "pyout",
       "prompt_number": 12,
       "text": [
        "<IPython.core.display.Latex at 0x53bbb90>"
       ]
      }
     ],
     "prompt_number": 12
    }
   ],
   "metadata": {}
  }
 ]
}