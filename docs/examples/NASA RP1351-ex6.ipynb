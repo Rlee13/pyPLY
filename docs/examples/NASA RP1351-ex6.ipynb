{
 "metadata": {
  "name": "NASA RP1351-ex6"
 },
 "nbformat": 3,
 "nbformat_minor": 0,
 "worksheets": [
  {
   "cells": [
    {
     "cell_type": "heading",
     "level": 2,
     "metadata": {},
     "source": [
      "# Example 6 pag 56 from \"Basic Mechanics of Laminated Composite Plates\"\n",
      "# A.T. Nettles\n",
      "# NASA Reference Publication 1351"
     ]
    },
    {
     "cell_type": "code",
     "collapsed": false,
     "input": [
      "import pyPLY\n",
      "\n",
      "print \"pyPLY Version:\", pyPLY.__pyPLYversion__\n",
      "\n",
      "AS4_3501_6 = pyPLY.CompositeMaterial()\n",
      "AS4_3501_6.define(\"AS4_3501_6\", \"imperial\", E11=20010000.0, E22=1301000.0, G12=1001000.0, niu12=0.3, thk=0.005,\n",
      "             Sigma_ut0 = 616.0, Sigma_uc0 = 355.0, Sigma_ut90 = 42.0, Sigma_uc90 = 105.0, Tau_u = 50.0,\n",
      "             alpha_11 = -0.04e-6, alpha_22 = 18.0e-6, beta_11 = 0.01, beta_22 = 0.35)\n",
      "\n",
      "layer1 = pyPLY.Lamina()\n",
      "layer2 = pyPLY.Lamina()\n",
      "layer3 = pyPLY.Lamina()\n",
      "layer4 = pyPLY.Lamina()\n",
      "\n",
      "layer1.define(\"Layer_1\", 1, 0)\n",
      "layer2.define(\"Layer_2\", 1, 45)\n",
      "layer3.define(\"Layer_3\", 1, 45)\n",
      "layer4.define(\"Layer_4\", 1, 0)\n",
      "\n",
      "layer1.update()\n",
      "layer2.update()\n",
      "layer3.update()\n",
      "layer4.update()\n",
      "\n",
      "laminate1 = pyPLY.Laminate()\n",
      "laminate1.add_Lamina(layer1)\n",
      "laminate1.add_Lamina(layer2)\n",
      "laminate1.add_Lamina(layer3)\n",
      "laminate1.add_Lamina(layer4)\n",
      "\n",
      "laminate1.update()\n",
      "\n",
      "load1 = pyPLY.Loading()\n",
      "load1.define_Load(0,0,0,5,0,0,0,0)\n",
      "load1.apply_To(laminate1)\n",
      "\n",
      "from numpy import set_printoptions\n",
      "set_printoptions(suppress=True)"
     ],
     "language": "python",
     "metadata": {},
     "outputs": [
      {
       "output_type": "stream",
       "stream": "stdout",
       "text": [
        "pyPLY Version: 0.1\n"
       ]
      }
     ],
     "prompt_number": 1
    },
    {
     "cell_type": "code",
     "collapsed": false,
     "input": [
      "print load1.epsilon_K"
     ],
     "language": "python",
     "metadata": {},
     "outputs": [
      {
       "output_type": "stream",
       "stream": "stdout",
       "text": [
        "[[-0.        ]\n",
        " [-0.        ]\n",
        " [ 0.        ]\n",
        " [ 0.4182108 ]\n",
        " [-0.16501182]\n",
        " [-0.0978853 ]]\n"
       ]
      }
     ],
     "prompt_number": 2
    },
    {
     "cell_type": "code",
     "collapsed": false,
     "input": [
      "print \"     layerNo\", \"epsx\", \" epsy\", \" gammaxy\"\n",
      "for i in range (0, 4):\n",
      "    strain = load1.list_ply_strains_xy[i*3 + 0]\n",
      "    print \"bottom  \", i+1, '{0:+.4}'.format(strain[0,0]), '{0:+.4}'.format(strain[1,0]), '{0:+.4}'.format(strain[2,0])\n",
      "    strain = load1.list_ply_strains_xy[i*3 + 1]\n",
      "    print \"centroid\", i+1, '{0:+.4}'.format(strain[0,0]), '{0:+.4}'.format(strain[1,0]), '{0:+.4}'.format(strain[2,0])\n",
      "    strain = load1.list_ply_strains_xy[i*3 + 2]\n",
      "    print \"top     \", i+1, '{0:+.4}'.format(strain[0,0]), '{0:+.4}'.format(strain[1,0]), '{0:+.4}'.format(strain[2,0])"
     ],
     "language": "python",
     "metadata": {},
     "outputs": [
      {
       "output_type": "stream",
       "stream": "stdout",
       "text": [
        "     layerNo epsx  epsy  gammaxy\n",
        "bottom   1 -0.004182 +0.00165 +0.0009789\n",
        "centroid 1 -0.003137 +0.001238 +0.0007341\n",
        "top      1 -0.002091 +0.0008251 +0.0004894\n",
        "bottom   2 -0.002091 +0.0008251 +0.0004894\n",
        "centroid 2 -0.001046 +0.0004125 +0.0002447\n",
        "top      2 -3.39e-20 -1.101e-19 +1.928e-19\n",
        "bottom   3 -3.39e-20 -1.101e-19 +1.928e-19\n",
        "centroid 3 +0.001046 -0.0004125 -0.0002447\n",
        "top      3 +0.002091 -0.0008251 -0.0004894\n",
        "bottom   4 +0.002091 -0.0008251 -0.0004894\n",
        "centroid 4 +0.003137 -0.001238 -0.0007341\n",
        "top      4 +0.004182 -0.00165 -0.0009789\n"
       ]
      }
     ],
     "prompt_number": 3
    },
    {
     "cell_type": "code",
     "collapsed": false,
     "input": [
      "print \"     layerNo\", \"sigmax\", \"    sigmay\", \"    sigmaxy\"\n",
      "for i in range (0, 4):\n",
      "    stress = load1.list_ply_stresses_xy[i*3 + 0]\n",
      "    print \"bottom  \", i+1, '{0:+.4}'.format(stress[0,0]), '{0:+.4}'.format(stress[1,0]), '{0:+.4}'.format(stress[2,0])\n",
      "    stress = load1.list_ply_stresses_xy[i*3 + 1]\n",
      "    print \"centroid\", i+1, '{0:+.4}'.format(stress[0,0]), '{0:+.4}'.format(stress[1,0]), '{0:+.4}'.format(stress[2,0])\n",
      "    stress = load1.list_ply_stresses_xy[i*3 + 2]\n",
      "    print \"top     \", i+1, '{0:+.4}'.format(stress[0,0]), '{0:+.4}'.format(stress[1,0]), '{0:+.4}'.format(stress[2,0])"
     ],
     "language": "python",
     "metadata": {},
     "outputs": [
      {
       "output_type": "stream",
       "stream": "stdout",
       "text": [
        "     layerNo sigmax     sigmay     sigmaxy\n",
        "bottom   1 -8.353e+04 +517.6 +979.8\n",
        "centroid 1 -6.265e+04 +388.2 +734.9\n",
        "top      1 -4.176e+04 +258.8 +489.9\n",
        "bottom   2 -7650.0 -1811.0 -3429.0\n",
        "centroid 2 -3825.0 -905.7 -1715.0\n",
        "top      2 +1.835e-13 +3.104e-14 +3.18e-13\n",
        "bottom   3 +1.835e-13 +3.104e-14 +3.18e-13\n",
        "centroid 3 +3825.0 +905.7 +1715.0\n",
        "top      3 +7650.0 +1811.0 +3429.0\n",
        "bottom   4 +4.176e+04 -258.8 -489.9\n",
        "centroid 4 +6.265e+04 -388.2 -734.9\n",
        "top      4 +8.353e+04 -517.6 -979.8\n"
       ]
      }
     ],
     "prompt_number": 4
    },
    {
     "cell_type": "code",
     "collapsed": false,
     "input": [
      "print \"     layerNo\", \"eps11\", \"      eps22\", \"    gamma12\"\n",
      "for i in range (0, 4):\n",
      "    strain = load1.list_ply_strains_12[i*3 + 0]\n",
      "    print \"bottom  \", i+1, '{0:+.4}'.format(strain[0,0]), '{0:+.4}'.format(strain[1,0]), '{0:+.4}'.format(strain[2,0])\n",
      "    strain = load1.list_ply_strains_12[i*3 + 1]\n",
      "    print \"centroid\", i+1, '{0:+.4}'.format(strain[0,0]), '{0:+.4}'.format(strain[1,0]), '{0:+.4}'.format(strain[2,0])\n",
      "    strain = load1.list_ply_strains_12[i*3 + 2]\n",
      "    print \"top     \", i+1, '{0:+.4}'.format(strain[0,0]), '{0:+.4}'.format(strain[1,0]), '{0:+.4}'.format(strain[2,0])"
     ],
     "language": "python",
     "metadata": {},
     "outputs": [
      {
       "output_type": "stream",
       "stream": "stdout",
       "text": [
        "     layerNo eps11       eps22     gamma12\n",
        "bottom   1 -0.004182 +0.00165 +0.0009789\n",
        "centroid 1 -0.003137 +0.001238 +0.0007341\n",
        "top      1 -0.002091 +0.0008251 +0.0004894\n",
        "bottom   2 -0.0003883 -0.0008777 +0.002916\n",
        "centroid 2 -0.0001941 -0.0004389 +0.001458\n",
        "top      2 +2.441e-20 -1.684e-19 -7.615e-20\n",
        "bottom   3 +2.441e-20 -1.684e-19 -7.615e-20\n",
        "centroid 3 +0.0001941 +0.0004389 -0.001458\n",
        "top      3 +0.0003883 +0.0008777 -0.002916\n",
        "bottom   4 +0.002091 -0.0008251 -0.0004894\n",
        "centroid 4 +0.003137 -0.001238 -0.0007341\n",
        "top      4 +0.004182 -0.00165 -0.0009789\n"
       ]
      }
     ],
     "prompt_number": 5
    },
    {
     "cell_type": "code",
     "collapsed": false,
     "input": [
      "print \"     layerNo\", \"sigma11\", \"      sigma22\", \"    tau12\"\n",
      "for i in range (0, 4):\n",
      "    stress = load1.list_ply_stresses_12[i*3 + 0]\n",
      "    print \"bottom  \", i+1, '{0:+.4}'.format(stress[0,0]), '{0:+.4e}'.format(stress[1,0]), '{0:+.4}'.format(stress[2,0])\n",
      "    stress = load1.list_ply_stresses_12[i*3 + 1]\n",
      "    print \"centroid\", i+1, '{0:+.4}'.format(stress[0,0]), '{0:+.4e}'.format(stress[1,0]), '{0:+.4}'.format(stress[2,0])\n",
      "    stress = load1.list_ply_stresses_12[i*3 + 2]\n",
      "    print \"top     \", i+1, '{0:+.4}'.format(stress[0,0]), '{0:+.4e}'.format(stress[1,0]), '{0:+.4}'.format(stress[2,0])\n",
      "    print"
     ],
     "language": "python",
     "metadata": {},
     "outputs": [
      {
       "output_type": "stream",
       "stream": "stdout",
       "text": [
        "     layerNo sigma11       sigma22     tau12\n",
        "bottom   1 -8.353e+04 +5.1756e+02 +979.8\n",
        "centroid 1 -6.265e+04 +3.8817e+02 +734.9\n",
        "top      1 -4.176e+04 +2.5878e+02 +489.9\n",
        "\n",
        "bottom   2 -8160.0 -1.3011e+03 +2919.0\n",
        "centroid 2 -4080.0 -6.5053e+02 +1460.0\n",
        "top      2 +4.253e-13 -2.1075e-13 -7.623e-14\n",
        "\n",
        "bottom   3 +4.253e-13 -2.1075e-13 -7.623e-14\n",
        "centroid 3 +4080.0 +6.5053e+02 -1460.0\n",
        "top      3 +8160.0 +1.3011e+03 -2919.0\n",
        "\n",
        "bottom   4 +4.176e+04 -2.5878e+02 -489.9\n",
        "centroid 4 +6.265e+04 -3.8817e+02 -734.9\n",
        "top      4 +8.353e+04 -5.1756e+02 -979.8\n",
        "\n"
       ]
      }
     ],
     "prompt_number": 6
    }
   ],
   "metadata": {}
  }
 ]
}