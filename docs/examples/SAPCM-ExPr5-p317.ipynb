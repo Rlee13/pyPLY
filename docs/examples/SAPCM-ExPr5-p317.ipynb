{
 "metadata": {
  "name": "SAPCM-ExPr5-p317"
 },
 "nbformat": 3,
 "nbformat_minor": 0,
 "worksheets": [
  {
   "cells": [
    {
     "cell_type": "heading",
     "level": 3,
     "metadata": {},
     "source": [
      "Example Problem 5 page 317 from Mark. E. Tuttle's \"Structural Analysis of Polymeric Composite Materials\", first edition.\n",
      "\n"
     ]
    },
    {
     "cell_type": "code",
     "collapsed": false,
     "input": [
      "import pyPLY\n",
      "\n",
      "GraphiteEpoxy = pyPLY.CompositeMaterial()\n",
      "GraphiteEpoxy.define(\"GraphiteEpoxy\", \"metric\", E11=170e9, E22=10e9, G12=13e9, niu12=0.3, thk=0.125e-3,\n",
      "             Sigma_ut0 = 1500e6, Sigma_uc0 = 1200e6, Sigma_ut90 = 50e6, Sigma_uc90 = 100e6, Tau_u = 75e6,\n",
      "             alpha_11 = -0.9e-6, alpha_22 = 27.0e-6, beta_11 = 150e-6, beta_22 = 4800)\n",
      "\n",
      "layer1 = pyPLY.Lamina()\n",
      "layer2 = pyPLY.Lamina()\n",
      "layer3 = pyPLY.Lamina()\n",
      "\n",
      "layer1.define(\"Layer_1\", 1, 30)\n",
      "layer2.define(\"Layer_2\", 1, 0)\n",
      "layer3.define(\"Layer_3\", 1, 90)\n",
      "\n",
      "layer1.update()\n",
      "layer2.update()\n",
      "layer3.update()\n",
      "\n",
      "laminate1 = pyPLY.Laminate()\n",
      "laminate1.add_Lamina(layer1)\n",
      "laminate1.add_Lamina(layer2)\n",
      "laminate1.add_Lamina(layer3)\n",
      "\n",
      "laminate1.update()\n",
      "\n",
      "load1 = pyPLY.Loading()\n",
      "load1.define_Load(50000,-10000,0,1,-1,0,0,0)\n",
      "load1.apply_To(laminate1)"
     ],
     "language": "python",
     "metadata": {},
     "outputs": [
      {
       "output_type": "stream",
       "stream": "stdout",
       "text": [
        "\n"
       ]
      }
     ],
     "prompt_number": 2
    },
    {
     "cell_type": "heading",
     "level": 2,
     "metadata": {},
     "source": [
      "Results:"
     ]
    },
    {
     "cell_type": "code",
     "collapsed": false,
     "input": [
      "from pyPLYTools import LXMatrix\n",
      "from IPython.display import Latex\n",
      "\n",
      "Latex(\"$abd = \" + LXMatrix(laminate1.abd, '.3e', ipython=True) + \"$\")"
     ],
     "language": "python",
     "metadata": {},
     "outputs": [
      {
       "latex": [
        "$abd = \\left[\\begin{array}{cccccc}\n",
        "\t3.757e-08 & -1.964e-09 & -1.038e-08 & 1.440e-04 & 3.905e-06 & 8.513e-05\\\\\n",
        "\t-1.964e-09 & 1.037e-07 & -4.234e-08 & -1.866e-05 & -6.361e-04 & 4.628e-04\\\\\n",
        "\t-1.038e-08 & -4.234e-08 & 2.004e-07 & 3.661e-04 & 3.251e-04 & -1.851e-05\\\\\n",
        "\t1.440e-04 & -1.866e-05 & 3.661e-04 & 7.064e+00 & -3.122e-02 & -4.572e+00\\\\\n",
        "\t3.905e-06 & -6.361e-04 & 3.251e-04 & -3.122e-02 & 6.429e+00 & -3.620e+00\\\\\n",
        "\t8.513e-05 & 4.628e-04 & -1.851e-05 & -4.572e+00 & -3.620e+00 & 1.741e+01\n",
        "\t\\end{array}\\right]$"
       ],
       "output_type": "pyout",
       "prompt_number": 3,
       "text": [
        "<IPython.core.display.Latex at 0x52a0c90>"
       ]
      }
     ],
     "prompt_number": 3
    },
    {
     "cell_type": "heading",
     "level": 4,
     "metadata": {},
     "source": [
      "Midplane strains and curvatures:"
     ]
    },
    {
     "cell_type": "code",
     "collapsed": false,
     "input": [
      "Latex(\"$\\epsilon_K = \" + LXMatrix(load1.epsilon_K, '.3e', ipython=True) + \"$\")"
     ],
     "language": "python",
     "metadata": {},
     "outputs": [
      {
       "latex": [
        "$\\epsilon_K = \\left[\\begin{array}{c}\n",
        "\t2.038e-03\\\\\n",
        "\t-5.179e-04\\\\\n",
        "\t-5.454e-05\\\\\n",
        "\t1.448e+01\\\\\n",
        "\t9.602e-02\\\\\n",
        "\t-1.323e+00\n",
        "\t\\end{array}\\right]$"
       ],
       "output_type": "pyout",
       "prompt_number": 8,
       "text": [
        "<IPython.core.display.Latex at 0x52df150>"
       ]
      }
     ],
     "prompt_number": 8
    },
    {
     "cell_type": "heading",
     "level": 4,
     "metadata": {},
     "source": [
      "Ply strains relative to the x-y coordinate system:"
     ]
    },
    {
     "cell_type": "markdown",
     "metadata": {},
     "source": [
      "Note: In pyPLY applying a load to a laminate the return is a list of strains measured at the top, centroid and bottom of the each ply. For example to extract the <u>bottom</u> strains for the second ply one would do:"
     ]
    },
    {
     "cell_type": "code",
     "collapsed": false,
     "input": [
      "# 2 = plyno, 3x component per ply (\"epsx\", \"epsy\", \"gammaxy\"), 0 is the bottom component (1 is centroid, 2 is top component).\n",
      "strainPly2 = load1.list_ply_strains_xy[2*3 + 0]\n",
      "print strainPly2"
     ],
     "language": "python",
     "metadata": {},
     "outputs": [
      {
       "output_type": "stream",
       "stream": "stdout",
       "text": [
        "[[ 0.00294326]\n",
        " [-0.00051186]\n",
        " [-0.00013723]]\n"
       ]
      }
     ],
     "prompt_number": 21
    },
    {
     "cell_type": "code",
     "collapsed": false,
     "input": [
      "print \"     plyNo\", \"epsx\", \" epsy\", \" gammaxy\"\n",
      "for i in range (0, 3):\n",
      "    strain = load1.list_ply_strains_xy[i*3 + 0]\n",
      "    print \"bottom  \", i+1, '{0:+.4}'.format(strain[0,0]), '{0:+.4}'.format(strain[1,0]), '{0:+.4}'.format(strain[2,0])\n",
      "    strain = load1.list_ply_strains_xy[i*3 + 1]\n",
      "    print \"centroid\", i+1, '{0:+.4}'.format(strain[0,0]), '{0:+.4}'.format(strain[1,0]), '{0:+.4}'.format(strain[2,0])\n",
      "    strain = load1.list_ply_strains_xy[i*3 + 2]\n",
      "    print \"top     \", i+1, '{0:+.4}'.format(strain[0,0]), '{0:+.4}'.format(strain[1,0]), '{0:+.4}'.format(strain[2,0])\n"
     ],
     "language": "python",
     "metadata": {},
     "outputs": [
      {
       "output_type": "stream",
       "stream": "stdout",
       "text": [
        "     plyNo epsx  epsy  gammaxy\n",
        "bottom   1 -0.0006771 -0.0005359 +0.0001935\n",
        "centroid 1 +0.000228 -0.0005299 +0.0001109\n",
        "top      1 +0.001133 -0.0005239 +2.816e-05\n",
        "bottom   2 +0.001133 -0.0005239 +2.816e-05\n",
        "centroid 2 +0.002038 -0.0005179 -5.454e-05\n",
        "top      2 +0.002943 -0.0005119 -0.0001372\n",
        "bottom   3 +0.002943 -0.0005119 -0.0001372\n",
        "centroid 3 +0.003848 -0.0005059 -0.0002199\n",
        "top      3 +0.004753 -0.0004999 -0.0003026\n"
       ]
      }
     ],
     "prompt_number": 13
    },
    {
     "cell_type": "heading",
     "level": 4,
     "metadata": {},
     "source": [
      "Ply stresses relative to the x-y coordinate system:"
     ]
    },
    {
     "cell_type": "markdown",
     "metadata": {},
     "source": [
      "Note: In the same manner, applying a load to a laminate the return has also a list of stresses measured at the top, centroid and bottom of the each ply. For example to extract the <u>bottom</u> stress for the second ply one would do:"
     ]
    },
    {
     "cell_type": "code",
     "collapsed": false,
     "input": [
      "# 2 = plyno, 3x component per ply (\"sigmax\", \"sigmay\", \"tauxy\"), 0 the bottom component.\n",
      "stressPly2 = load1.list_ply_stresses_xy[2*3 + 0] \n",
      "print stressPly2"
     ],
     "language": "python",
     "metadata": {},
     "outputs": [
      {
       "output_type": "stream",
       "stream": "stdout",
       "text": [
        "[[ 28045483.64349176]\n",
        " [-78602487.37103231]\n",
        " [ -1784008.53646703]]\n"
       ]
      }
     ],
     "prompt_number": 19
    },
    {
     "cell_type": "code",
     "collapsed": false,
     "input": [
      "print \"     plyNo\", \"sigmax\", \"    sigmay\", \"    tauxy\"\n",
      "for i in range (0, 3):\n",
      "    stress = load1.list_ply_stresses_xy[i*3 + 0]\n",
      "    print \"bottom  \", i+1, '{0:+.4}'.format(stress[0,0]), '{0:+.4}'.format(stress[1,0]), '{0:+.4}'.format(stress[2,0])\n",
      "    stress = load1.list_ply_stresses_xy[i*3 + 1]\n",
      "    print \"centroid\", i+1, '{0:+.4}'.format(stress[0,0]), '{0:+.4}'.format(stress[1,0]), '{0:+.4}'.format(stress[2,0])\n",
      "    stress = load1.list_ply_stresses_xy[i*3 + 2]\n",
      "    print \"top     \", i+1, '{0:+.4}'.format(stress[0,0]), '{0:+.4}'.format(stress[1,0]), '{0:+.4}'.format(stress[2,0])"
     ],
     "language": "python",
     "metadata": {},
     "outputs": [
      {
       "output_type": "stream",
       "stream": "stdout",
       "text": [
        "     plyNo sigmax     sigmay     tauxy\n",
        "bottom   1 -7.754e+07 -2.807e+07 -3.714e+07\n",
        "centroid 1 +1.607e+07 -6.094e+06 +3.568e+06\n",
        "top      1 +1.097e+08 +1.588e+07 +4.428e+07\n",
        "bottom   2 +1.921e+08 -1.849e+06 +3.66e+05\n",
        "centroid 2 +3.468e+08 +9.409e+05 -7.09e+05\n",
        "top      2 +5.015e+08 +3.731e+06 -1.784e+06\n",
        "bottom   3 +2.805e+07 -7.86e+07 -1.784e+06\n",
        "centroid 3 +3.716e+07 -7.485e+07 -2.859e+06\n",
        "top      3 +4.628e+07 -7.109e+07 -3.934e+06\n"
       ]
      }
     ],
     "prompt_number": 14
    },
    {
     "cell_type": "code",
     "collapsed": false,
     "input": [],
     "language": "python",
     "metadata": {},
     "outputs": []
    }
   ],
   "metadata": {}
  }
 ]
}