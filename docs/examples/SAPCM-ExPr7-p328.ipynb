{
 "metadata": {
  "name": "SAPCM-ExPr7-p328"
 },
 "nbformat": 3,
 "nbformat_minor": 0,
 "worksheets": [
  {
   "cells": [
    {
     "cell_type": "heading",
     "level": 3,
     "metadata": {},
     "source": [
      "Example Problem 7 page 328 from Mark. E. Tuttle's \"Structural Analysis of Polymeric Composite Materials\", first edition.\n"
     ]
    },
    {
     "cell_type": "code",
     "collapsed": false,
     "input": [
      "import pyPLY\n",
      "\n",
      "# see separate examples for detailed explanations about the paramenters.\n",
      "\n",
      "GraphiteEpoxy = pyPLY.CompositeMaterial()\n",
      "GraphiteEpoxy.define(\"GraphiteEpoxy\", \"metric\", E11=170e9, E22=10e9, G12=13e9, niu12=0.3, thk=0.125e-3,\n",
      "             Sigma_ut0 = 1500e6, Sigma_uc0 = 1200e6, Sigma_ut90 = 50e6, Sigma_uc90 = 100e6, Tau_u = 75e6,\n",
      "             alpha_11 = -0.9e-6, alpha_22 = 27.0e-6, beta_11 = 150e-6, beta_22 = 4800e-6)\n",
      "\n",
      "layer1 = pyPLY.Lamina()\n",
      "layer2 = pyPLY.Lamina()\n",
      "layer3 = pyPLY.Lamina()\n",
      "\n",
      "layer1.define(\"Layer_1\", 1, 30)\n",
      "layer2.define(\"Layer_2\", 1, 0)\n",
      "layer3.define(\"Layer_3\", 1, 90)\n",
      "\n",
      "layer1.update()\n",
      "layer2.update()\n",
      "layer3.update()\n",
      "\n",
      "laminate1 = pyPLY.Laminate()\n",
      "laminate1.add_Lamina(layer1)\n",
      "laminate1.add_Lamina(layer2)\n",
      "laminate1.add_Lamina(layer3)\n",
      "\n",
      "laminate1.update()"
     ],
     "language": "python",
     "metadata": {},
     "outputs": [],
     "prompt_number": 9
    },
    {
     "cell_type": "heading",
     "level": 4,
     "metadata": {},
     "source": [
      "Apply a change in temperature of $\\Delta T=-155.0^\\circ C.$"
     ]
    },
    {
     "cell_type": "code",
     "collapsed": false,
     "input": [
      "load1 = pyPLY.Loading()\n",
      "load1.define_Load(0,0,0,0,0,0,-155,0.5)\n",
      "load1.apply_To(laminate1)"
     ],
     "language": "python",
     "metadata": {},
     "outputs": [],
     "prompt_number": 2
    },
    {
     "cell_type": "heading",
     "level": 3,
     "metadata": {},
     "source": [
      "Results:"
     ]
    },
    {
     "cell_type": "code",
     "collapsed": false,
     "input": [
      "print \"load1=\\n\", load1.moisture_load\n"
     ],
     "language": "python",
     "metadata": {},
     "outputs": [
      {
       "output_type": "stream",
       "stream": "stdout",
       "text": [
        "load1=\n",
        "[[  8.19259129e+03]\n",
        " [  8.46120084e+03]\n",
        " [ -2.32622694e+02]\n",
        " [  5.03642907e-02]\n",
        " [ -5.03642907e-02]\n",
        " [  2.90778368e-02]]\n"
       ]
      }
     ],
     "prompt_number": 3
    },
    {
     "cell_type": "heading",
     "level": 4,
     "metadata": {},
     "source": [
      "Midplane strains and curvatures:"
     ]
    },
    {
     "cell_type": "code",
     "collapsed": false,
     "input": [
      "\n",
      "print \"epsilon_K=\\n\", load1.epsilon_K"
     ],
     "language": "python",
     "metadata": {},
     "outputs": [
      {
       "output_type": "stream",
       "stream": "stdout",
       "text": [
        "epsilon_K=\n",
        "[[  1.83213284e-05]\n",
        " [ -5.08624754e-04]\n",
        " [  4.19989263e-04]\n",
        " [ -9.98470880e-01]\n",
        " [  5.03664294e+00]\n",
        " [ -4.36510237e+00]]\n"
       ]
      }
     ],
     "prompt_number": 7
    },
    {
     "cell_type": "heading",
     "level": 4,
     "metadata": {},
     "source": [
      "Ply strains relative to the x-y coordinate system:"
     ]
    },
    {
     "cell_type": "code",
     "collapsed": false,
     "input": [
      "print \"     layerNo\", \"epsx\", \" epsy\", \" gammaxy\"\n",
      "for i in range (0, 3):\n",
      "    strain = load1.list_ply_strains_xy[i*3 + 0]\n",
      "    print \"bottom  \", i+1, '{0:+.4}'.format(strain[0,0]*1e6), '{0:+.4}'.format(strain[1,0]*1e6), '{0:+.4}'.format(strain[2,0]*1e6)\n",
      "    strain = load1.list_ply_strains_xy[i*3 + 1]\n",
      "    print \"centroid\", i+1, '{0:+.4}'.format(strain[0,0]*1e6), '{0:+.4}'.format(strain[1,0]*1e6), '{0:+.4}'.format(strain[2,0]*1e6)\n",
      "    strain = load1.list_ply_strains_xy[i*3 + 2]\n",
      "    print \"top     \", i+1, '{0:+.4}'.format(strain[0,0]*1e6), '{0:+.4}'.format(strain[1,0]*1e6), '{0:+.4}'.format(strain[2,0]*1e6)"
     ],
     "language": "python",
     "metadata": {},
     "outputs": [
      {
       "output_type": "stream",
       "stream": "stdout",
       "text": [
        "     layerNo epsx  epsy  gammaxy\n",
        "bottom   1 +205.5 -1453.0 +1238.0\n",
        "centroid 1 +143.1 -1138.0 +965.6\n",
        "top      1 +80.73 -823.4 +692.8\n",
        "bottom   2 +80.73 -823.4 +692.8\n",
        "centroid 2 +18.32 -508.6 +420.0\n",
        "top      2 -44.08 -193.8 +147.2\n",
        "bottom   3 -44.08 -193.8 +147.2\n",
        "centroid 3 -106.5 +121.0 -125.6\n",
        "top      3 -168.9 +435.7 -398.5\n"
       ]
      }
     ],
     "prompt_number": 5
    },
    {
     "cell_type": "heading",
     "level": 4,
     "metadata": {},
     "source": [
      "Ply stresses relative to the x-y coordinate system:"
     ]
    },
    {
     "cell_type": "code",
     "collapsed": false,
     "input": [
      "print \"     layerNo\", \"sigmax\", \"    sigmay\", \"    tauxy\"\n",
      "for i in range (0, 3):\n",
      "    stress = load1.list_ply_stresses_xy[i*3 + 0]\n",
      "    print \"bottom  \", i+1, '{0:+.4}'.format(stress[0,0]*1e-6), '{0:+.4}'.format(stress[1,0]*1e-6), '{0:+.4}'.format(stress[2,0]*1e-6)\n",
      "    stress = load1.list_ply_stresses_xy[i*3 + 1]\n",
      "    print \"centroid\", i+1, '{0:+.4}'.format(stress[0,0]*1e-6), '{0:+.4}'.format(stress[1,0]*1e-6), '{0:+.4}'.format(stress[2,0]*1e-6)\n",
      "    stress = load1.list_ply_stresses_xy[i*3 + 2]\n",
      "    print \"top     \", i+1, '{0:+.4}'.format(stress[0,0]*1e-6), '{0:+.4}'.format(stress[1,0]*1e-6), '{0:+.4}'.format(stress[2,0]*1e-6)"
     ],
     "language": "python",
     "metadata": {},
     "outputs": [
      {
       "output_type": "stream",
       "stream": "stdout",
       "text": [
        "     layerNo sigmax     sigmay     tauxy\n",
        "bottom   1 +24.73 -2.386 +2.238\n",
        "centroid 1 +13.09 -1.315 -3.826\n",
        "top      1 +1.442 -0.2445 -9.891\n",
        "bottom   2 -19.96 +9.264 +9.007\n",
        "centroid 2 -29.68 +12.24 +5.46\n",
        "top      2 -39.39 +15.22 +1.913\n",
        "bottom   3 +16.27 -64.54 +1.913\n",
        "centroid 3 +16.59 -10.92 -1.633\n",
        "top      3 +16.91 +42.69 -5.18\n"
       ]
      }
     ],
     "prompt_number": 8
    },
    {
     "cell_type": "code",
     "collapsed": false,
     "input": [],
     "language": "python",
     "metadata": {},
     "outputs": []
    }
   ],
   "metadata": {}
  }
 ]
}