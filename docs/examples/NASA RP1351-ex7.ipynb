{
 "metadata": {
  "name": "NASA RP1351-ex7"
 },
 "nbformat": 3,
 "nbformat_minor": 0,
 "worksheets": [
  {
   "cells": [
    {
     "cell_type": "heading",
     "level": 2,
     "metadata": {},
     "source": [
      "# Example 7 page 63 from \"Basic Mechanics of Laminated Composite Plates\"\n",
      "# A.T. Nettles\n",
      "# NASA Reference Publication 1351"
     ]
    },
    {
     "cell_type": "code",
     "collapsed": false,
     "input": [
      "import pyPLY\n",
      "\n",
      "AS4_3501_6 = pyPLY.CompositeMaterial()\n",
      "AS4_3501_6.define(\"AS4_3501_6\", \"imperial\", E11=20010000.0, E22=1301000.0, G12=1001000.0, niu12=0.3, thk=0.005,\n",
      "             Sigma_ut0 = 616.0, Sigma_uc0 = 355.0, Sigma_ut90 = 42.0, Sigma_uc90 = 105.0, Tau_u = 50.0,\n",
      "             alpha_11 = -0.04e-6, alpha_22 = 18.0e-6, beta_11 = 0.01, beta_22 = 0.35)\n",
      "\n",
      "layer1 = pyPLY.Lamina()\n",
      "layer2 = pyPLY.Lamina()\n",
      "\n",
      "layer1.define(\"Layer_1\", 1, 0)\n",
      "layer2.define(\"Layer_2\", 1, 45)\n",
      "\n",
      "layer1.update()\n",
      "layer2.update()\n",
      "\n",
      "laminate1 = pyPLY.Laminate()\n",
      "laminate1.add_Lamina(layer1)\n",
      "laminate1.add_Lamina(layer2)\n",
      "\n",
      "laminate1.update()\n",
      "\n",
      "load1 = pyPLY.Loading()\n",
      "load1.define_Load(250,0,0,0,0,0,0,0)\n",
      "load1.apply_To(laminate1)\n",
      "\n",
      "from numpy import set_printoptions\n",
      "set_printoptions(suppress=True)\n",
      "print \"A=\", laminate1.A"
     ],
     "language": "python",
     "metadata": {},
     "outputs": [
      {
       "output_type": "stream",
       "stream": "stdout",
       "text": [
        "A= [[ 133420.93537597   24735.02596905   23523.9018575 ]\n",
        " [  24735.02596905   39325.32794599   23523.9018575 ]\n",
        " [  23523.9018575    23523.9018575    30819.05284596]]\n"
       ]
      }
     ],
     "prompt_number": 1
    },
    {
     "cell_type": "code",
     "collapsed": false,
     "input": [
      "print \"B=\", laminate1.B"
     ],
     "language": "python",
     "metadata": {},
     "outputs": [
      {
       "output_type": "stream",
       "stream": "stdout",
       "text": [
        "B= [[-169.6421414    52.02263211   58.80975464]\n",
        " [  52.02263211   65.59687717   58.80975464]\n",
        " [  58.80975464   58.80975464   52.02263211]]\n"
       ]
      }
     ],
     "prompt_number": 2
    },
    {
     "cell_type": "code",
     "collapsed": false,
     "input": [
      "print \"D=\", laminate1.D"
     ],
     "language": "python",
     "metadata": {},
     "outputs": [
      {
       "output_type": "stream",
       "stream": "stdout",
       "text": [
        "D= [[ 1.11184113  0.20612522  0.19603252]\n",
        " [ 0.20612522  0.32771107  0.19603252]\n",
        " [ 0.19603252  0.19603252  0.25682544]]\n"
       ]
      }
     ],
     "prompt_number": 3
    },
    {
     "cell_type": "code",
     "collapsed": false,
     "input": [
      "print \"load1.epsilon_K=\", load1.epsilon_K"
     ],
     "language": "python",
     "metadata": {},
     "outputs": [
      {
       "output_type": "stream",
       "stream": "stdout",
       "text": [
        "load1.epsilon_K= [[ 0.00426101]\n",
        " [-0.00077426]\n",
        " [-0.00286441]\n",
        " [ 1.01828684]\n",
        " [-0.0964596 ]\n",
        " [-0.92182724]]\n"
       ]
      }
     ],
     "prompt_number": 4
    },
    {
     "cell_type": "code",
     "collapsed": false,
     "input": [
      "print \"     layerNo\", \"epsx\", \" epsy\", \" gammaxy\"\n",
      "for i in range (0, 2):\n",
      "    strain = load1.list_ply_strains_xy[i*3 + 0]\n",
      "    print \"bottom  \", i+1, '{0:+.4}'.format(strain[0,0]), '{0:+.4}'.format(strain[1,0]), '{0:+.4}'.format(strain[2,0])\n",
      "    strain = load1.list_ply_strains_xy[i*3 + 1]\n",
      "    print \"centroid\", i+1, '{0:+.4}'.format(strain[0,0]), '{0:+.4}'.format(strain[1,0]), '{0:+.4}'.format(strain[2,0])\n",
      "    strain = load1.list_ply_strains_xy[i*3 + 2]\n",
      "    print \"top     \", i+1, '{0:+.4}'.format(strain[0,0]), '{0:+.4}'.format(strain[1,0]), '{0:+.4}'.format(strain[2,0])"
     ],
     "language": "python",
     "metadata": {},
     "outputs": [
      {
       "output_type": "stream",
       "stream": "stdout",
       "text": [
        "     layerNo epsx  epsy  gammaxy\n",
        "bottom   1 -0.0008304 -0.000292 +0.001745\n",
        "centroid 1 +0.001715 -0.0005331 -0.0005598\n",
        "top      1 +0.004261 -0.0007743 -0.002864\n",
        "bottom   2 +0.004261 -0.0007743 -0.002864\n",
        "centroid 2 +0.006807 -0.001015 -0.005169\n",
        "top      2 +0.009352 -0.001257 -0.007474\n"
       ]
      }
     ],
     "prompt_number": 5
    },
    {
     "cell_type": "code",
     "collapsed": false,
     "input": [
      "print \"     layerNo\", \"sigmax\", \"    sigmay\", \"    sigmaxy\"\n",
      "for i in range (0, 2):\n",
      "    stress = load1.list_ply_stresses_xy[i*3 + 0]\n",
      "    print \"bottom  \", i+1, '{0:+.4}'.format(stress[0,0]), '{0:+.4}'.format(stress[1,0]), '{0:+.4}'.format(stress[2,0])\n",
      "    stress = load1.list_ply_stresses_xy[i*3 + 1]\n",
      "    print \"centroid\", i+1, '{0:+.4}'.format(stress[0,0]), '{0:+.4}'.format(stress[1,0]), '{0:+.4}'.format(stress[2,0])\n",
      "    stress = load1.list_ply_stresses_xy[i*3 + 2]\n",
      "    print \"top     \", i+1, '{0:+.4}'.format(stress[0,0]), '{0:+.4}'.format(stress[1,0]), '{0:+.4}'.format(stress[2,0])"
     ],
     "language": "python",
     "metadata": {},
     "outputs": [
      {
       "output_type": "stream",
       "stream": "stdout",
       "text": [
        "     layerNo sigmax     sigmay     sigmaxy\n",
        "bottom   1 -1.683e+04 -708.1 +1746.0\n",
        "centroid 1 +3.432e+04 -24.24 -560.4\n",
        "top      1 +8.546e+04 +659.6 -2867.0\n",
        "bottom   2 +1.093e+04 +853.6 +1616.0\n",
        "centroid 2 +1.568e+04 +24.24 +560.4\n",
        "top      2 +2.043e+04 -805.1 -495.2\n"
       ]
      }
     ],
     "prompt_number": 6
    },
    {
     "cell_type": "code",
     "collapsed": false,
     "input": [
      "print \"     layerNo\", \"eps11\", \"      eps22\", \"    gamma12\"\n",
      "for i in range (0, 2):\n",
      "    strain = load1.list_ply_strains_12[i*3 + 0]\n",
      "    print \"bottom  \", i+1, '{0:+.4}'.format(strain[0,0]), '{0:+.4}'.format(strain[1,0]), '{0:+.4}'.format(strain[2,0])\n",
      "    strain = load1.list_ply_strains_12[i*3 + 1]\n",
      "    print \"centroid\", i+1, '{0:+.4}'.format(strain[0,0]), '{0:+.4}'.format(strain[1,0]), '{0:+.4}'.format(strain[2,0])\n",
      "    strain = load1.list_ply_strains_12[i*3 + 2]\n",
      "    print \"top     \", i+1, '{0:+.4}'.format(strain[0,0]), '{0:+.4}'.format(strain[1,0]), '{0:+.4}'.format(strain[2,0])"
     ],
     "language": "python",
     "metadata": {},
     "outputs": [
      {
       "output_type": "stream",
       "stream": "stdout",
       "text": [
        "     layerNo eps11       eps22     gamma12\n",
        "bottom   1 -0.0008304 -0.000292 +0.001745\n",
        "centroid 1 +0.001715 -0.0005331 -0.0005598\n",
        "top      1 +0.004261 -0.0007743 -0.002864\n",
        "bottom   2 +0.0003112 +0.003176 -0.005035\n",
        "centroid 2 +0.0003112 +0.00548 -0.007822\n",
        "top      2 +0.0003112 +0.007785 -0.01061\n"
       ]
      }
     ],
     "prompt_number": 7
    },
    {
     "cell_type": "code",
     "collapsed": false,
     "input": [
      "print \"     layerNo\", \"sigma11\", \"      sigma22\", \"    tau12\"\n",
      "for i in range (0, 2):\n",
      "    stress = load1.list_ply_stresses_12[i*3 + 0]\n",
      "    print \"bottom  \", i+1, '{0:+.4}'.format(stress[0,0]), '{0:+.4e}'.format(stress[1,0]), '{0:+.4}'.format(stress[2,0])\n",
      "    stress = load1.list_ply_stresses_12[i*3 + 1]\n",
      "    print \"centroid\", i+1, '{0:+.4}'.format(stress[0,0]), '{0:+.4e}'.format(stress[1,0]), '{0:+.4}'.format(stress[2,0])\n",
      "    stress = load1.list_ply_stresses_12[i*3 + 2]\n",
      "    print \"top     \", i+1, '{0:+.4}'.format(stress[0,0]), '{0:+.4e}'.format(stress[1,0]), '{0:+.4}'.format(stress[2,0])\n",
      "    print"
     ],
     "language": "python",
     "metadata": {},
     "outputs": [
      {
       "output_type": "stream",
       "stream": "stdout",
       "text": [
        "     layerNo sigma11       sigma22     tau12\n",
        "bottom   1 -1.683e+04 -7.0810e+02 +1746.0\n",
        "centroid 1 +3.432e+04 -2.4244e+01 -560.4\n",
        "top      1 +8.546e+04 +6.5962e+02 -2867.0\n",
        "\n",
        "bottom   2 +7510.0 +4.2779e+03 -5040.0\n",
        "centroid 2 +8415.0 +7.2938e+03 -7830.0\n",
        "top      2 +9319.0 +1.0310e+04 -1.062e+04\n",
        "\n"
       ]
      }
     ],
     "prompt_number": 8
    }
   ],
   "metadata": {}
  }
 ]
}