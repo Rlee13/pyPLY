{
 "metadata": {
  "name": "SAPCM-ExPr4-p313"
 },
 "nbformat": 3,
 "nbformat_minor": 0,
 "worksheets": [
  {
   "cells": [
    {
     "cell_type": "heading",
     "level": 3,
     "metadata": {},
     "source": [
      "Example Problem 4 page 313 from Mark. E. Tuttle's \"Structural Analysis of Polymeric Composite Materials\", first edition."
     ]
    },
    {
     "cell_type": "code",
     "collapsed": false,
     "input": [
      "import pyPLY\n",
      "\n",
      "GraphiteEpoxy = pyPLY.CompositeMaterial()\n",
      "GraphiteEpoxy.define(\"GraphiteEpoxy\", \"metric\", E11=170e9, E22=10e9, G12=13e9, niu12=0.3, thk=0.125e-3,\n",
      "             Sigma_ut0 = 1500e6, Sigma_uc0 = 1200e6, Sigma_ut90 = 50e6, Sigma_uc90 = 100e6, Tau_u = 75e6,\n",
      "             alpha_11 = -0.9e-6, alpha_22 = 27.0e-6, beta_11 = 150e-6, beta_22 = 4800)\n",
      "\n",
      "layer1 = pyPLY.Lamina()\n",
      "layer2 = pyPLY.Lamina()\n",
      "layer3 = pyPLY.Lamina()\n",
      "\n",
      "layer1.define(\"Layer_1\", 1, 30)\n",
      "layer2.define(\"Layer_2\", 1, 0)\n",
      "layer3.define(\"Layer_3\", 1, 90)\n",
      "\n",
      "layer1.update()\n",
      "layer2.update()\n",
      "layer3.update()\n",
      "\n",
      "laminate1 = pyPLY.Laminate()\n",
      "laminate1.add_Lamina(layer1)\n",
      "laminate1.add_Lamina(layer2)\n",
      "laminate1.add_Lamina(layer3)\n",
      "\n",
      "laminate1.update()"
     ],
     "language": "python",
     "metadata": {},
     "outputs": [],
     "prompt_number": 1
    },
    {
     "cell_type": "heading",
     "level": 2,
     "metadata": {},
     "source": [
      "Results:"
     ]
    },
    {
     "cell_type": "heading",
     "level": 4,
     "metadata": {},
     "source": [
      "[ABD] matrix:"
     ]
    },
    {
     "cell_type": "code",
     "collapsed": false,
     "input": [
      "from pyPLYTools import LXMatrix\n",
      "from IPython.display import Latex\n",
      "\n",
      "Latex(\"$ABD = \" + LXMatrix(laminate1.ABD, '.3e', ipython=True) + \"$\")\n"
     ],
     "language": "python",
     "metadata": {},
     "outputs": [
      {
       "latex": [
        "$ABD = \\left[\\begin{array}{cccccc}\n",
        "\t3.608e+07 & 4.012e+06 & 6.017e+06 & -1.525e+03 & -3.601e+02 & -7.521e+02\\\\\n",
        "\t4.012e+06 & 2.602e+07 & 2.690e+06 & -3.601e+02 & 2.245e+03 & -3.362e+02\\\\\n",
        "\t6.017e+06 & 2.690e+06 & 7.756e+06 & -7.521e+02 & -3.362e+02 & -3.601e+02\\\\\n",
        "\t-1.525e+03 & -3.601e+02 & -7.521e+02 & 2.768e-01 & 6.202e-02 & 1.018e-01\\\\\n",
        "\t-3.601e+02 & 2.245e+03 & -3.362e+02 & 6.202e-02 & 4.208e-01 & 4.553e-02\\\\\n",
        "\t-7.521e+02 & -3.362e+02 & -3.601e+02 & 1.018e-01 & 4.553e-02 & 1.059e-01\n",
        "\t\\end{array}\\right]$"
       ],
       "output_type": "pyout",
       "prompt_number": 2,
       "text": [
        "<IPython.core.display.Latex at 0x5467270>"
       ]
      }
     ],
     "prompt_number": 2
    },
    {
     "cell_type": "heading",
     "level": 4,
     "metadata": {},
     "source": [
      "[abd] matrix:"
     ]
    },
    {
     "cell_type": "code",
     "collapsed": false,
     "input": [
      "Latex(\"$abd = \" + LXMatrix(laminate1.abd, '.3e', ipython=True) + \"$\")"
     ],
     "language": "python",
     "metadata": {},
     "outputs": [
      {
       "latex": [
        "$abd = \\left[\\begin{array}{cccccc}\n",
        "\t3.757e-08 & -1.964e-09 & -1.038e-08 & 1.440e-04 & 3.905e-06 & 8.513e-05\\\\\n",
        "\t-1.964e-09 & 1.037e-07 & -4.234e-08 & -1.866e-05 & -6.361e-04 & 4.628e-04\\\\\n",
        "\t-1.038e-08 & -4.234e-08 & 2.004e-07 & 3.661e-04 & 3.251e-04 & -1.851e-05\\\\\n",
        "\t1.440e-04 & -1.866e-05 & 3.661e-04 & 7.064e+00 & -3.122e-02 & -4.572e+00\\\\\n",
        "\t3.905e-06 & -6.361e-04 & 3.251e-04 & -3.122e-02 & 6.429e+00 & -3.620e+00\\\\\n",
        "\t8.513e-05 & 4.628e-04 & -1.851e-05 & -4.572e+00 & -3.620e+00 & 1.741e+01\n",
        "\t\\end{array}\\right]$"
       ],
       "output_type": "pyout",
       "prompt_number": 3,
       "text": [
        "<IPython.core.display.Latex at 0x545d930>"
       ]
      }
     ],
     "prompt_number": 3
    }
   ],
   "metadata": {}
  }
 ]
}