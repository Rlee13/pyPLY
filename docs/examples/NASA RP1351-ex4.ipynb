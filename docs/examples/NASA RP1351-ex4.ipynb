{
 "metadata": {
  "name": "NASA RP1351-ex4"
 },
 "nbformat": 3,
 "nbformat_minor": 0,
 "worksheets": [
  {
   "cells": [
    {
     "cell_type": "heading",
     "level": 3,
     "metadata": {},
     "source": [
      "Example 4 page 51 from \"Basic Mechanics of Laminated Composite Plates\""
     ]
    },
    {
     "cell_type": "heading",
     "level": 5,
     "metadata": {},
     "source": [
      "# A.T. Nettles <br>\n",
      "# NASA Reference Publication 1351"
     ]
    },
    {
     "cell_type": "code",
     "collapsed": false,
     "input": [
      "import pyPLY"
     ],
     "language": "python",
     "metadata": {},
     "outputs": [],
     "prompt_number": 1
    },
    {
     "cell_type": "code",
     "collapsed": false,
     "input": [
      "# define the material. An example on how to define material's extended properties.\n",
      "AS4_3501_6 = pyPLY.CompositeMaterial()\n",
      "AS4_3501_6.define(\"AS4_3501_6\", \"imperial\", E11=20010000.0, E22=1301000.0, G12=1001000.0, niu12=0.3, thk=0.005,\n",
      "             Sigma_ut0 = 616.0, Sigma_uc0 = 355.0, Sigma_ut90 = 42.0, Sigma_uc90 = 105.0, Tau_u = 50.0,\n",
      "             alpha_11 = -0.04e-6, alpha_22 = 18.0e-6, beta_11 = 0.01, beta_22 = 0.35)\n",
      "\n",
      "# define the ply's layers.\n",
      "layer1 = pyPLY.Lamina()\n",
      "layer2 = pyPLY.Lamina()\n",
      "layer3 = pyPLY.Lamina()\n",
      "layer4 = pyPLY.Lamina()\n",
      "\n",
      "# define the properties of each layer.\n",
      "# the parameters are \"layer's name\", \"material number\", \"ply angle\".\n",
      "layer1.define(\"Layer_1\", 1, 0)\n",
      "layer2.define(\"Layer_2\", 1, 45)\n",
      "layer3.define(\"Layer_3\", 1, 45)\n",
      "layer4.define(\"Layer_4\", 1, 0)\n",
      "\n",
      "# update the properties. Required after each change of properties.\n",
      "layer1.update()\n",
      "layer2.update()\n",
      "layer3.update()\n",
      "layer4.update()\n",
      "\n",
      "# add each defined layer to the laminate stack.\n",
      "laminate1 = pyPLY.Laminate()\n",
      "laminate1.add_Lamina(layer1)\n",
      "laminate1.add_Lamina(layer2)\n",
      "laminate1.add_Lamina(layer3)\n",
      "laminate1.add_Lamina(layer4)\n",
      "\n",
      "# update the properties. Required after each change of properties.\n",
      "laminate1.update()\n",
      "\n",
      "# define the loading case.\n",
      "# the parameters are Nx, Ny, Nz, Mx, My, Mz, DeltaT, DeltaM\n",
      "load1 = pyPLY.Loading()\n",
      "load1.define_Load(500,0,0,0,0,0,-155.6,0)\n",
      "load1.apply_To(laminate1)"
     ],
     "language": "python",
     "metadata": {},
     "outputs": [],
     "prompt_number": 2
    },
    {
     "cell_type": "code",
     "collapsed": false,
     "input": [
      "# after update one can print the laminate properties.\n",
      "print \"A = \", laminate1.A\n",
      "print \"B = \", laminate1.B\n"
     ],
     "language": "python",
     "metadata": {},
     "outputs": [
      {
       "output_type": "stream",
       "stream": "stdout",
       "text": [
        "A =  [[ 266841.87075194   49470.0519381    47047.80371499]\n",
        " [  49470.0519381    78650.65589197   47047.80371499]\n",
        " [  47047.80371499   47047.80371499   61638.10569193]]\n",
        "B =  [[  0.00000000e+00  -1.59872116e-14  -2.84217094e-14]\n",
        " [ -1.59872116e-14  -3.55271368e-14  -2.13162821e-14]\n",
        " [ -2.84217094e-14  -2.84217094e-14  -2.13162821e-14]]\n"
       ]
      }
     ],
     "prompt_number": 3
    },
    {
     "cell_type": "code",
     "collapsed": false,
     "input": [
      "# pretty print the ply strains and stresses in xy and 12 directions.\n",
      "# print the thermal induced load\n",
      "print \"Thermal Load = \", load1.thermal_load"
     ],
     "language": "python",
     "metadata": {},
     "outputs": [
      {
       "output_type": "stream",
       "stream": "stdout",
       "text": [
        "Thermal Load =  [[ -3.29288937e+01]\n",
        " [ -5.98142310e+01]\n",
        " [  1.34426686e+01]\n",
        " [  1.38777878e-17]\n",
        " [  2.77555756e-17]\n",
        " [ -6.93889390e-18]]\n"
       ]
      }
     ],
     "prompt_number": 4
    },
    {
     "cell_type": "code",
     "collapsed": false,
     "input": [
      "print \"epsilon_K = \", load1.epsilon_K"
     ],
     "language": "python",
     "metadata": {},
     "outputs": [
      {
       "output_type": "stream",
       "stream": "stdout",
       "text": [
        "epsilon_K =  [[  2.11376694e-03]\n",
        " [ -2.31016376e-03]\n",
        " [  3.67998136e-04]\n",
        " [ -5.43536681e-19]\n",
        " [ -9.17305206e-18]\n",
        " [ -8.54843925e-19]]\n"
       ]
      }
     ],
     "prompt_number": 5
    },
    {
     "cell_type": "code",
     "collapsed": false,
     "input": [
      "print \"     layerNo\", \"epsx\", \" epsy\", \" gammaxy\"\n",
      "for i in range (0, 4):\n",
      "    strain = load1.list_ply_strains_xy[i*3 + 0]\n",
      "    print \"bottom  \", i+1, '{0:+.4}'.format(strain[0,0]), '{0:+.4}'.format(strain[1,0]), '{0:+.4}'.format(strain[2,0])\n",
      "    strain = load1.list_ply_strains_xy[i*3 + 1]\n",
      "    print \"centroid\", i+1, '{0:+.4}'.format(strain[0,0]), '{0:+.4}'.format(strain[1,0]), '{0:+.4}'.format(strain[2,0])\n",
      "    strain = load1.list_ply_strains_xy[i*3 + 2]\n",
      "    print \"top     \", i+1, '{0:+.4}'.format(strain[0,0]), '{0:+.4}'.format(strain[1,0]), '{0:+.4}'.format(strain[2,0])\n"
     ],
     "language": "python",
     "metadata": {},
     "outputs": [
      {
       "output_type": "stream",
       "stream": "stdout",
       "text": [
        "     layerNo epsx  epsy  gammaxy\n",
        "bottom   1 +0.002114 -0.00231 +0.000368\n",
        "centroid 1 +0.002114 -0.00231 +0.000368\n",
        "top      1 +0.002114 -0.00231 +0.000368\n",
        "bottom   2 +0.002114 -0.00231 +0.000368\n",
        "centroid 2 +0.002114 -0.00231 +0.000368\n",
        "top      2 +0.002114 -0.00231 +0.000368\n",
        "bottom   3 +0.002114 -0.00231 +0.000368\n",
        "centroid 3 +0.002114 -0.00231 +0.000368\n",
        "top      3 +0.002114 -0.00231 +0.000368\n",
        "bottom   4 +0.002114 -0.00231 +0.000368\n",
        "centroid 4 +0.002114 -0.00231 +0.000368\n",
        "top      4 +0.002114 -0.00231 +0.000368\n"
       ]
      }
     ],
     "prompt_number": 6
    },
    {
     "cell_type": "code",
     "collapsed": false,
     "input": [
      "print \"     layerNo\", \"sigmax\", \"    sigmay\", \"    sigmaxy\"\n",
      "for i in range (0, 4):\n",
      "    stress = load1.list_ply_stresses_xy[i*3 + 0]\n",
      "    print \"bottom  \", i+1, '{0:+.4}'.format(stress[0,0]), '{0:+.4}'.format(stress[1,0]), '{0:+.4}'.format(stress[2,0])\n",
      "    stress = load1.list_ply_stresses_xy[i*3 + 1]\n",
      "    print \"centroid\", i+1, '{0:+.4}'.format(stress[0,0]), '{0:+.4}'.format(stress[1,0]), '{0:+.4}'.format(stress[2,0])\n",
      "    stress = load1.list_ply_stresses_xy[i*3 + 2]\n",
      "    print \"top     \", i+1, '{0:+.4}'.format(stress[0,0]), '{0:+.4}'.format(stress[1,0]), '{0:+.4}'.format(stress[2,0])"
     ],
     "language": "python",
     "metadata": {},
     "outputs": [
      {
       "output_type": "stream",
       "stream": "stdout",
       "text": [
        "     layerNo sigmax     sigmay     sigmaxy\n",
        "bottom   1 +4.261e+04 +1469.0 +368.4\n",
        "centroid 1 +4.261e+04 +1469.0 +368.4\n",
        "top      1 +4.261e+04 +1469.0 +368.4\n",
        "bottom   2 +7387.0 -1469.0 -368.4\n",
        "centroid 2 +7387.0 -1469.0 -368.4\n",
        "top      2 +7387.0 -1469.0 -368.4\n",
        "bottom   3 +7387.0 -1469.0 -368.4\n",
        "centroid 3 +7387.0 -1469.0 -368.4\n",
        "top      3 +7387.0 -1469.0 -368.4\n",
        "bottom   4 +4.261e+04 +1469.0 +368.4\n",
        "centroid 4 +4.261e+04 +1469.0 +368.4\n",
        "top      4 +4.261e+04 +1469.0 +368.4\n"
       ]
      }
     ],
     "prompt_number": 7
    },
    {
     "cell_type": "code",
     "collapsed": false,
     "input": [
      "print \"     layerNo\", \"eps11\", \"      eps22\", \"    gamma12\"\n",
      "for i in range (0, 4):\n",
      "    strain = load1.list_ply_strains_12[i*3 + 0]\n",
      "    print \"bottom  \", i+1, '{0:+.4}'.format(strain[0,0]), '{0:+.4}'.format(strain[1,0]), '{0:+.4}'.format(strain[2,0])\n",
      "    strain = load1.list_ply_strains_12[i*3 + 1]\n",
      "    print \"centroid\", i+1, '{0:+.4}'.format(strain[0,0]), '{0:+.4}'.format(strain[1,0]), '{0:+.4}'.format(strain[2,0])\n",
      "    strain = load1.list_ply_strains_12[i*3 + 2]\n",
      "    print \"top     \", i+1, '{0:+.4}'.format(strain[0,0]), '{0:+.4}'.format(strain[1,0]), '{0:+.4}'.format(strain[2,0])"
     ],
     "language": "python",
     "metadata": {},
     "outputs": [
      {
       "output_type": "stream",
       "stream": "stdout",
       "text": [
        "     layerNo eps11       eps22     gamma12\n",
        "bottom   1 +0.002114 -0.00231 +0.000368\n",
        "centroid 1 +0.002114 -0.00231 +0.000368\n",
        "top      1 +0.002114 -0.00231 +0.000368\n",
        "bottom   2 +8.58e-05 -0.0002822 -0.004424\n",
        "centroid 2 +8.58e-05 -0.0002822 -0.004424\n",
        "top      2 +8.58e-05 -0.0002822 -0.004424\n",
        "bottom   3 +8.58e-05 -0.0002822 -0.004424\n",
        "centroid 3 +8.58e-05 -0.0002822 -0.004424\n",
        "top      3 +8.58e-05 -0.0002822 -0.004424\n",
        "bottom   4 +0.002114 -0.00231 +0.000368\n",
        "centroid 4 +0.002114 -0.00231 +0.000368\n",
        "top      4 +0.002114 -0.00231 +0.000368\n"
       ]
      }
     ],
     "prompt_number": 8
    },
    {
     "cell_type": "code",
     "collapsed": false,
     "input": [
      "print \"     layerNo\", \"sigma11\", \"      sigma22\", \"    tau12\"\n",
      "for i in range (0, 4):\n",
      "    stress = load1.list_ply_stresses_12[i*3 + 0]\n",
      "    print \"bottom  \", i+1, '{0:+.4}'.format(stress[0,0]), '{0:+.4e}'.format(stress[1,0]), '{0:+.4}'.format(stress[2,0])\n",
      "    stress = load1.list_ply_stresses_12[i*3 + 1]\n",
      "    print \"centroid\", i+1, '{0:+.4}'.format(stress[0,0]), '{0:+.4e}'.format(stress[1,0]), '{0:+.4}'.format(stress[2,0])\n",
      "    stress = load1.list_ply_stresses_12[i*3 + 2]\n",
      "    print \"top     \", i+1, '{0:+.4}'.format(stress[0,0]), '{0:+.4e}'.format(stress[1,0]), '{0:+.4}'.format(stress[2,0])\n",
      "    print"
     ],
     "language": "python",
     "metadata": {},
     "outputs": [
      {
       "output_type": "stream",
       "stream": "stdout",
       "text": [
        "     layerNo sigma11       sigma22     tau12\n",
        "bottom   1 +4.261e+04 +1.4695e+03 +368.4\n",
        "centroid 1 +4.261e+04 +1.4695e+03 +368.4\n",
        "top      1 +4.261e+04 +1.4695e+03 +368.4\n",
        "\n",
        "bottom   2 +2590.0 +3.3272e+03 -4428.0\n",
        "centroid 2 +2590.0 +3.3272e+03 -4428.0\n",
        "top      2 +2590.0 +3.3272e+03 -4428.0\n",
        "\n",
        "bottom   3 +2590.0 +3.3272e+03 -4428.0\n",
        "centroid 3 +2590.0 +3.3272e+03 -4428.0\n",
        "top      3 +2590.0 +3.3272e+03 -4428.0\n",
        "\n",
        "bottom   4 +4.261e+04 +1.4695e+03 +368.4\n",
        "centroid 4 +4.261e+04 +1.4695e+03 +368.4\n",
        "top      4 +4.261e+04 +1.4695e+03 +368.4\n",
        "\n"
       ]
      }
     ],
     "prompt_number": 9
    }
   ],
   "metadata": {}
  }
 ]
}