{
 "metadata": {
  "name": "NASA RP1351-ex2"
 },
 "nbformat": 3,
 "nbformat_minor": 0,
 "worksheets": [
  {
   "cells": [
    {
     "cell_type": "heading",
     "level": 2,
     "metadata": {},
     "source": [
      "# Example 2 page 39 from \"Basic Mechanics of Laminated Composite Plates\"\n",
      "# A.T. Nettles\n",
      "# NASA Reference Publication 1351<br>\n",
      "# Note: the results presented in the above publication for matrix B components are incorrect."
     ]
    },
    {
     "cell_type": "code",
     "collapsed": false,
     "input": [
      "import pyPLY"
     ],
     "language": "python",
     "metadata": {},
     "outputs": [],
     "prompt_number": 1
    },
    {
     "cell_type": "heading",
     "level": 4,
     "metadata": {},
     "source": [
      "# define the material"
     ]
    },
    {
     "cell_type": "code",
     "collapsed": false,
     "input": [
      "AS4_3501_6 = pyPLY.CompositeMaterial()\n",
      "AS4_3501_6.define(\"AS4_3501_6\", \"imperial\", E11=20010000.0, E22=1301000.0, G12=1001000.0, niu12=0.3, thk=0.005)"
     ],
     "language": "python",
     "metadata": {},
     "outputs": [],
     "prompt_number": 2
    },
    {
     "cell_type": "heading",
     "level": 4,
     "metadata": {},
     "source": [
      "# define the ply's layers"
     ]
    },
    {
     "cell_type": "code",
     "collapsed": false,
     "input": [
      "layer1 = pyPLY.Lamina()\n",
      "layer2 = pyPLY.Lamina()"
     ],
     "language": "python",
     "metadata": {},
     "outputs": [],
     "prompt_number": 3
    },
    {
     "cell_type": "heading",
     "level": 4,
     "metadata": {},
     "source": [
      "# define the properties of each layer.<br>\n",
      "# The parameters are \"layer's name\", \"material number\", \"ply angle\""
     ]
    },
    {
     "cell_type": "code",
     "collapsed": false,
     "input": [
      "layer1.define(\"Layer_1\", 1, 0)\n",
      "layer2.define(\"Layer_2\", 1, 45)"
     ],
     "language": "python",
     "metadata": {},
     "outputs": [],
     "prompt_number": 4
    },
    {
     "cell_type": "heading",
     "level": 4,
     "metadata": {},
     "source": [
      "# update the properties. Required after each change of properties."
     ]
    },
    {
     "cell_type": "code",
     "collapsed": false,
     "input": [
      "layer1.update()\n",
      "layer2.update()"
     ],
     "language": "python",
     "metadata": {},
     "outputs": [],
     "prompt_number": 5
    },
    {
     "cell_type": "heading",
     "level": 4,
     "metadata": {},
     "source": [
      "# add each defined layer to the laminate stack"
     ]
    },
    {
     "cell_type": "code",
     "collapsed": false,
     "input": [
      "laminate1 = pyPLY.Laminate()\n",
      "laminate1.add_Lamina(layer1)\n",
      "laminate1.add_Lamina(layer2)"
     ],
     "language": "python",
     "metadata": {},
     "outputs": [],
     "prompt_number": 6
    },
    {
     "cell_type": "heading",
     "level": 4,
     "metadata": {},
     "source": [
      "# update the properties. Required after each change of properties."
     ]
    },
    {
     "cell_type": "code",
     "collapsed": false,
     "input": [
      "laminate1.update()\n",
      "\n",
      "from numpy import set_printoptions\n",
      "set_printoptions(suppress=True)\n",
      "# print the results\n",
      "print \"A = \", laminate1.A\n",
      "print \"B = \", laminate1.B\n",
      "print \"D = \", laminate1.D\n",
      "print \"Ex = \", '{0:10.0f}'.format(laminate1.Ex)"
     ],
     "language": "python",
     "metadata": {},
     "outputs": [
      {
       "output_type": "stream",
       "stream": "stdout",
       "text": [
        "A =  [[ 133420.93537597   24735.02596905   23523.9018575 ]\n",
        " [  24735.02596905   39325.32794599   23523.9018575 ]\n",
        " [  23523.9018575    23523.9018575    30819.05284596]]\n",
        "B =  [[-169.6421414    52.02263211   58.80975464]\n",
        " [  52.02263211   65.59687717   58.80975464]\n",
        " [  58.80975464   58.80975464   52.02263211]]\n",
        "D =  [[ 1.11184113  0.20612522  0.19603252]\n",
        " [ 0.20612522  0.32771107  0.19603252]\n",
        " [ 0.19603252  0.19603252  0.25682544]]\n",
        "Ex =     5867148\n"
       ]
      }
     ],
     "prompt_number": 7
    },
    {
     "cell_type": "code",
     "collapsed": false,
     "input": [
      "from pyPLYTools import LXMatrix\n",
      "from IPython.display import Latex\n",
      "\n",
      "Latex(\"$B = \" + LXMatrix(laminate1.B, '.3e', ipython=True) + \"$\")"
     ],
     "language": "python",
     "metadata": {},
     "outputs": [
      {
       "latex": [
        "$B = \\left[\\begin{array}{ccc}\n",
        "\t-1.696e+02 & 5.202e+01 & 5.881e+01\\\\\n",
        "\t5.202e+01 & 6.560e+01 & 5.881e+01\\\\\n",
        "\t5.881e+01 & 5.881e+01 & 5.202e+01\n",
        "\t\\end{array}\\right]$"
       ],
       "output_type": "pyout",
       "prompt_number": 8,
       "text": [
        "<IPython.core.display.Latex at 0x52344b0>"
       ]
      }
     ],
     "prompt_number": 8
    },
    {
     "cell_type": "code",
     "collapsed": false,
     "input": [
      "Latex(\"$D = \" + LXMatrix(laminate1.D, '.3e', ipython=True) + \"$\")"
     ],
     "language": "python",
     "metadata": {},
     "outputs": [
      {
       "latex": [
        "$D = \\left[\\begin{array}{ccc}\n",
        "\t1.112e+00 & 2.061e-01 & 1.960e-01\\\\\n",
        "\t2.061e-01 & 3.277e-01 & 1.960e-01\\\\\n",
        "\t1.960e-01 & 1.960e-01 & 2.568e-01\n",
        "\t\\end{array}\\right]$"
       ],
       "output_type": "pyout",
       "prompt_number": 9,
       "text": [
        "<IPython.core.display.Latex at 0x5227790>"
       ]
      }
     ],
     "prompt_number": 9
    },
    {
     "cell_type": "code",
     "collapsed": false,
     "input": [
      "Latex(\"$E_x = \" + '{0:10.0f}'.format(laminate1.Ex) + \"$\")"
     ],
     "language": "python",
     "metadata": {},
     "outputs": [
      {
       "latex": [
        "$E_x =    5867148$"
       ],
       "output_type": "pyout",
       "prompt_number": 10,
       "text": [
        "<IPython.core.display.Latex at 0x5227a50>"
       ]
      }
     ],
     "prompt_number": 10
    }
   ],
   "metadata": {}
  }
 ]
}