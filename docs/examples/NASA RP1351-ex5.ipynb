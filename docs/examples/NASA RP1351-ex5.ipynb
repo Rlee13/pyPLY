{
 "metadata": {
  "name": "NASA RP1351-ex5"
 },
 "nbformat": 3,
 "nbformat_minor": 0,
 "worksheets": [
  {
   "cells": [
    {
     "cell_type": "heading",
     "level": 2,
     "metadata": {},
     "source": [
      "# Example 5 page 53 from \"Basic Mechanics of Laminated Composite Plates\"\n",
      "# A.T. Nettles\n",
      "# NASA Reference Publication 1351"
     ]
    },
    {
     "cell_type": "code",
     "collapsed": false,
     "input": [
      "import pyPLY\n",
      "\n",
      "AS4_3501_6 = pyPLY.CompositeMaterial()\n",
      "AS4_3501_6.define(\"AS4_3501_6\", \"imperial\", E11=20010000.0, E22=1301000.0, G12=1001000.0, niu12=0.3, thk=0.005,\n",
      "             Sigma_ut0 = 616.0, Sigma_uc0 = 355.0, Sigma_ut90 = 42.0, Sigma_uc90 = 105.0, Tau_u = 50.0,\n",
      "             alpha_11 = -0.04e-6, alpha_22 = 18.0e-6, beta_11 = 0.01, beta_22 = 0.35)\n",
      "\n",
      "layer1 = pyPLY.Lamina()\n",
      "layer2 = pyPLY.Lamina()\n",
      "layer3 = pyPLY.Lamina()\n",
      "layer4 = pyPLY.Lamina()\n",
      "\n",
      "layer1.define(\"Layer_1\", 1, 0)\n",
      "layer2.define(\"Layer_2\", 1, 45)\n",
      "layer3.define(\"Layer_3\", 1, 45)\n",
      "layer4.define(\"Layer_4\", 1, 0)\n",
      "\n",
      "layer1.update()\n",
      "layer2.update()\n",
      "layer3.update()\n",
      "layer4.update()\n",
      "\n",
      "laminate1 = pyPLY.Laminate()\n",
      "laminate1.add_Lamina(layer1)\n",
      "laminate1.add_Lamina(layer2)\n",
      "laminate1.add_Lamina(layer3)\n",
      "laminate1.add_Lamina(layer4)\n",
      "\n",
      "laminate1.update()\n",
      "\n",
      "load1 = pyPLY.Loading()\n",
      "load1.define_Load(500,0,0,0,0,0,-155.6,0.007)\n",
      "load1.apply_To(laminate1)"
     ],
     "language": "python",
     "metadata": {},
     "outputs": [],
     "prompt_number": 1
    },
    {
     "cell_type": "code",
     "collapsed": false,
     "input": [
      "from numpy import set_printoptions\n",
      "set_printoptions(suppress=True)\n",
      "\n",
      "print \"self.thermal_load\"\n",
      "print load1.thermal_load\n"
     ],
     "language": "python",
     "metadata": {},
     "outputs": [
      {
       "output_type": "stream",
       "stream": "stdout",
       "text": [
        "self.thermal_load\n",
        "[[-32.92889373]\n",
        " [-59.814231  ]\n",
        " [ 13.44266864]\n",
        " [  0.        ]\n",
        " [  0.        ]\n",
        " [ -0.        ]]\n"
       ]
      }
     ],
     "prompt_number": 2
    },
    {
     "cell_type": "code",
     "collapsed": false,
     "input": [
      "print \"self.moisture_load\"\n",
      "print load1.moisture_load\n"
     ],
     "language": "python",
     "metadata": {},
     "outputs": [
      {
       "output_type": "stream",
       "stream": "stdout",
       "text": [
        "self.moisture_load\n",
        "[[ 51.73058536]\n",
        " [ 60.35943773]\n",
        " [ -4.31442619]\n",
        " [  0.        ]\n",
        " [ -0.        ]\n",
        " [  0.        ]]\n"
       ]
      }
     ],
     "prompt_number": 3
    },
    {
     "cell_type": "code",
     "collapsed": false,
     "input": [
      "print \"load1\"\n",
      "print load1.load\n"
     ],
     "language": "python",
     "metadata": {},
     "outputs": [
      {
       "output_type": "stream",
       "stream": "stdout",
       "text": [
        "load1\n",
        "[[ 518.80169163]\n",
        " [   0.54520673]\n",
        " [   9.12824245]\n",
        " [   0.        ]\n",
        " [  -0.        ]\n",
        " [  -0.        ]]\n"
       ]
      }
     ],
     "prompt_number": 4
    },
    {
     "cell_type": "code",
     "collapsed": false,
     "input": [
      "print \"load1.epsilon_K\"\n",
      "print load1.epsilon_K\n"
     ],
     "language": "python",
     "metadata": {},
     "outputs": [
      {
       "output_type": "stream",
       "stream": "stdout",
       "text": [
        "load1.epsilon_K\n",
        "[[ 0.00226746]\n",
        " [-0.00086961]\n",
        " [-0.00091887]\n",
        " [-0.        ]\n",
        " [-0.        ]\n",
        " [ 0.        ]]\n"
       ]
      }
     ],
     "prompt_number": 5
    },
    {
     "cell_type": "code",
     "collapsed": false,
     "input": [
      "print \"     layerNo\", \"epsx\", \" epsy\", \" gammaxy\"\n",
      "for i in range (0, 4):\n",
      "    strain = load1.list_ply_strains_xy[i*3 + 0]\n",
      "    print \"bottom  \", i+1, '{0:+.4}'.format(strain[0,0]), '{0:+.4}'.format(strain[1,0]), '{0:+.4}'.format(strain[2,0])\n",
      "    strain = load1.list_ply_strains_xy[i*3 + 1]\n",
      "    print \"centroid\", i+1, '{0:+.4}'.format(strain[0,0]), '{0:+.4}'.format(strain[1,0]), '{0:+.4}'.format(strain[2,0])\n",
      "    strain = load1.list_ply_strains_xy[i*3 + 2]\n",
      "    print \"top     \", i+1, '{0:+.4}'.format(strain[0,0]), '{0:+.4}'.format(strain[1,0]), '{0:+.4}'.format(strain[2,0])\n"
     ],
     "language": "python",
     "metadata": {},
     "outputs": [
      {
       "output_type": "stream",
       "stream": "stdout",
       "text": [
        "     layerNo epsx  epsy  gammaxy\n",
        "bottom   1 +0.002267 -0.0008696 -0.0009189\n",
        "centroid 1 +0.002267 -0.0008696 -0.0009189\n",
        "top      1 +0.002267 -0.0008696 -0.0009189\n",
        "bottom   2 +0.002267 -0.0008696 -0.0009189\n",
        "centroid 2 +0.002267 -0.0008696 -0.0009189\n",
        "top      2 +0.002267 -0.0008696 -0.0009189\n",
        "bottom   3 +0.002267 -0.0008696 -0.0009189\n",
        "centroid 3 +0.002267 -0.0008696 -0.0009189\n",
        "top      3 +0.002267 -0.0008696 -0.0009189\n",
        "bottom   4 +0.002267 -0.0008696 -0.0009189\n",
        "centroid 4 +0.002267 -0.0008696 -0.0009189\n",
        "top      4 +0.002267 -0.0008696 -0.0009189\n"
       ]
      }
     ],
     "prompt_number": 6
    },
    {
     "cell_type": "code",
     "collapsed": false,
     "input": [
      "print \"     layerNo\", \"sigmax\", \"  sigmay\", \"  sigmaxy\"\n",
      "for i in range (0, 4):\n",
      "    stress = load1.list_ply_stresses_xy[i*3 + 0]\n",
      "    print \"bottom  \", i+1, '{0:+.4}'.format(stress[0,0]), '{0:+.4}'.format(stress[1,0]), '{0:+.4}'.format(stress[2,0])\n",
      "    stress = load1.list_ply_stresses_xy[i*3 + 1]\n",
      "    print \"centroid\", i+1, '{0:+.4}'.format(stress[0,0]), '{0:+.4}'.format(stress[1,0]), '{0:+.4}'.format(stress[2,0])\n",
      "    stress = load1.list_ply_stresses_xy[i*3 + 2]\n",
      "    print \"top     \", i+1, '{0:+.4}'.format(stress[0,0]), '{0:+.4}'.format(stress[1,0]), '{0:+.4}'.format(stress[2,0])\n"
     ],
     "language": "python",
     "metadata": {},
     "outputs": [
      {
       "output_type": "stream",
       "stream": "stdout",
       "text": [
        "     layerNo sigmax   sigmay   sigmaxy\n",
        "bottom   1 +4.39e+04 +181.3 -919.8\n",
        "centroid 1 +4.39e+04 +181.3 -919.8\n",
        "top      1 +4.39e+04 +181.3 -919.8\n",
        "bottom   2 +6099.0 -181.3 +919.8\n",
        "centroid 2 +6099.0 -181.3 +919.8\n",
        "top      2 +6099.0 -181.3 +919.8\n",
        "bottom   3 +6099.0 -181.3 +919.8\n",
        "centroid 3 +6099.0 -181.3 +919.8\n",
        "top      3 +6099.0 -181.3 +919.8\n",
        "bottom   4 +4.39e+04 +181.3 -919.8\n",
        "centroid 4 +4.39e+04 +181.3 -919.8\n",
        "top      4 +4.39e+04 +181.3 -919.8\n"
       ]
      }
     ],
     "prompt_number": 7
    },
    {
     "cell_type": "code",
     "collapsed": false,
     "input": [
      "print \"     layerNo\", \"eps11\", \"    eps22\", \"  gamma12\"\n",
      "for i in range (0, 4):\n",
      "    strain = load1.list_ply_strains_12[i*3 + 0]\n",
      "    print \"bottom  \", i+1, '{0:+.4}'.format(strain[0,0]), '{0:+.4}'.format(strain[1,0]), '{0:+.4}'.format(strain[2,0])\n",
      "    strain = load1.list_ply_strains_12[i*3 + 1]\n",
      "    print \"centroid\", i+1, '{0:+.4}'.format(strain[0,0]), '{0:+.4}'.format(strain[1,0]), '{0:+.4}'.format(strain[2,0])\n",
      "    strain = load1.list_ply_strains_12[i*3 + 2]\n",
      "    print \"top     \", i+1, '{0:+.4}'.format(strain[0,0]), '{0:+.4}'.format(strain[1,0]), '{0:+.4}'.format(strain[2,0])\n"
     ],
     "language": "python",
     "metadata": {},
     "outputs": [
      {
       "output_type": "stream",
       "stream": "stdout",
       "text": [
        "     layerNo eps11     eps22   gamma12\n",
        "bottom   1 +0.002267 -0.0008696 -0.0009189\n",
        "centroid 1 +0.002267 -0.0008696 -0.0009189\n",
        "top      1 +0.002267 -0.0008696 -0.0009189\n",
        "bottom   2 +0.0002395 +0.001158 -0.003137\n",
        "centroid 2 +0.0002395 +0.001158 -0.003137\n",
        "top      2 +0.0002395 +0.001158 -0.003137\n",
        "bottom   3 +0.0002395 +0.001158 -0.003137\n",
        "centroid 3 +0.0002395 +0.001158 -0.003137\n",
        "top      3 +0.0002395 +0.001158 -0.003137\n",
        "bottom   4 +0.002267 -0.0008696 -0.0009189\n",
        "centroid 4 +0.002267 -0.0008696 -0.0009189\n",
        "top      4 +0.002267 -0.0008696 -0.0009189\n"
       ]
      }
     ],
     "prompt_number": 8
    },
    {
     "cell_type": "code",
     "collapsed": false,
     "input": [
      "print \"     layerNo\", \"sigma11\", \"    sigma22\", \"  tau12\"\n",
      "for i in range (0, 4):\n",
      "    stress = load1.list_ply_stresses_12[i*3 + 0]\n",
      "    print \"bottom  \", i+1, '{0:+.4}'.format(stress[0,0]), '{0:+.4e}'.format(stress[1,0]), '{0:+.4}'.format(stress[2,0])\n",
      "    stress = load1.list_ply_stresses_12[i*3 + 1]\n",
      "    print \"centroid\", i+1, '{0:+.4}'.format(stress[0,0]), '{0:+.4e}'.format(stress[1,0]), '{0:+.4}'.format(stress[2,0])\n",
      "    stress = load1.list_ply_stresses_12[i*3 + 2]\n",
      "    print \"top     \", i+1, '{0:+.4}'.format(stress[0,0]), '{0:+.4e}'.format(stress[1,0]), '{0:+.4}'.format(stress[2,0])\n",
      "    print"
     ],
     "language": "python",
     "metadata": {},
     "outputs": [
      {
       "output_type": "stream",
       "stream": "stdout",
       "text": [
        "     layerNo sigma11     sigma22   tau12\n",
        "bottom   1 +4.39e+04 +1.8133e+02 -919.8\n",
        "centroid 1 +4.39e+04 +1.8133e+02 -919.8\n",
        "top      1 +4.39e+04 +1.8133e+02 -919.8\n",
        "\n",
        "bottom   2 +3879.0 +2.0391e+03 -3140.0\n",
        "centroid 2 +3879.0 +2.0391e+03 -3140.0\n",
        "top      2 +3879.0 +2.0391e+03 -3140.0\n",
        "\n",
        "bottom   3 +3879.0 +2.0391e+03 -3140.0\n",
        "centroid 3 +3879.0 +2.0391e+03 -3140.0\n",
        "top      3 +3879.0 +2.0391e+03 -3140.0\n",
        "\n",
        "bottom   4 +4.39e+04 +1.8133e+02 -919.8\n",
        "centroid 4 +4.39e+04 +1.8133e+02 -919.8\n",
        "top      4 +4.39e+04 +1.8133e+02 -919.8\n",
        "\n"
       ]
      }
     ],
     "prompt_number": 9
    }
   ],
   "metadata": {}
  }
 ]
}