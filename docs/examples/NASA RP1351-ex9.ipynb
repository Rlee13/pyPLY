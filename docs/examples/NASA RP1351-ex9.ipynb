{
 "metadata": {
  "name": "NASA RP1351-ex9"
 },
 "nbformat": 3,
 "nbformat_minor": 0,
 "worksheets": [
  {
   "cells": [
    {
     "cell_type": "heading",
     "level": 2,
     "metadata": {},
     "source": [
      "# Example 9 page 73 from \"Basic Mechanics of Laminated Composite Plates\"\n",
      "# A.T. Nettles\n",
      "# NASA Reference Publication 1351\n",
      "#"
     ]
    },
    {
     "cell_type": "code",
     "collapsed": false,
     "input": [
      "import pyPLY\n",
      "\n",
      "AS4_3501_6 = pyPLY.CompositeMaterial()\n",
      "AS4_3501_6.define(\"AS4_3501_6\", \"imperial\", E11=20010000.0, E22=1301000.0, G12=1001000.0, niu12=0.3, thk=0.005,\n",
      "             Sigma_ut0 = 616.0, Sigma_uc0 = 355.0, Sigma_ut90 = 42.0, Sigma_uc90 = 105.0, Tau_u = 50.0,\n",
      "             alpha_11 = -0.072e-6, alpha_22 = 32.4e-6, beta_11 = 0.01, beta_22 = 0.35)\n",
      "\n",
      "layer1 = pyPLY.Lamina()\n",
      "layer2 = pyPLY.Lamina()\n",
      "layer3 = pyPLY.Lamina()\n",
      "\n",
      "layer1.define(\"Layer_1\", 1, 45)\n",
      "layer2.define(\"Layer_2\", 1, 0)\n",
      "layer3.define(\"Layer_3\", 1, 90)\n",
      "\n",
      "layer1.update()\n",
      "layer2.update()\n",
      "layer3.update()\n",
      "\n",
      "laminate1 = pyPLY.Laminate()\n",
      "laminate1.add_Lamina(layer1)\n",
      "laminate1.add_Lamina(layer2)\n",
      "laminate1.add_Lamina(layer3)\n",
      "\n",
      "laminate1.update()\n",
      "\n",
      "load1 = pyPLY.Loading()\n",
      "load1.define_Load(0,0,0,0,0,0,-280,0)\n",
      "load1.apply_To(laminate1)\n",
      "\n",
      "from numpy import set_printoptions\n",
      "set_printoptions(suppress=True)\n",
      "print \"A=\", laminate1.A"
     ],
     "language": "python",
     "metadata": {},
     "outputs": [
      {
       "output_type": "stream",
       "stream": "stdout",
       "text": [
        "A= [[ 139964.22391445   26698.0125306    23523.9018575 ]\n",
        " [  26698.0125306   139964.22391445   23523.9018575 ]\n",
        " [  23523.9018575    23523.9018575    35824.05284596]]\n"
       ]
      }
     ],
     "prompt_number": 1
    },
    {
     "cell_type": "code",
     "collapsed": false,
     "input": [
      "print \"B=\", laminate1.B"
     ],
     "language": "python",
     "metadata": {},
     "outputs": [
      {
       "output_type": "stream",
       "stream": "stdout",
       "text": [
        "B= [[-131.19375435 -104.04526423 -117.61950929]\n",
        " [-104.04526423  339.2842828  -117.61950929]\n",
        " [-117.61950929 -117.61950929 -104.04526423]]\n"
       ]
      }
     ],
     "prompt_number": 2
    },
    {
     "cell_type": "code",
     "collapsed": false,
     "input": [
      "print \"D=\", laminate1.D"
     ],
     "language": "python",
     "metadata": {},
     "outputs": [
      {
       "output_type": "stream",
       "stream": "stdout",
       "text": [
        "D= [[ 1.27472533  0.67399651  0.63710568]\n",
        " [ 0.67399651  3.62711552  0.63710568]\n",
        " [ 0.63710568  0.63710568  0.84510976]]\n"
       ]
      }
     ],
     "prompt_number": 3
    },
    {
     "cell_type": "code",
     "collapsed": false,
     "input": [
      "print \"load1.thermal_load=\", load1.thermal_load"
     ],
     "language": "python",
     "metadata": {},
     "outputs": [
      {
       "output_type": "stream",
       "stream": "stdout",
       "text": [
        "load1.thermal_load= [[-112.65071063]\n",
        " [-112.65071063]\n",
        " [  21.77090293]\n",
        " [  -0.10885451]\n",
        " [   0.10885451]\n",
        " [  -0.10885451]]\n"
       ]
      }
     ],
     "prompt_number": 4
    },
    {
     "cell_type": "code",
     "collapsed": false,
     "input": [
      "print \"load1.epsilon_K=\", load1.epsilon_K"
     ],
     "language": "python",
     "metadata": {},
     "outputs": [
      {
       "output_type": "stream",
       "stream": "stdout",
       "text": [
        "load1.epsilon_K= [[-0.00096564]\n",
        " [-0.00278451]\n",
        " [ 0.00241151]\n",
        " [-0.13569482]\n",
        " [ 0.47301349]\n",
        " [-0.60814219]]\n"
       ]
      }
     ],
     "prompt_number": 5
    },
    {
     "cell_type": "code",
     "collapsed": false,
     "input": [
      "print \"     layerNo\", \"epsx\", \" epsy\", \" gammaxy\"\n",
      "noPly = len(laminate1.ply_list)\n",
      "for i in range (0, noPly):\n",
      "    strain = load1.list_ply_strains_xy[i*3 + 0]\n",
      "    print \"bottom  \", i+1, '{0:+.4}'.format(strain[0,0]), '{0:+.4}'.format(strain[1,0]), '{0:+.4}'.format(strain[2,0])\n",
      "    strain = load1.list_ply_strains_xy[i*3 + 1]\n",
      "    print \"centroid\", i+1, '{0:+.4}'.format(strain[0,0]), '{0:+.4}'.format(strain[1,0]), '{0:+.4}'.format(strain[2,0])\n",
      "    strain = load1.list_ply_strains_xy[i*3 + 2]\n",
      "    print \"top     \", i+1, '{0:+.4}'.format(strain[0,0]), '{0:+.4}'.format(strain[1,0]), '{0:+.4}'.format(strain[2,0])"
     ],
     "language": "python",
     "metadata": {},
     "outputs": [
      {
       "output_type": "stream",
       "stream": "stdout",
       "text": [
        "     layerNo epsx  epsy  gammaxy\n",
        "bottom   1 +5.207e-05 -0.006332 +0.006973\n",
        "centroid 1 -0.0002872 -0.00515 +0.005452\n",
        "top      1 -0.0006264 -0.003967 +0.003932\n",
        "bottom   2 -0.0006264 -0.003967 +0.003932\n",
        "centroid 2 -0.0009656 -0.002785 +0.002412\n",
        "top      2 -0.001305 -0.001602 +0.0008912\n",
        "bottom   3 -0.001305 -0.001602 +0.0008912\n",
        "centroid 3 -0.001644 -0.0004194 -0.0006292\n",
        "top      3 -0.001983 +0.0007631 -0.00215\n"
       ]
      }
     ],
     "prompt_number": 6
    },
    {
     "cell_type": "code",
     "collapsed": false,
     "input": [
      "print \"     layerNo\", \"sigmax\", \"    sigmay\", \"    sigmaxy\"\n",
      "for i in range (0, noPly):\n",
      "    stress = load1.list_ply_stresses_xy[i*3 + 0]\n",
      "    print \"bottom  \", i+1, '{0:+.4}'.format(stress[0,0]), '{0:+.4}'.format(stress[1,0]), '{0:+.4}'.format(stress[2,0])\n",
      "    stress = load1.list_ply_stresses_xy[i*3 + 1]\n",
      "    print \"centroid\", i+1, '{0:+.4}'.format(stress[0,0]), '{0:+.4}'.format(stress[1,0]), '{0:+.4}'.format(stress[2,0])\n",
      "    stress = load1.list_ply_stresses_xy[i*3 + 2]\n",
      "    print \"top     \", i+1, '{0:+.4}'.format(stress[0,0]), '{0:+.4}'.format(stress[1,0]), '{0:+.4}'.format(stress[2,0])"
     ],
     "language": "python",
     "metadata": {},
     "outputs": [
      {
       "output_type": "stream",
       "stream": "stdout",
       "text": [
        "     layerNo sigmax     sigmay     sigmaxy\n",
        "bottom   1 +1.182e+04 -964.3 +2098.0\n",
        "centroid 1 +7825.0 -1909.0 -1784.0\n",
        "top      1 +3834.0 -2854.0 -5666.0\n",
        "bottom   2 -1.101e+04 +6427.0 +3936.0\n",
        "centroid 2 -1.737e+04 +7841.0 +2414.0\n",
        "top      2 -2.374e+04 +9255.0 +892.0\n",
        "bottom   3 +9528.0 -2.96e+04 +892.0\n",
        "centroid 3 +9548.0 -5932.0 -629.8\n",
        "top      3 +9568.0 +1.774e+04 -2152.0\n"
       ]
      }
     ],
     "prompt_number": 7
    },
    {
     "cell_type": "code",
     "collapsed": false,
     "input": [
      "print \"     layerNo\", \"eps11\", \"      eps22\", \"    gamma12\"\n",
      "for i in range (0, noPly):\n",
      "    strain = load1.list_ply_strains_12[i*3 + 0]\n",
      "    print \"bottom  \", i+1, '{0:+.4}'.format(strain[0,0]), '{0:+.4}'.format(strain[1,0]), '{0:+.4}'.format(strain[2,0])\n",
      "    strain = load1.list_ply_strains_12[i*3 + 1]\n",
      "    print \"centroid\", i+1, '{0:+.4}'.format(strain[0,0]), '{0:+.4}'.format(strain[1,0]), '{0:+.4}'.format(strain[2,0])\n",
      "    strain = load1.list_ply_strains_12[i*3 + 2]\n",
      "    print \"top     \", i+1, '{0:+.4}'.format(strain[0,0]), '{0:+.4}'.format(strain[1,0]), '{0:+.4}'.format(strain[2,0])"
     ],
     "language": "python",
     "metadata": {},
     "outputs": [
      {
       "output_type": "stream",
       "stream": "stdout",
       "text": [
        "     layerNo eps11       eps22     gamma12\n",
        "bottom   1 +0.0003463 -0.006626 -0.006384\n",
        "centroid 1 +7.738e-06 -0.005444 -0.004862\n",
        "top      1 -0.0003308 -0.004263 -0.003341\n",
        "bottom   2 -0.0006264 -0.003967 +0.003932\n",
        "centroid 2 -0.0009656 -0.002785 +0.002412\n",
        "top      2 -0.001305 -0.001602 +0.0008912\n",
        "bottom   3 -0.001602 -0.001305 -0.0008912\n",
        "centroid 3 -0.0004194 -0.001644 +0.0006292\n",
        "top      3 +0.0007631 -0.001983 +0.00215\n"
       ]
      }
     ],
     "prompt_number": 8
    },
    {
     "cell_type": "code",
     "collapsed": false,
     "input": [
      "print \"     layerNo\", \"sigma11\", \"      sigma22\", \"    tau12\"\n",
      "for i in range (0, noPly):\n",
      "    stress = load1.list_ply_stresses_12[i*3 + 0]\n",
      "    print \"bottom  \", i+1, '{0:+.4}'.format(stress[0,0]), '{0:+.4e}'.format(stress[1,0]), '{0:+.4}'.format(stress[2,0])\n",
      "    stress = load1.list_ply_stresses_12[i*3 + 1]\n",
      "    print \"centroid\", i+1, '{0:+.4}'.format(stress[0,0]), '{0:+.4e}'.format(stress[1,0]), '{0:+.4}'.format(stress[2,0])\n",
      "    stress = load1.list_ply_stresses_12[i*3 + 2]\n",
      "    print \"top     \", i+1, '{0:+.4}'.format(stress[0,0]), '{0:+.4e}'.format(stress[1,0]), '{0:+.4}'.format(stress[2,0])\n",
      "    print"
     ],
     "language": "python",
     "metadata": {},
     "outputs": [
      {
       "output_type": "stream",
       "stream": "stdout",
       "text": [
        "     layerNo sigma11       sigma22     tau12\n",
        "bottom   1 +7524.0 +3.3286e+03 -6391.0\n",
        "centroid 1 +1174.0 +4.7423e+03 -4867.0\n",
        "top      1 -5176.0 +6.1560e+03 -3344.0\n",
        "\n",
        "bottom   2 -1.101e+04 +6.4268e+03 +3936.0\n",
        "centroid 2 -1.737e+04 +7.8411e+03 +2414.0\n",
        "top      2 -2.374e+04 +9.2555e+03 +892.0\n",
        "\n",
        "bottom   3 -2.96e+04 +9.5277e+03 -892.0\n",
        "centroid 3 -5932.0 +9.5480e+03 +629.8\n",
        "top      3 +1.774e+04 +9.5683e+03 +2152.0\n",
        "\n"
       ]
      }
     ],
     "prompt_number": 9
    }
   ],
   "metadata": {}
  }
 ]
}