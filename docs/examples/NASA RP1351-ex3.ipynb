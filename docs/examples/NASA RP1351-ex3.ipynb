{
 "metadata": {
  "name": "NASA RP1351-ex3"
 },
 "nbformat": 3,
 "nbformat_minor": 0,
 "worksheets": [
  {
   "cells": [
    {
     "cell_type": "heading",
     "level": 2,
     "metadata": {},
     "source": [
      "# Example 3 page 46 from \"Basic Mechanics of Laminated Composite Plates\"\n",
      "# A.T. Nettles\n",
      "# NASA Reference Publication 1351\n",
      "# a result presented in the paper is wrong (sigma_y @ 45)."
     ]
    },
    {
     "cell_type": "code",
     "collapsed": false,
     "input": [
      "import pyPLY"
     ],
     "language": "python",
     "metadata": {},
     "outputs": [],
     "prompt_number": 1
    },
    {
     "cell_type": "heading",
     "level": 4,
     "metadata": {},
     "source": [
      "# define the material."
     ]
    },
    {
     "cell_type": "code",
     "collapsed": false,
     "input": [
      "AS4_3501_6 = pyPLY.CompositeMaterial()\n",
      "AS4_3501_6.define(\"AS4_3501_6\", \"imperial\", E11=20010000.0, E22=1301000.0, G12=1001000.0, niu12=0.3, thk=0.005)"
     ],
     "language": "python",
     "metadata": {},
     "outputs": [],
     "prompt_number": 2
    },
    {
     "cell_type": "heading",
     "level": 4,
     "metadata": {},
     "source": [
      "# define the ply's layers."
     ]
    },
    {
     "cell_type": "code",
     "collapsed": false,
     "input": [
      "layer1 = pyPLY.Lamina()\n",
      "layer2 = pyPLY.Lamina()\n",
      "layer3 = pyPLY.Lamina()\n",
      "layer4 = pyPLY.Lamina()"
     ],
     "language": "python",
     "metadata": {},
     "outputs": [],
     "prompt_number": 3
    },
    {
     "cell_type": "heading",
     "level": 4,
     "metadata": {},
     "source": [
      "# define the properties of each layer.<br>\n",
      "# the parameters are \"layer's name\", \"material number\", \"ply angle\"."
     ]
    },
    {
     "cell_type": "code",
     "collapsed": false,
     "input": [
      "layer1.define(\"Layer_1\", 1, 0)\n",
      "layer2.define(\"Layer_2\", 1, 45)\n",
      "layer3.define(\"Layer_3\", 1, 45)\n",
      "layer4.define(\"Layer_4\", 1, 0)"
     ],
     "language": "python",
     "metadata": {},
     "outputs": [],
     "prompt_number": 4
    },
    {
     "cell_type": "heading",
     "level": 4,
     "metadata": {},
     "source": [
      "# update the properties. Required after each change of properties."
     ]
    },
    {
     "cell_type": "code",
     "collapsed": false,
     "input": [
      "layer1.update()\n",
      "layer2.update()\n",
      "layer3.update()\n",
      "layer4.update()"
     ],
     "language": "python",
     "metadata": {},
     "outputs": [],
     "prompt_number": 5
    },
    {
     "cell_type": "heading",
     "level": 4,
     "metadata": {},
     "source": [
      "# add each defined layer to the laminate stack."
     ]
    },
    {
     "cell_type": "code",
     "collapsed": false,
     "input": [
      "laminate1 = pyPLY.Laminate()\n",
      "laminate1.add_Lamina(layer1)\n",
      "laminate1.add_Lamina(layer2)\n",
      "laminate1.add_Lamina(layer3)\n",
      "laminate1.add_Lamina(layer4)"
     ],
     "language": "python",
     "metadata": {},
     "outputs": [],
     "prompt_number": 6
    },
    {
     "cell_type": "heading",
     "level": 4,
     "metadata": {},
     "source": [
      "# update the properties. Required after each change of properties."
     ]
    },
    {
     "cell_type": "code",
     "collapsed": false,
     "input": [
      "laminate1.update()"
     ],
     "language": "python",
     "metadata": {},
     "outputs": [],
     "prompt_number": 7
    },
    {
     "cell_type": "heading",
     "level": 4,
     "metadata": {},
     "source": [
      "# define the loading case.<br>\n",
      "# the parameters are Nx, Ny, Nz, Mx, My, Mz"
     ]
    },
    {
     "cell_type": "code",
     "collapsed": false,
     "input": [
      "load1 = pyPLY.Loading()\n",
      "load1.define_Load(500,0,0,0,0,0)\n",
      "load1.apply_To(laminate1)"
     ],
     "language": "python",
     "metadata": {},
     "outputs": [],
     "prompt_number": 8
    },
    {
     "cell_type": "heading",
     "level": 4,
     "metadata": {},
     "source": [
      "# after update one can print the laminate properties."
     ]
    },
    {
     "cell_type": "code",
     "collapsed": false,
     "input": [
      "print \"A = \", laminate1.A\n",
      "print \"B = \", laminate1.B\n",
      "print \"D = \", laminate1.D"
     ],
     "language": "python",
     "metadata": {},
     "outputs": [
      {
       "output_type": "stream",
       "stream": "stdout",
       "text": [
        "A =  [[ 266841.87075194   49470.0519381    47047.80371499]\n",
        " [  49470.0519381    78650.65589197   47047.80371499]\n",
        " [  47047.80371499   47047.80371499   61638.10569193]]\n",
        "B =  [[  0.00000000e+00  -1.59872116e-14  -2.84217094e-14]\n",
        " [ -1.59872116e-14  -3.55271368e-14  -2.13162821e-14]\n",
        " [ -2.84217094e-14  -2.84217094e-14  -2.13162821e-14]]\n",
        "D =  [[ 12.28757185   0.60854909   0.39206503]\n",
        " [  0.60854909   1.30975099   0.39206503]\n",
        " [  0.39206503   0.39206503   1.01415088]]\n"
       ]
      }
     ],
     "prompt_number": 9
    },
    {
     "cell_type": "heading",
     "level": 4,
     "metadata": {},
     "source": [
      "# pretty print the ply strains and stresses in xy and 12 directions."
     ]
    },
    {
     "cell_type": "code",
     "collapsed": false,
     "input": [
      "from numpy import set_printoptions\n",
      "set_printoptions(suppress=True)\n",
      "\n",
      "print \"load1.epsilon_K = \", load1.epsilon_K"
     ],
     "language": "python",
     "metadata": {},
     "outputs": [
      {
       "output_type": "stream",
       "stream": "stdout",
       "text": [
        "load1.epsilon_K =  [[ 0.00220625]\n",
        " [-0.00069992]\n",
        " [-0.00114976]\n",
        " [-0.        ]\n",
        " [-0.        ]\n",
        " [ 0.        ]]\n"
       ]
      }
     ],
     "prompt_number": 10
    },
    {
     "cell_type": "code",
     "collapsed": false,
     "input": [
      "print \"     layerNo\", \"epsx\", \" epsy\", \" gammaxy\"\n",
      "for i in range (0, 4):\n",
      "    strain = load1.list_ply_strains_xy[i*3 + 0]\n",
      "    print \"bottom  \", i+1, '{0:+.4}'.format(strain[0,0]), '{0:+.4}'.format(strain[1,0]), '{0:+.4}'.format(strain[2,0])\n",
      "    strain = load1.list_ply_strains_xy[i*3 + 1]\n",
      "    print \"centroid\", i+1, '{0:+.4}'.format(strain[0,0]), '{0:+.4}'.format(strain[1,0]), '{0:+.4}'.format(strain[2,0])\n",
      "    strain = load1.list_ply_strains_xy[i*3 + 2]\n",
      "    print \"top     \", i+1, '{0:+.4}'.format(strain[0,0]), '{0:+.4}'.format(strain[1,0]), '{0:+.4}'.format(strain[2,0])"
     ],
     "language": "python",
     "metadata": {},
     "outputs": [
      {
       "output_type": "stream",
       "stream": "stdout",
       "text": [
        "     layerNo epsx  epsy  gammaxy\n",
        "bottom   1 +0.002206 -0.0006999 -0.00115\n",
        "centroid 1 +0.002206 -0.0006999 -0.00115\n",
        "top      1 +0.002206 -0.0006999 -0.00115\n",
        "bottom   2 +0.002206 -0.0006999 -0.00115\n",
        "centroid 2 +0.002206 -0.0006999 -0.00115\n",
        "top      2 +0.002206 -0.0006999 -0.00115\n",
        "bottom   3 +0.002206 -0.0006999 -0.00115\n",
        "centroid 3 +0.002206 -0.0006999 -0.00115\n",
        "top      3 +0.002206 -0.0006999 -0.00115\n",
        "bottom   4 +0.002206 -0.0006999 -0.00115\n",
        "centroid 4 +0.002206 -0.0006999 -0.00115\n",
        "top      4 +0.002206 -0.0006999 -0.00115\n"
       ]
      }
     ],
     "prompt_number": 11
    },
    {
     "cell_type": "code",
     "collapsed": false,
     "input": [
      "print \"     layerNo\", \"sigmax\", \"    sigmay\", \"    sigmaxy\"\n",
      "for i in range (0, 4):\n",
      "    stress = load1.list_ply_stresses_xy[i*3 + 0]\n",
      "    print \"bottom  \", i+1, '{0:+.4}'.format(stress[0,0]), '{0:+.4}'.format(stress[1,0]), '{0:+.4}'.format(stress[2,0])\n",
      "    stress = load1.list_ply_stresses_xy[i*3 + 1]\n",
      "    print \"centroid\", i+1, '{0:+.4}'.format(stress[0,0]), '{0:+.4}'.format(stress[1,0]), '{0:+.4}'.format(stress[2,0])\n",
      "    stress = load1.list_ply_stresses_xy[i*3 + 2]\n",
      "    print \"top     \", i+1, '{0:+.4}'.format(stress[0,0]), '{0:+.4}'.format(stress[1,0]), '{0:+.4}'.format(stress[2,0])"
     ],
     "language": "python",
     "metadata": {},
     "outputs": [
      {
       "output_type": "stream",
       "stream": "stdout",
       "text": [
        "     layerNo sigmax     sigmay     sigmaxy\n",
        "bottom   1 +4.413e+04 -49.79 -1151.0\n",
        "centroid 1 +4.413e+04 -49.79 -1151.0\n",
        "top      1 +4.413e+04 -49.79 -1151.0\n",
        "bottom   2 +5868.0 +49.79 +1151.0\n",
        "centroid 2 +5868.0 +49.79 +1151.0\n",
        "top      2 +5868.0 +49.79 +1151.0\n",
        "bottom   3 +5868.0 +49.79 +1151.0\n",
        "centroid 3 +5868.0 +49.79 +1151.0\n",
        "top      3 +5868.0 +49.79 +1151.0\n",
        "bottom   4 +4.413e+04 -49.79 -1151.0\n",
        "centroid 4 +4.413e+04 -49.79 -1151.0\n",
        "top      4 +4.413e+04 -49.79 -1151.0\n"
       ]
      }
     ],
     "prompt_number": 12
    },
    {
     "cell_type": "code",
     "collapsed": false,
     "input": [
      "print \"     layerNo\", \"eps11\", \"      eps22\", \"    gamma12\"\n",
      "for i in range (0, 4):\n",
      "    strain = load1.list_ply_strains_12[i*3 + 0]\n",
      "    print \"bottom  \", i+1, '{0:+.4}'.format(strain[0,0]), '{0:+.4}'.format(strain[1,0]), '{0:+.4}'.format(strain[2,0])\n",
      "    strain = load1.list_ply_strains_12[i*3 + 1]\n",
      "    print \"centroid\", i+1, '{0:+.4}'.format(strain[0,0]), '{0:+.4}'.format(strain[1,0]), '{0:+.4}'.format(strain[2,0])\n",
      "    strain = load1.list_ply_strains_12[i*3 + 2]\n",
      "    print \"top     \", i+1, '{0:+.4}'.format(strain[0,0]), '{0:+.4}'.format(strain[1,0]), '{0:+.4}'.format(strain[2,0])"
     ],
     "language": "python",
     "metadata": {},
     "outputs": [
      {
       "output_type": "stream",
       "stream": "stdout",
       "text": [
        "     layerNo eps11       eps22     gamma12\n",
        "bottom   1 +0.002206 -0.0006999 -0.00115\n",
        "centroid 1 +0.002206 -0.0006999 -0.00115\n",
        "top      1 +0.002206 -0.0006999 -0.00115\n",
        "bottom   2 +0.0001783 +0.001328 -0.002906\n",
        "centroid 2 +0.0001783 +0.001328 -0.002906\n",
        "top      2 +0.0001783 +0.001328 -0.002906\n",
        "bottom   3 +0.0001783 +0.001328 -0.002906\n",
        "centroid 3 +0.0001783 +0.001328 -0.002906\n",
        "top      3 +0.0001783 +0.001328 -0.002906\n",
        "bottom   4 +0.002206 -0.0006999 -0.00115\n",
        "centroid 4 +0.002206 -0.0006999 -0.00115\n",
        "top      4 +0.002206 -0.0006999 -0.00115\n"
       ]
      }
     ],
     "prompt_number": 13
    },
    {
     "cell_type": "code",
     "collapsed": false,
     "input": [
      "print \"     layerNo\", \"sigma11\", \"      sigma22\", \"    tau12\"\n",
      "for i in range (0, 4):\n",
      "    stress = load1.list_ply_stresses_12[i*3 + 0]\n",
      "    print \"bottom  \", i+1, '{0:+.4}'.format(stress[0,0]), '{0:+.4e}'.format(stress[1,0]), '{0:+.4}'.format(stress[2,0])\n",
      "    stress = load1.list_ply_stresses_12[i*3 + 1]\n",
      "    print \"centroid\", i+1, '{0:+.4}'.format(stress[0,0]), '{0:+.4e}'.format(stress[1,0]), '{0:+.4}'.format(stress[2,0])\n",
      "    stress = load1.list_ply_stresses_12[i*3 + 2]\n",
      "    print \"top     \", i+1, '{0:+.4}'.format(stress[0,0]), '{0:+.4e}'.format(stress[1,0]), '{0:+.4}'.format(stress[2,0])"
     ],
     "language": "python",
     "metadata": {},
     "outputs": [
      {
       "output_type": "stream",
       "stream": "stdout",
       "text": [
        "     layerNo sigma11       sigma22     tau12\n",
        "bottom   1 +4.413e+04 -4.9790e+01 -1151.0\n",
        "centroid 1 +4.413e+04 -4.9790e+01 -1151.0\n",
        "top      1 +4.413e+04 -4.9790e+01 -1151.0\n",
        "bottom   2 +4110.0 +1.8079e+03 -2909.0\n",
        "centroid 2 +4110.0 +1.8079e+03 -2909.0\n",
        "top      2 +4110.0 +1.8079e+03 -2909.0\n",
        "bottom   3 +4110.0 +1.8079e+03 -2909.0\n",
        "centroid 3 +4110.0 +1.8079e+03 -2909.0\n",
        "top      3 +4110.0 +1.8079e+03 -2909.0\n",
        "bottom   4 +4.413e+04 -4.9790e+01 -1151.0\n",
        "centroid 4 +4.413e+04 -4.9790e+01 -1151.0\n",
        "top      4 +4.413e+04 -4.9790e+01 -1151.0\n"
       ]
      }
     ],
     "prompt_number": 14
    }
   ],
   "metadata": {}
  }
 ]
}