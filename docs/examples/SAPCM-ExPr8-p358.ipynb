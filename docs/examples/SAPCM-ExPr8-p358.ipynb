{
 "metadata": {
  "name": "SAPCM-ExPr8-p358"
 },
 "nbformat": 3,
 "nbformat_minor": 0,
 "worksheets": [
  {
   "cells": [
    {
     "cell_type": "heading",
     "level": 3,
     "metadata": {},
     "source": [
      "Example Problem 8 page 358 from Mark. E. Tuttle's \"Structural Analysis of Polymeric Composite Materials\", first edition.\n"
     ]
    },
    {
     "cell_type": "code",
     "collapsed": false,
     "input": [
      "import pyPLY\n",
      "\n",
      "# see separate examples for details.\n",
      "\n",
      "GraphiteEpoxy = pyPLY.CompositeMaterial()\n",
      "GraphiteEpoxy.define(\"GraphiteEpoxy\", \"metric\", E11=170e9, E22=10e9, G12=13e9, niu12=0.3, thk=0.125e-3,\n",
      "             Sigma_ut0 = 1500e6, Sigma_uc0 = 1200e6, Sigma_ut90 = 50e6, Sigma_uc90 = 100e6, Tau_u = 75e6,\n",
      "             alpha_11 = -0.9e-6, alpha_22 = 27.0e-6, beta_11 = 150e-6, beta_22 = 4800e-6)\n",
      "\n",
      "layer1 = pyPLY.Lamina()\n",
      "layer2 = pyPLY.Lamina()\n",
      "layer3 = pyPLY.Lamina()\n",
      "layer4 = pyPLY.Lamina()\n",
      "layer5 = pyPLY.Lamina()\n",
      "layer6 = pyPLY.Lamina()\n",
      "\n",
      "layer1.define(\"Layer_1\", 1, 30)\n",
      "layer2.define(\"Layer_2\", 1, 0)\n",
      "layer3.define(\"Layer_3\", 1, 90)\n",
      "layer4.define(\"Layer_4\", 1, 90)\n",
      "layer5.define(\"Layer_5\", 1, 0)\n",
      "layer6.define(\"Layer_6\", 1, 30)\n",
      "\n",
      "layer1.update()\n",
      "layer2.update()\n",
      "layer3.update()\n",
      "layer4.update()\n",
      "layer5.update()\n",
      "layer6.update()\n",
      "\n",
      "laminate1 = pyPLY.Laminate()\n",
      "laminate1.add_Lamina(layer1)\n",
      "laminate1.add_Lamina(layer2)\n",
      "laminate1.add_Lamina(layer3)\n",
      "laminate1.add_Lamina(layer4)\n",
      "laminate1.add_Lamina(layer5)\n",
      "laminate1.add_Lamina(layer6)\n",
      "\n",
      "laminate1.update()"
     ],
     "language": "python",
     "metadata": {},
     "outputs": [],
     "prompt_number": 35
    },
    {
     "cell_type": "code",
     "collapsed": false,
     "input": [
      "load1 = pyPLY.Loading()\n",
      "load1.define_Load(0,0,0,0,0,0,-155,0.5)\n",
      "load1.apply_To(laminate1)"
     ],
     "language": "python",
     "metadata": {},
     "outputs": [],
     "prompt_number": 36
    },
    {
     "cell_type": "heading",
     "level": 3,
     "metadata": {},
     "source": [
      "Results:"
     ]
    },
    {
     "cell_type": "heading",
     "level": 4,
     "metadata": {},
     "source": [
      "[abd] matrix"
     ]
    },
    {
     "cell_type": "code",
     "collapsed": false,
     "input": [
      "from pyPLYTools import LXMatrix\n",
      "from IPython.display import Latex\n",
      "\n",
      "Latex(\"$abd = \" + LXMatrix(laminate1.abd, '.3e', ipython=True) + \"$\")"
     ],
     "language": "python",
     "metadata": {},
     "outputs": [
      {
       "latex": [
        "$abd = \\left[\\begin{array}{cccccc}\n",
        "\t1.599e-08 & -1.228e-09 & -1.198e-08 & 5.148e-21 & -3.559e-23 & -5.949e-21\\\\\n",
        "\t-1.228e-09 & 2.002e-08 & -5.992e-09 & -1.058e-21 & -6.310e-21 & 4.497e-21\\\\\n",
        "\t-1.198e-08 & -5.992e-09 & 7.584e-08 & -3.626e-21 & 2.216e-21 & 3.055e-21\\\\\n",
        "\t5.152e-21 & -2.632e-22 & -3.905e-21 & 3.510e-01 & -2.918e-02 & -3.918e-01\\\\\n",
        "\t-2.591e-21 & -6.180e-21 & 4.153e-21 & -2.918e-02 & 1.408e+00 & -6.957e-01\\\\\n",
        "\t-4.629e-21 & 3.508e-21 & 2.374e-21 & -3.918e-01 & -6.957e-01 & 1.788e+00\n",
        "\t\\end{array}\\right]$"
       ],
       "output_type": "pyout",
       "prompt_number": 37,
       "text": [
        "<IPython.core.display.Latex at 0x52e1e10>"
       ]
      }
     ],
     "prompt_number": 37
    },
    {
     "cell_type": "heading",
     "level": 4,
     "metadata": {},
     "source": [
      "[ABD] matrix"
     ]
    },
    {
     "cell_type": "code",
     "collapsed": false,
     "input": [
      "Latex(\"$ABD = \" + LXMatrix(laminate1.ABD, '.3e', ipython=True) + \"$\")"
     ],
     "language": "python",
     "metadata": {},
     "outputs": [
      {
       "latex": [
        "$ABD = \\left[\\begin{array}{cccccc}\n",
        "\t7.215e+07 & 8.024e+06 & 1.203e+07 & -9.095e-13 & 0.000e+00 & 0.000e+00\\\\\n",
        "\t8.024e+06 & 5.204e+07 & 5.380e+06 & 1.137e-13 & 2.274e-13 & 0.000e+00\\\\\n",
        "\t1.203e+07 & 5.380e+06 & 1.551e+07 & 0.000e+00 & 0.000e+00 & 0.000e+00\\\\\n",
        "\t-9.095e-13 & 0.000e+00 & 0.000e+00 & 4.234e+00 & 6.762e-01 & 1.191e+00\\\\\n",
        "\t1.137e-13 & 2.274e-13 & 0.000e+00 & 6.762e-01 & 9.875e-01 & 5.324e-01\\\\\n",
        "\t0.000e+00 & 0.000e+00 & 0.000e+00 & 1.191e+00 & 5.324e-01 & 1.027e+00\n",
        "\t\\end{array}\\right]$"
       ],
       "output_type": "pyout",
       "prompt_number": 38,
       "text": [
        "<IPython.core.display.Latex at 0x52e1d90>"
       ]
      }
     ],
     "prompt_number": 38
    },
    {
     "cell_type": "markdown",
     "metadata": {},
     "source": [
      "The effective extensional moduli of the laminate are:"
     ]
    },
    {
     "cell_type": "code",
     "collapsed": false,
     "input": [
      "Latex(\"$E_{x}^{ex} = \" + '{0:.3}'.format(laminate1.Ex) + \"$\") "
     ],
     "language": "python",
     "metadata": {},
     "outputs": [
      {
       "latex": [
        "$E_{x}^{ex} = 8.34e+10$"
       ],
       "output_type": "pyout",
       "prompt_number": 39,
       "text": [
        "<IPython.core.display.Latex at 0x52e1d10>"
       ]
      }
     ],
     "prompt_number": 39
    },
    {
     "cell_type": "code",
     "collapsed": false,
     "input": [
      "Latex(\"$E_{y}^{ex} = \" + '{0:.3}'.format(laminate1.Ey) + \"$\")"
     ],
     "language": "python",
     "metadata": {},
     "outputs": [
      {
       "latex": [
        "$E_{y}^{ex} = 6.66e+10$"
       ],
       "output_type": "pyout",
       "prompt_number": 40,
       "text": [
        "<IPython.core.display.Latex at 0x52e1d70>"
       ]
      }
     ],
     "prompt_number": 40
    },
    {
     "cell_type": "code",
     "collapsed": false,
     "input": [
      "Latex(\"$G_{xy}^{ex} = \" + '{0:.3}'.format(laminate1.Gxy) + \"$\")"
     ],
     "language": "python",
     "metadata": {},
     "outputs": [
      {
       "latex": [
        "$G_{xy}^{ex} = 1.76e+10$"
       ],
       "output_type": "pyout",
       "prompt_number": 41,
       "text": [
        "<IPython.core.display.Latex at 0x52e1db0>"
       ]
      }
     ],
     "prompt_number": 41
    },
    {
     "cell_type": "markdown",
     "metadata": {},
     "source": [
      "The flexural Poisson ratios and the flexural coefficients of mutual influence are:"
     ]
    },
    {
     "cell_type": "code",
     "collapsed": false,
     "input": [
      "Latex(\"$\\nu_{xy}^{fl} = \" + '{0:.3}'.format(laminate1.niuxyfl) + \"$\")"
     ],
     "language": "python",
     "metadata": {},
     "outputs": [
      {
       "latex": [
        "$\n",
        "u_{xy}^{fl} = 0.0831$"
       ],
       "output_type": "pyout",
       "prompt_number": 42,
       "text": [
        "<IPython.core.display.Latex at 0x52e1ed0>"
       ]
      }
     ],
     "prompt_number": 42
    },
    {
     "cell_type": "code",
     "collapsed": false,
     "input": [
      "Latex(\"$\\nu_{yx}^{fl} = \" + '{0:.3}'.format(laminate1.niuyxfl) + \"$\")"
     ],
     "language": "python",
     "metadata": {},
     "outputs": [
      {
       "latex": [
        "$\n",
        "u_{yx}^{fl} = 0.0207$"
       ],
       "output_type": "pyout",
       "prompt_number": 43,
       "text": [
        "<IPython.core.display.Latex at 0x52e1ef0>"
       ]
      }
     ],
     "prompt_number": 43
    }
   ],
   "metadata": {}
  }
 ]
}